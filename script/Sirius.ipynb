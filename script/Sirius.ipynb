{
 "cells": [
  {
   "cell_type": "markdown",
   "metadata": {},
   "source": [
    "## Fake News Detection"
   ]
  },
  {
   "cell_type": "markdown",
   "metadata": {},
   "source": [
    "Import libraries"
   ]
  },
  {
   "cell_type": "code",
   "execution_count": 132,
   "metadata": {},
   "outputs": [],
   "source": [
    "import pandas as pd\n",
    "import numpy as np\n",
    "import seaborn as sns\n",
    "import nltk\n",
    "from nltk import word_tokenize, WordPunctTokenizer\n",
    "from nltk.corpus import stopwords\n",
    "from sklearn.linear_model import PassiveAggressiveClassifier\n",
    "from sklearn.model_selection import train_test_split, GridSearchCV\n",
    "from sklearn.ensemble import RandomForestClassifier,GradientBoostingClassifier\n",
    "from sklearn.pipeline import Pipeline, make_pipeline\n",
    "from sklearn.feature_extraction.text import TfidfVectorizer, CountVectorizer, HashingVectorizer\n",
    "from sklearn.naive_bayes import MultinomialNB\n",
    "from sklearn.metrics import accuracy_score, confusion_matrix"
   ]
  },
  {
   "cell_type": "code",
   "execution_count": 74,
   "metadata": {},
   "outputs": [],
   "source": [
    "train = pd.read_csv('../data/fake_or_real_news_training.csv')\n",
    "# the submission data has no label\n",
    "submission = pd.read_csv('../data/fake_or_real_news_test.csv')"
   ]
  },
  {
   "cell_type": "markdown",
   "metadata": {},
   "source": [
    "First look at data"
   ]
  },
  {
   "cell_type": "code",
   "execution_count": 40,
   "metadata": {},
   "outputs": [
    {
     "data": {
      "text/html": [
       "<div>\n",
       "<style scoped>\n",
       "    .dataframe tbody tr th:only-of-type {\n",
       "        vertical-align: middle;\n",
       "    }\n",
       "\n",
       "    .dataframe tbody tr th {\n",
       "        vertical-align: top;\n",
       "    }\n",
       "\n",
       "    .dataframe thead th {\n",
       "        text-align: right;\n",
       "    }\n",
       "</style>\n",
       "<table border=\"1\" class=\"dataframe\">\n",
       "  <thead>\n",
       "    <tr style=\"text-align: right;\">\n",
       "      <th></th>\n",
       "      <th>ID</th>\n",
       "      <th>title</th>\n",
       "      <th>text</th>\n",
       "      <th>label</th>\n",
       "      <th>X1</th>\n",
       "      <th>X2</th>\n",
       "    </tr>\n",
       "  </thead>\n",
       "  <tbody>\n",
       "    <tr>\n",
       "      <th>0</th>\n",
       "      <td>8476</td>\n",
       "      <td>You Can Smell Hillary’s Fear</td>\n",
       "      <td>Daniel Greenfield, a Shillman Journalism Fello...</td>\n",
       "      <td>FAKE</td>\n",
       "      <td>NaN</td>\n",
       "      <td>NaN</td>\n",
       "    </tr>\n",
       "    <tr>\n",
       "      <th>1</th>\n",
       "      <td>10294</td>\n",
       "      <td>Watch The Exact Moment Paul Ryan Committed Pol...</td>\n",
       "      <td>Google Pinterest Digg Linkedin Reddit Stumbleu...</td>\n",
       "      <td>FAKE</td>\n",
       "      <td>NaN</td>\n",
       "      <td>NaN</td>\n",
       "    </tr>\n",
       "    <tr>\n",
       "      <th>2</th>\n",
       "      <td>3608</td>\n",
       "      <td>Kerry to go to Paris in gesture of sympathy</td>\n",
       "      <td>U.S. Secretary of State John F. Kerry said Mon...</td>\n",
       "      <td>REAL</td>\n",
       "      <td>NaN</td>\n",
       "      <td>NaN</td>\n",
       "    </tr>\n",
       "    <tr>\n",
       "      <th>3</th>\n",
       "      <td>10142</td>\n",
       "      <td>Bernie supporters on Twitter erupt in anger ag...</td>\n",
       "      <td>— Kaydee King (@KaydeeKing) November 9, 2016 T...</td>\n",
       "      <td>FAKE</td>\n",
       "      <td>NaN</td>\n",
       "      <td>NaN</td>\n",
       "    </tr>\n",
       "    <tr>\n",
       "      <th>4</th>\n",
       "      <td>875</td>\n",
       "      <td>The Battle of New York: Why This Primary Matters</td>\n",
       "      <td>It's primary day in New York and front-runners...</td>\n",
       "      <td>REAL</td>\n",
       "      <td>NaN</td>\n",
       "      <td>NaN</td>\n",
       "    </tr>\n",
       "  </tbody>\n",
       "</table>\n",
       "</div>"
      ],
      "text/plain": [
       "      ID                                              title  \\\n",
       "0   8476                       You Can Smell Hillary’s Fear   \n",
       "1  10294  Watch The Exact Moment Paul Ryan Committed Pol...   \n",
       "2   3608        Kerry to go to Paris in gesture of sympathy   \n",
       "3  10142  Bernie supporters on Twitter erupt in anger ag...   \n",
       "4    875   The Battle of New York: Why This Primary Matters   \n",
       "\n",
       "                                                text label   X1   X2  \n",
       "0  Daniel Greenfield, a Shillman Journalism Fello...  FAKE  NaN  NaN  \n",
       "1  Google Pinterest Digg Linkedin Reddit Stumbleu...  FAKE  NaN  NaN  \n",
       "2  U.S. Secretary of State John F. Kerry said Mon...  REAL  NaN  NaN  \n",
       "3  — Kaydee King (@KaydeeKing) November 9, 2016 T...  FAKE  NaN  NaN  \n",
       "4  It's primary day in New York and front-runners...  REAL  NaN  NaN  "
      ]
     },
     "execution_count": 40,
     "metadata": {},
     "output_type": "execute_result"
    }
   ],
   "source": [
    "train.head()"
   ]
  },
  {
   "cell_type": "markdown",
   "metadata": {},
   "source": [
    "We can see that two extra columns were created, X1 and X2. This is due to the fact that the title is not in quotes such that, if there is a comma in the title, it get's separated at that point and all the other column get shifted. The following cell will take care of that"
   ]
  },
  {
   "cell_type": "code",
   "execution_count": 41,
   "metadata": {},
   "outputs": [],
   "source": [
    "def rearrange(df):\n",
    "    for row in range(len(df)):\n",
    "        if not pd.isna(df.iloc[row, 5]):\n",
    "            # Concatenate according columns\n",
    "            df.iloc[row, 1] = df.iloc[row, 1] + df.iloc[row, 2] + df.iloc[row, 3]\n",
    "            df.iloc[row, 2] = df.iloc[row, 4]\n",
    "            df.iloc[row, 3] = df.iloc[row, 5]\n",
    "        elif not pd.isna(df.iloc[row, 4]):\n",
    "            df.iloc[row, 1] = df.iloc[row, 1] + df.iloc[row, 2]\n",
    "            df.iloc[row, 2] = df.iloc[row, 3]\n",
    "            df.iloc[row, 3] = df.iloc[row, 4]\n",
    "    df = df.drop(['X1', 'X2'], axis = 1)\n",
    "    return df\n",
    "\n",
    "train = rearrange(train)"
   ]
  },
  {
   "cell_type": "code",
   "execution_count": 42,
   "metadata": {},
   "outputs": [
    {
     "data": {
      "text/html": [
       "<div>\n",
       "<style scoped>\n",
       "    .dataframe tbody tr th:only-of-type {\n",
       "        vertical-align: middle;\n",
       "    }\n",
       "\n",
       "    .dataframe tbody tr th {\n",
       "        vertical-align: top;\n",
       "    }\n",
       "\n",
       "    .dataframe thead th {\n",
       "        text-align: right;\n",
       "    }\n",
       "</style>\n",
       "<table border=\"1\" class=\"dataframe\">\n",
       "  <thead>\n",
       "    <tr style=\"text-align: right;\">\n",
       "      <th></th>\n",
       "      <th>ID</th>\n",
       "      <th>title</th>\n",
       "      <th>text</th>\n",
       "      <th>label</th>\n",
       "    </tr>\n",
       "  </thead>\n",
       "  <tbody>\n",
       "    <tr>\n",
       "      <th>0</th>\n",
       "      <td>8476</td>\n",
       "      <td>You Can Smell Hillary’s Fear</td>\n",
       "      <td>Daniel Greenfield, a Shillman Journalism Fello...</td>\n",
       "      <td>FAKE</td>\n",
       "    </tr>\n",
       "    <tr>\n",
       "      <th>1</th>\n",
       "      <td>10294</td>\n",
       "      <td>Watch The Exact Moment Paul Ryan Committed Pol...</td>\n",
       "      <td>Google Pinterest Digg Linkedin Reddit Stumbleu...</td>\n",
       "      <td>FAKE</td>\n",
       "    </tr>\n",
       "    <tr>\n",
       "      <th>2</th>\n",
       "      <td>3608</td>\n",
       "      <td>Kerry to go to Paris in gesture of sympathy</td>\n",
       "      <td>U.S. Secretary of State John F. Kerry said Mon...</td>\n",
       "      <td>REAL</td>\n",
       "    </tr>\n",
       "    <tr>\n",
       "      <th>3</th>\n",
       "      <td>10142</td>\n",
       "      <td>Bernie supporters on Twitter erupt in anger ag...</td>\n",
       "      <td>— Kaydee King (@KaydeeKing) November 9, 2016 T...</td>\n",
       "      <td>FAKE</td>\n",
       "    </tr>\n",
       "    <tr>\n",
       "      <th>4</th>\n",
       "      <td>875</td>\n",
       "      <td>The Battle of New York: Why This Primary Matters</td>\n",
       "      <td>It's primary day in New York and front-runners...</td>\n",
       "      <td>REAL</td>\n",
       "    </tr>\n",
       "  </tbody>\n",
       "</table>\n",
       "</div>"
      ],
      "text/plain": [
       "      ID                                              title  \\\n",
       "0   8476                       You Can Smell Hillary’s Fear   \n",
       "1  10294  Watch The Exact Moment Paul Ryan Committed Pol...   \n",
       "2   3608        Kerry to go to Paris in gesture of sympathy   \n",
       "3  10142  Bernie supporters on Twitter erupt in anger ag...   \n",
       "4    875   The Battle of New York: Why This Primary Matters   \n",
       "\n",
       "                                                text label  \n",
       "0  Daniel Greenfield, a Shillman Journalism Fello...  FAKE  \n",
       "1  Google Pinterest Digg Linkedin Reddit Stumbleu...  FAKE  \n",
       "2  U.S. Secretary of State John F. Kerry said Mon...  REAL  \n",
       "3  — Kaydee King (@KaydeeKing) November 9, 2016 T...  FAKE  \n",
       "4  It's primary day in New York and front-runners...  REAL  "
      ]
     },
     "execution_count": 42,
     "metadata": {},
     "output_type": "execute_result"
    }
   ],
   "source": [
    "train.head()"
   ]
  },
  {
   "cell_type": "markdown",
   "metadata": {},
   "source": [
    "### EDA"
   ]
  },
  {
   "cell_type": "markdown",
   "metadata": {},
   "source": [
    "Proportion of fake-news:"
   ]
  },
  {
   "cell_type": "code",
   "execution_count": 43,
   "metadata": {},
   "outputs": [
    {
     "data": {
      "text/plain": [
       "0.4978744686171543"
      ]
     },
     "execution_count": 43,
     "metadata": {},
     "output_type": "execute_result"
    }
   ],
   "source": [
    "len(train.loc[train['label'] == 'FAKE'])/len(train)"
   ]
  },
  {
   "cell_type": "markdown",
   "metadata": {},
   "source": [
    "Explore phrase length"
   ]
  },
  {
   "cell_type": "code",
   "execution_count": 44,
   "metadata": {},
   "outputs": [
    {
     "data": {
      "text/plain": [
       "<matplotlib.axes._subplots.AxesSubplot at 0x1a20853550>"
      ]
     },
     "execution_count": 44,
     "metadata": {},
     "output_type": "execute_result"
    },
    {
     "data": {
      "image/png": "[encoded data removed]",
      "text/plain": [
       "<Figure size 432x288 with 1 Axes>"
      ]
     },
     "metadata": {
      "needs_background": "light"
     },
     "output_type": "display_data"
    }
   ],
   "source": [
    "text_len = pd.DataFrame([len(t) for t in train.text])\n",
    "sns.distplot(text_len)"
   ]
  },
  {
   "cell_type": "markdown",
   "metadata": {},
   "source": [
    "The distribution is highly skewed to the right."
   ]
  },
  {
   "cell_type": "markdown",
   "metadata": {},
   "source": [
    "### Baseline"
   ]
  },
  {
   "cell_type": "markdown",
   "metadata": {},
   "source": [
    "Run a baseline without further preprocessing using the countvectorizer, using the text only"
   ]
  },
  {
   "cell_type": "markdown",
   "metadata": {},
   "source": [
    "Split data into train and test set"
   ]
  },
  {
   "cell_type": "code",
   "execution_count": 45,
   "metadata": {},
   "outputs": [],
   "source": [
    "X_baseline, X_test_baseline, y_baseline, y_test_baseline = train_test_split(train['text'], train['label'],\n",
    "                                                                            test_size = 0.2, random_state = 7)"
   ]
  },
  {
   "cell_type": "markdown",
   "metadata": {},
   "source": [
    "Count-vectorize data:"
   ]
  },
  {
   "cell_type": "code",
   "execution_count": 36,
   "metadata": {},
   "outputs": [],
   "source": [
    "# Initiaulize countvectorizer\n",
    "count_vectorizer = CountVectorizer(stop_words='english')\n",
    "\n",
    "# Fit and transform \n",
    "count_train = count_vectorizer.fit_transform(X_baseline) \n",
    "\n",
    "# Transform the test set \n",
    "count_test = count_vectorizer.transform(X_test_baseline)"
   ]
  },
  {
   "cell_type": "markdown",
   "metadata": {},
   "source": [
    "Use Naive Bayes for a first classification"
   ]
  },
  {
   "cell_type": "code",
   "execution_count": 37,
   "metadata": {},
   "outputs": [],
   "source": [
    "MltNB = MultinomialNB() "
   ]
  },
  {
   "cell_type": "code",
   "execution_count": 46,
   "metadata": {},
   "outputs": [
    {
     "name": "stdout",
     "output_type": "stream",
     "text": [
      "accuracy:   0.886\n"
     ]
    },
    {
     "data": {
      "text/plain": [
       "array([[348,  57],\n",
       "       [ 34, 361]])"
      ]
     },
     "execution_count": 46,
     "metadata": {},
     "output_type": "execute_result"
    }
   ],
   "source": [
    "MltNB.fit(count_train, y_baseline)\n",
    "pred = MltNB.predict(count_test)\n",
    "acc = accuracy_score(y_test_baseline, pred)\n",
    "print(\"accuracy:   %0.3f\" % acc)\n",
    "\n",
    "confusion_matrix(y_test_baseline, pred, labels=['FAKE', 'REAL'])"
   ]
  },
  {
   "cell_type": "markdown",
   "metadata": {},
   "source": [
    "### Tuning Model\n",
    "1. Different Model\n",
    "2. More Process on Data\n",
    "3. Tuning Parameters\n",
    "4. Additional thoughts: can we add another model to predicit base on news' title, then ensemble both models to make a final prediction?"
   ]
  },
  {
   "cell_type": "markdown",
   "metadata": {},
   "source": [
    "TfidfVectorizer"
   ]
  },
  {
   "cell_type": "code",
   "execution_count": 69,
   "metadata": {},
   "outputs": [],
   "source": [
    "# can tune max_df later\n",
    "tfidf_vectorizer = TfidfVectorizer(stop_words='english', max_df=0.8, norm='l2')\n",
    "# transform data\n",
    "tfidf_train = tfidf_vectorizer.fit_transform(X_baseline)\n",
    "tfidf_test = tfidf_vectorizer.transform(X_test_baseline)"
   ]
  },
  {
   "cell_type": "code",
   "execution_count": 70,
   "metadata": {},
   "outputs": [
    {
     "name": "stdout",
     "output_type": "stream",
     "text": [
      "accuracy:   0.904\n"
     ]
    },
    {
     "data": {
      "text/plain": [
       "array([[347,  58],\n",
       "       [ 19, 376]])"
      ]
     },
     "execution_count": 70,
     "metadata": {},
     "output_type": "execute_result"
    }
   ],
   "source": [
    "MltNB_TFIDF = MultinomialNB(alpha=0.1) \n",
    "MltNB_TFIDF.fit(tfidf_train, y_baseline)\n",
    "pred_TFIDF = MltNB_TFIDF.predict(tfidf_test)\n",
    "acc_TFIDF = accuracy_score(y_test_baseline, pred_TFIDF)\n",
    "print(\"accuracy:   %0.3f\" % acc_TFIDF)\n",
    "\n",
    "confusion_matrix(y_test_baseline, pred_TFIDF, labels=['FAKE', 'REAL'])"
   ]
  },
  {
   "cell_type": "markdown",
   "metadata": {},
   "source": [
    "### Re-Process Data"
   ]
  },
  {
   "cell_type": "code",
   "execution_count": 84,
   "metadata": {},
   "outputs": [],
   "source": [
    "def prepare_data(data):\n",
    "    \"\"\"\n",
    "    processing data, on text and title\n",
    "    \"\"\"\n",
    "    # fix X1 X2 issue\n",
    "    data = rearrange(data)\n",
    "    # tokenize the title and text\n",
    "    data['title'] = data.title.apply(lambda x:\" \".join(word_tokenize(x.lower())))\n",
    "    data['text'] = data.text.apply(lambda x:\" \".join(word_tokenize(x.lower())))\n",
    "    # convert the target variable to 0 and 1\n",
    "    data.label = data.label.apply(lambda x:1 if x == 'REAL' else 0)\n",
    "    return data"
   ]
  },
  {
   "cell_type": "code",
   "execution_count": 182,
   "metadata": {},
   "outputs": [],
   "source": [
    "# reload data\n",
    "train_0 = pd.read_csv('../data/fake_or_real_news_training.csv')\n",
    "train_1 = prepare_data(train_0)"
   ]
  },
  {
   "cell_type": "code",
   "execution_count": 183,
   "metadata": {},
   "outputs": [],
   "source": [
    "# split data\n",
    "def split_data(data, feature='text'):\n",
    "    X_train, X_test, y_train, y_test = train_test_split(data[feature], data['label'],\n",
    "                                                        test_size = 0.2, random_state = 7)\n",
    "    return X_train, X_test, y_train, y_test"
   ]
  },
  {
   "cell_type": "code",
   "execution_count": 159,
   "metadata": {},
   "outputs": [],
   "source": [
    "# vectorize\n",
    "def vectorize_select(selection=\"tfidf\", max_df=0.8):\n",
    "    \"\"\"\n",
    "    \"tfidf\":\"TfidVectorizer\"\n",
    "    \"count\":\"CountVectorizer\"\n",
    "    \"hash\":\"HashingVectorizer\"\n",
    "    \"\"\"\n",
    "    if selection == \"tfidf\":\n",
    "        return TfidfVectorizer(stop_words='english', max_df=max_df)\n",
    "    elif selection == \"count\":\n",
    "        return CountVectorizer(stop_words='english', max_df=max_df)\n",
    "    elif selection == \"hash\":\n",
    "        return HashingVectorizer(stop_words='english')\n",
    "    else:\n",
    "        raise Exception(\"{} can't be found\".format(selection))\n"
   ]
  },
  {
   "cell_type": "markdown",
   "metadata": {},
   "source": [
    "#### Naive Bayes"
   ]
  },
  {
   "cell_type": "code",
   "execution_count": 168,
   "metadata": {},
   "outputs": [],
   "source": [
    "# ti-idf vectorize MultinomialNB model\n",
    "def nb_model(data,selection='tfidf',vectorize_max_df=0.8):\n",
    "    # split data\n",
    "    X_train, X_test, y_train, y_test = split_data(data)\n",
    "    \n",
    "    # vectorizer: selection: 'tfidf','count','hash'\n",
    "    vectorizer = vectorize_select(selection, max_df=vectorize_max_df)\n",
    "    # transform data\n",
    "    vectorize_train = vectorizer.fit_transform(X_train)\n",
    "    vectorize_test = vectorizer.transform(X_test)\n",
    "\n",
    "    # model \n",
    "    MltNB = MultinomialNB(alpha=0.1) \n",
    "    MltNB.fit(tfidf_train, y_train)\n",
    "    pred = MltNB.predict(tfidf_test)\n",
    "    acc = accuracy_score(y_test, pred)\n",
    "    print(\"accuracy:   %0.3f\" % acc)\n",
    "    print(confusion_matrix(y_test, pred, labels=[0, 1]))\n",
    "    \n",
    "    return MltNB"
   ]
  },
  {
   "cell_type": "code",
   "execution_count": 169,
   "metadata": {},
   "outputs": [
    {
     "name": "stdout",
     "output_type": "stream",
     "text": [
      "accuracy:   0.904\n",
      "[[347  58]\n",
      " [ 19 376]]\n"
     ]
    },
    {
     "data": {
      "text/plain": [
       "MultinomialNB(alpha=0.1, class_prior=None, fit_prior=True)"
      ]
     },
     "execution_count": 169,
     "metadata": {},
     "output_type": "execute_result"
    }
   ],
   "source": [
    "nb_model(train_1,'tfidf',0.8)"
   ]
  },
  {
   "cell_type": "code",
   "execution_count": 170,
   "metadata": {},
   "outputs": [
    {
     "name": "stdout",
     "output_type": "stream",
     "text": [
      "accuracy:   0.904\n",
      "[[347  58]\n",
      " [ 19 376]]\n"
     ]
    },
    {
     "data": {
      "text/plain": [
       "MultinomialNB(alpha=0.1, class_prior=None, fit_prior=True)"
      ]
     },
     "execution_count": 170,
     "metadata": {},
     "output_type": "execute_result"
    }
   ],
   "source": [
    "nb_model(train_1,'hash',0.8)"
   ]
  },
  {
   "cell_type": "code",
   "execution_count": 171,
   "metadata": {},
   "outputs": [
    {
     "name": "stdout",
     "output_type": "stream",
     "text": [
      "accuracy:   0.904\n",
      "[[347  58]\n",
      " [ 19 376]]\n"
     ]
    },
    {
     "data": {
      "text/plain": [
       "MultinomialNB(alpha=0.1, class_prior=None, fit_prior=True)"
      ]
     },
     "execution_count": 171,
     "metadata": {},
     "output_type": "execute_result"
    }
   ],
   "source": [
    "nb_model(train_1,'count',0.8)"
   ]
  },
  {
   "cell_type": "markdown",
   "metadata": {},
   "source": [
    "### Other Models\n"
   ]
  },
  {
   "cell_type": "markdown",
   "metadata": {},
   "source": [
    "#### Random Forest"
   ]
  },
  {
   "cell_type": "code",
   "execution_count": 172,
   "metadata": {},
   "outputs": [],
   "source": [
    "# ti-idf vectorize rf model\n",
    "def rf_model(data,selection='tfidf',vectorize_max_df=0.8):\n",
    "    # split data\n",
    "    X_train, X_test, y_train, y_test = split_data(data)\n",
    "    \n",
    "    # vectorizer: selection: 'tfidf','count','hash'\n",
    "    vectorizer = vectorize_select(selection, max_df=vectorize_max_df)\n",
    "    # transform data\n",
    "    vectorize_train = vectorizer.fit_transform(X_train)\n",
    "    vectorize_test = vectorizer.transform(X_test)\n",
    "    \n",
    "    # pipeline\n",
    "    estimators = [('RF',RandomForestClassifier(random_state=666,n_estimators=100,max_depth=20))]\n",
    "    pipe = Pipeline(estimators)\n",
    "    param_RF = {'RF__max_depth': [20,25],\n",
    "                'RF__n_estimators': [100,150]}\n",
    "    \n",
    "    # apply the estimators and parameters in pipeline\n",
    "    gridPipe = GridSearchCV(pipe, param_RF, cv=5, return_train_score=True)\n",
    "    model = gridPipe.fit(vectorize_train, y_train)\n",
    "\n",
    "    pred = model.predict(vectorize_test)\n",
    "    acc = accuracy_score(y_test, pred)\n",
    "    print(\"accuracy:   %0.3f\" % acc)\n",
    "    print(confusion_matrix(y_test, pred, labels=[0, 1]))\n",
    "    \n",
    "    return model"
   ]
  },
  {
   "cell_type": "code",
   "execution_count": 173,
   "metadata": {},
   "outputs": [
    {
     "name": "stdout",
     "output_type": "stream",
     "text": [
      "accuracy:   0.916\n",
      "[[380  25]\n",
      " [ 42 353]]\n"
     ]
    },
    {
     "data": {
      "text/plain": [
       "GridSearchCV(cv=5, error_score='raise-deprecating',\n",
       "       estimator=Pipeline(memory=None,\n",
       "     steps=[('RF', RandomForestClassifier(bootstrap=True, class_weight=None, criterion='gini',\n",
       "            max_depth=20, max_features='auto', max_leaf_nodes=None,\n",
       "            min_impurity_decrease=0.0, min_impurity_split=None,\n",
       "            min_samples_leaf=1, min_samples_split=2,\n",
       "            min_weight_fraction_leaf=0.0, n_estimators=100, n_jobs=None,\n",
       "            oob_score=False, random_state=666, verbose=0, warm_start=False))]),\n",
       "       fit_params=None, iid='warn', n_jobs=None,\n",
       "       param_grid={'RF__max_depth': [20, 25], 'RF__n_estimators': [100, 150]},\n",
       "       pre_dispatch='2*n_jobs', refit=True, return_train_score=True,\n",
       "       scoring=None, verbose=0)"
      ]
     },
     "execution_count": 173,
     "metadata": {},
     "output_type": "execute_result"
    }
   ],
   "source": [
    "rf_model(train_1,'tfidf',0.8)"
   ]
  },
  {
   "cell_type": "code",
   "execution_count": 176,
   "metadata": {},
   "outputs": [
    {
     "name": "stdout",
     "output_type": "stream",
     "text": [
      "accuracy:   0.881\n",
      "[[369  36]\n",
      " [ 59 336]]\n"
     ]
    },
    {
     "data": {
      "text/plain": [
       "GridSearchCV(cv=5, error_score='raise-deprecating',\n",
       "       estimator=Pipeline(memory=None,\n",
       "     steps=[('RF', RandomForestClassifier(bootstrap=True, class_weight=None, criterion='gini',\n",
       "            max_depth=20, max_features='auto', max_leaf_nodes=None,\n",
       "            min_impurity_decrease=0.0, min_impurity_split=None,\n",
       "            min_samples_leaf=1, min_samples_split=2,\n",
       "            min_weight_fraction_leaf=0.0, n_estimators=100, n_jobs=None,\n",
       "            oob_score=False, random_state=666, verbose=0, warm_start=False))]),\n",
       "       fit_params=None, iid='warn', n_jobs=None,\n",
       "       param_grid={'RF__max_depth': [20, 25], 'RF__n_estimators': [100, 150]},\n",
       "       pre_dispatch='2*n_jobs', refit=True, return_train_score=True,\n",
       "       scoring=None, verbose=0)"
      ]
     },
     "execution_count": 176,
     "metadata": {},
     "output_type": "execute_result"
    }
   ],
   "source": [
    "rf_model(train_1,'hash',0.8)"
   ]
  },
  {
   "cell_type": "code",
   "execution_count": 177,
   "metadata": {},
   "outputs": [
    {
     "name": "stdout",
     "output_type": "stream",
     "text": [
      "accuracy:   0.901\n",
      "[[373  32]\n",
      " [ 47 348]]\n"
     ]
    },
    {
     "data": {
      "text/plain": [
       "GridSearchCV(cv=5, error_score='raise-deprecating',\n",
       "       estimator=Pipeline(memory=None,\n",
       "     steps=[('RF', RandomForestClassifier(bootstrap=True, class_weight=None, criterion='gini',\n",
       "            max_depth=20, max_features='auto', max_leaf_nodes=None,\n",
       "            min_impurity_decrease=0.0, min_impurity_split=None,\n",
       "            min_samples_leaf=1, min_samples_split=2,\n",
       "            min_weight_fraction_leaf=0.0, n_estimators=100, n_jobs=None,\n",
       "            oob_score=False, random_state=666, verbose=0, warm_start=False))]),\n",
       "       fit_params=None, iid='warn', n_jobs=None,\n",
       "       param_grid={'RF__max_depth': [20, 25], 'RF__n_estimators': [100, 150]},\n",
       "       pre_dispatch='2*n_jobs', refit=True, return_train_score=True,\n",
       "       scoring=None, verbose=0)"
      ]
     },
     "execution_count": 177,
     "metadata": {},
     "output_type": "execute_result"
    }
   ],
   "source": [
    "rf_model(train_1,'count',0.8)"
   ]
  },
  {
   "cell_type": "markdown",
   "metadata": {},
   "source": [
    "#### Passive Aggressive Classifier"
   ]
  },
  {
   "cell_type": "code",
   "execution_count": 194,
   "metadata": {},
   "outputs": [],
   "source": [
    "def PAC(data, selection='tfidf', vectorize_max_df=0.8, feature='text'):\n",
    "    # split data\n",
    "    X_train, X_test, y_train, y_test = split_data(data, feature=feature)\n",
    "    # vectorizer: selection: 'tfidf','count','hash'\n",
    "    vectorizer = vectorize_select(selection, max_df=vectorize_max_df)\n",
    "    # transform data\n",
    "    vectorize_train = vectorizer.fit_transform(X_train)\n",
    "    vectorize_test = vectorizer.transform(X_test)\n",
    "    # model \n",
    "    linear_clf = PassiveAggressiveClassifier(random_state=666, max_iter=100, tol=1e-3,\n",
    "                                             early_stopping=True, validation_fraction=0.1)\n",
    "    linear_clf.fit(vectorize_train, y_train)\n",
    "    pred = linear_clf.predict(vectorize_test)\n",
    "    acc = accuracy_score(y_test, pred)\n",
    "    print(\"accuracy:   %0.3f\" % acc)\n",
    "    print(confusion_matrix(y_test, pred, labels=[0, 1]))\n",
    "    \n",
    "    return linear_clf, vectorizer"
   ]
  },
  {
   "cell_type": "code",
   "execution_count": 195,
   "metadata": {},
   "outputs": [
    {
     "name": "stdout",
     "output_type": "stream",
     "text": [
      "accuracy:   0.932\n",
      "[[379  26]\n",
      " [ 28 367]]\n"
     ]
    }
   ],
   "source": [
    "m_text, v_text = PAC(train_1,'tfidf')"
   ]
  },
  {
   "cell_type": "code",
   "execution_count": 190,
   "metadata": {},
   "outputs": [
    {
     "name": "stdout",
     "output_type": "stream",
     "text": [
      "accuracy:   0.909\n",
      "[[365  40]\n",
      " [ 33 362]]\n"
     ]
    }
   ],
   "source": [
    "m = PAC(train_1,'hash')"
   ]
  },
  {
   "cell_type": "code",
   "execution_count": 191,
   "metadata": {},
   "outputs": [
    {
     "name": "stdout",
     "output_type": "stream",
     "text": [
      "accuracy:   0.869\n",
      "[[346  59]\n",
      " [ 46 349]]\n"
     ]
    }
   ],
   "source": [
    "m = PAC(train_1,'count')"
   ]
  },
  {
   "cell_type": "markdown",
   "metadata": {},
   "source": [
    "### Model on Title"
   ]
  },
  {
   "cell_type": "code",
   "execution_count": 196,
   "metadata": {},
   "outputs": [
    {
     "name": "stdout",
     "output_type": "stream",
     "text": [
      "accuracy:   0.787\n",
      "[[320  85]\n",
      " [ 85 310]]\n"
     ]
    }
   ],
   "source": [
    "m_title, v_title = PAC(train_1, 'tfidf', feature='title')"
   ]
  },
  {
   "cell_type": "code",
   "execution_count": 186,
   "metadata": {},
   "outputs": [
    {
     "name": "stdout",
     "output_type": "stream",
     "text": [
      "accuracy:   0.776\n",
      "[[308  97]\n",
      " [ 82 313]]\n"
     ]
    }
   ],
   "source": [
    "m = PAC(train_1, 'count', feature='title')"
   ]
  },
  {
   "cell_type": "code",
   "execution_count": 187,
   "metadata": {},
   "outputs": [
    {
     "name": "stdout",
     "output_type": "stream",
     "text": [
      "accuracy:   0.784\n",
      "[[316  89]\n",
      " [ 84 311]]\n"
     ]
    }
   ],
   "source": [
    "m = PAC(train_1, 'hash', feature='title')"
   ]
  },
  {
   "cell_type": "markdown",
   "metadata": {},
   "source": [
    "1. predict base on text (train on training set, predict on the entire)\n",
    "2. predict base on title (train on training set, predict on the entire)\n",
    "3. add two predictions to the dataframe\n",
    "4. maybe concatenate title and text?"
   ]
  },
  {
   "cell_type": "code",
   "execution_count": 197,
   "metadata": {},
   "outputs": [],
   "source": [
    "# adding text based prediction to data\n",
    "data_text = v_text.transform(train_1.text)\n",
    "data_text_prediction = m_text.predict(data_text)\n",
    "train_1['text_predict'] = data_text_prediction"
   ]
  },
  {
   "cell_type": "code",
   "execution_count": 202,
   "metadata": {},
   "outputs": [],
   "source": [
    "# adding title based prediction to data\n",
    "data_title = v_title.transform(train_1.title)\n",
    "data_title_prediction = m_title.predict(data_title)\n",
    "train_1['title_predict'] = data_title_prediction"
   ]
  },
  {
   "cell_type": "markdown",
   "metadata": {},
   "source": [
    "#### Reprocess Data"
   ]
  },
  {
   "cell_type": "code",
   "execution_count": 206,
   "metadata": {},
   "outputs": [],
   "source": [
    "stopwords_en = stopwords.words('english')\n",
    "# define function to eliminate the stopwords\n",
    "def eliminate_stopwords(wordslist):\n",
    "    \"\"\"\n",
    "    stopwords_en is predefined outside of the function\n",
    "    \"\"\"\n",
    "    wordslist = [i for i in wordslist if i.isalpha()]\n",
    "    clean_list = [i for i in wordslist if i not in stopwords_en]\n",
    "    return clean_list"
   ]
  },
  {
   "cell_type": "code",
   "execution_count": 207,
   "metadata": {},
   "outputs": [],
   "source": [
    "# postag\n",
    "def count_postags(words):\n",
    "    tagged_words = nltk.pos_tag(words)\n",
    "    num_noun = 0\n",
    "    num_verb = 0\n",
    "    num_adj = 0\n",
    "    for word in tagged_words:\n",
    "        if word[1] == 'NN':\n",
    "            num_noun += 1\n",
    "        elif word[1] == 'VERB':\n",
    "            num_verb += 1\n",
    "        elif word[1] == 'ADJ':\n",
    "            num_adj += 1\n",
    "    return num_noun, num_verb, num_adj\n"
   ]
  },
  {
   "cell_type": "code",
   "execution_count": 208,
   "metadata": {},
   "outputs": [],
   "source": [
    "# detect keywords\n",
    "def detect_keyword(words, keyword):\n",
    "    if keyword in words:\n",
    "        return 1\n",
    "    else:\n",
    "        return 0"
   ]
  },
  {
   "cell_type": "code",
   "execution_count": 210,
   "metadata": {},
   "outputs": [],
   "source": [
    "# need one more time process to create additional features\n",
    "def prepare_data2(data):\n",
    "    \"\"\"\n",
    "    feature engineering\n",
    "    \"\"\"\n",
    "    # tokenize the title and text\n",
    "    data['title_token'] = data.title.apply(lambda x:word_tokenize(x.lower()))\n",
    "    data['text_token'] = data.text.apply(lambda x:word_tokenize(x.lower()))\n",
    "\n",
    "    # eliminate the stopwords in title and text\n",
    "    data['titletoken_without_stopwords'] = data.title_token.apply(lambda x:eliminate_stopwords(x))\n",
    "    data['texttoken_without_stopwords'] = data.text_token.apply(lambda x:eliminate_stopwords(x))\n",
    "\n",
    "    # need to eliminate the punctuation as well? \n",
    "    # maybe do it with regex from the original title and text\n",
    "\n",
    "    ## feature engineering \n",
    "    \n",
    "    # find keywords\n",
    "    data['trump_title'] = data.titletoken_without_stopwords.apply(lambda x:detect_keyword(x,'trump'))\n",
    "    data['trump_text'] = data.texttoken_without_stopwords.apply(lambda x:detect_keyword(x,'trump'))\n",
    "    \n",
    "    # count the postags\n",
    "    # title\n",
    "    data['title_postags'] = data.titletoken_without_stopwords.apply(lambda x:count_postags(x))\n",
    "    data['title_NN_count'] = data.title_postags.map(lambda x:x[0])\n",
    "    data['title_VERB_count'] = data.title_postags.map(lambda x:x[1])\n",
    "    data['title_ADJ_count'] = data.title_postags.map(lambda x:x[2])\n",
    "    # text\n",
    "    data['text_postags'] = data.texttoken_without_stopwords.apply(lambda x:count_postags(x))\n",
    "    data['text_NN_count'] = data.text_postags.map(lambda x:x[0])\n",
    "    data['text_VERB_count'] = data.text_postags.map(lambda x:x[1])\n",
    "    data['text_ADJ_count'] = data.text_postags.map(lambda x:x[2])\n",
    "    \n",
    "    \n",
    "    \n",
    "    # create new features describe the length of the title and text, counting by words\n",
    "    # also maybe try with counting by letters\n",
    "    # and shall treat them as categorical variables group up with factor levels \n",
    "    data['title_length'] = data.title_token.apply(lambda x:len(x))\n",
    "    data['text_length'] = data.text_token.apply(lambda x:len(x))\n",
    "    # also highlight the keywords maybe?\n",
    "    \n",
    "    \n",
    "    \n",
    "    return data"
   ]
  },
  {
   "cell_type": "code",
   "execution_count": 215,
   "metadata": {},
   "outputs": [
    {
     "data": {
      "text/html": [
       "<div>\n",
       "<style scoped>\n",
       "    .dataframe tbody tr th:only-of-type {\n",
       "        vertical-align: middle;\n",
       "    }\n",
       "\n",
       "    .dataframe tbody tr th {\n",
       "        vertical-align: top;\n",
       "    }\n",
       "\n",
       "    .dataframe thead th {\n",
       "        text-align: right;\n",
       "    }\n",
       "</style>\n",
       "<table border=\"1\" class=\"dataframe\">\n",
       "  <thead>\n",
       "    <tr style=\"text-align: right;\">\n",
       "      <th></th>\n",
       "      <th>label</th>\n",
       "      <th>text_predict</th>\n",
       "      <th>title_predict</th>\n",
       "      <th>trump_title</th>\n",
       "      <th>trump_text</th>\n",
       "      <th>title_NN_count</th>\n",
       "      <th>title_VERB_count</th>\n",
       "      <th>title_ADJ_count</th>\n",
       "      <th>text_NN_count</th>\n",
       "      <th>text_VERB_count</th>\n",
       "      <th>text_ADJ_count</th>\n",
       "      <th>title_length</th>\n",
       "      <th>text_length</th>\n",
       "    </tr>\n",
       "  </thead>\n",
       "  <tbody>\n",
       "    <tr>\n",
       "      <th>0</th>\n",
       "      <td>0</td>\n",
       "      <td>0</td>\n",
       "      <td>0</td>\n",
       "      <td>0</td>\n",
       "      <td>1</td>\n",
       "      <td>2</td>\n",
       "      <td>0</td>\n",
       "      <td>0</td>\n",
       "      <td>253</td>\n",
       "      <td>0</td>\n",
       "      <td>0</td>\n",
       "      <td>7</td>\n",
       "      <td>1473</td>\n",
       "    </tr>\n",
       "    <tr>\n",
       "      <th>1</th>\n",
       "      <td>0</td>\n",
       "      <td>0</td>\n",
       "      <td>0</td>\n",
       "      <td>1</td>\n",
       "      <td>1</td>\n",
       "      <td>8</td>\n",
       "      <td>0</td>\n",
       "      <td>0</td>\n",
       "      <td>93</td>\n",
       "      <td>0</td>\n",
       "      <td>0</td>\n",
       "      <td>16</td>\n",
       "      <td>516</td>\n",
       "    </tr>\n",
       "    <tr>\n",
       "      <th>2</th>\n",
       "      <td>1</td>\n",
       "      <td>1</td>\n",
       "      <td>1</td>\n",
       "      <td>0</td>\n",
       "      <td>0</td>\n",
       "      <td>3</td>\n",
       "      <td>0</td>\n",
       "      <td>0</td>\n",
       "      <td>85</td>\n",
       "      <td>0</td>\n",
       "      <td>0</td>\n",
       "      <td>9</td>\n",
       "      <td>485</td>\n",
       "    </tr>\n",
       "    <tr>\n",
       "      <th>3</th>\n",
       "      <td>0</td>\n",
       "      <td>0</td>\n",
       "      <td>0</td>\n",
       "      <td>0</td>\n",
       "      <td>1</td>\n",
       "      <td>4</td>\n",
       "      <td>0</td>\n",
       "      <td>0</td>\n",
       "      <td>78</td>\n",
       "      <td>0</td>\n",
       "      <td>0</td>\n",
       "      <td>18</td>\n",
       "      <td>497</td>\n",
       "    </tr>\n",
       "    <tr>\n",
       "      <th>4</th>\n",
       "      <td>1</td>\n",
       "      <td>1</td>\n",
       "      <td>1</td>\n",
       "      <td>0</td>\n",
       "      <td>1</td>\n",
       "      <td>2</td>\n",
       "      <td>0</td>\n",
       "      <td>0</td>\n",
       "      <td>54</td>\n",
       "      <td>0</td>\n",
       "      <td>0</td>\n",
       "      <td>10</td>\n",
       "      <td>376</td>\n",
       "    </tr>\n",
       "  </tbody>\n",
       "</table>\n",
       "</div>"
      ],
      "text/plain": [
       "   label  text_predict  title_predict  trump_title  trump_text  \\\n",
       "0      0             0              0            0           1   \n",
       "1      0             0              0            1           1   \n",
       "2      1             1              1            0           0   \n",
       "3      0             0              0            0           1   \n",
       "4      1             1              1            0           1   \n",
       "\n",
       "   title_NN_count  title_VERB_count  title_ADJ_count  text_NN_count  \\\n",
       "0               2                 0                0            253   \n",
       "1               8                 0                0             93   \n",
       "2               3                 0                0             85   \n",
       "3               4                 0                0             78   \n",
       "4               2                 0                0             54   \n",
       "\n",
       "   text_VERB_count  text_ADJ_count  title_length  text_length  \n",
       "0                0               0             7         1473  \n",
       "1                0               0            16          516  \n",
       "2                0               0             9          485  \n",
       "3                0               0            18          497  \n",
       "4                0               0            10          376  "
      ]
     },
     "execution_count": 215,
     "metadata": {},
     "output_type": "execute_result"
    }
   ],
   "source": [
    "train_2 = prepare_data2(train_1)\n",
    "train_3 = train_2[['label','text_predict','title_predict','trump_title', 'trump_text',\n",
    "                   'title_NN_count', 'title_VERB_count','title_ADJ_count', \n",
    "                   'text_NN_count', 'text_VERB_count','text_ADJ_count', \n",
    "                   'title_length', 'text_length']]"
   ]
  },
  {
   "cell_type": "code",
   "execution_count": 223,
   "metadata": {},
   "outputs": [],
   "source": [
    "# ti-idf vectorize rf model\n",
    "def rf_model_2(data,features=features):\n",
    "    # split data\n",
    "    X_train, X_test, y_train, y_test = split_data(data,feature=features)\n",
    "    \n",
    "    # pipeline\n",
    "    estimators = [('RF',RandomForestClassifier(random_state=666))]\n",
    "    pipe = Pipeline(estimators)\n",
    "    param_RF = {'RF__max_depth': [20,25],\n",
    "                'RF__n_estimators': [150,200]}\n",
    "    \n",
    "    # apply the estimators and parameters in pipeline\n",
    "    gridPipe = GridSearchCV(pipe, param_RF, cv=5, return_train_score=True)\n",
    "    model = gridPipe.fit(X_train, y_train)\n",
    "\n",
    "    pred = model.predict(X_test)\n",
    "    acc = accuracy_score(y_test, pred)\n",
    "    print(\"accuracy:   %0.3f\" % acc)\n",
    "    print(confusion_matrix(y_test, pred, labels=[0, 1]))\n",
    "\n",
    "    return model"
   ]
  },
  {
   "cell_type": "code",
   "execution_count": 229,
   "metadata": {},
   "outputs": [
    {
     "name": "stdout",
     "output_type": "stream",
     "text": [
      "accuracy:   0.932\n",
      "[[379  26]\n",
      " [ 28 367]]\n"
     ]
    }
   ],
   "source": [
    "features = ['text_predict','title_predict',\n",
    "            'trump_title', 'trump_text',\n",
    "#             'title_NN_count', 'title_VERB_count','title_ADJ_count', \n",
    "#             'text_NN_count', 'text_VERB_count','text_ADJ_count', \n",
    "#             'title_length', 'text_length'\n",
    "           ]\n",
    "m = rf_model_2(train_3,features)"
   ]
  },
  {
   "cell_type": "code",
   "execution_count": 85,
   "metadata": {},
   "outputs": [],
   "source": [
    "def prepare_data(data):\n",
    "    \"\"\"\n",
    "    preprocessing + feature engineering\n",
    "    \"\"\"\n",
    "    # tokenize the title and text\n",
    "    data['title_token'] = data.title.apply(lambda x:word_tokenize(x.lower()))\n",
    "    data['text_token'] = data.text.apply(lambda x:word_tokenize(x.lower()))\n",
    "    # convert the target variable to 0 and 1\n",
    "    data.label = data.label.apply(lambda x:1 if x == 'REAL' else 0)\n",
    "    \n",
    "    # eliminate the stopwords in title and text\n",
    "    data['titletoken_without_stopwords'] = data.title_token.apply(lambda x:eliminate_stopwords(x))\n",
    "    data['texttoken_without_stopwords'] = data.text_token.apply(lambda x:eliminate_stopwords(x))\n",
    "    # drop the redundent features\n",
    "    data = data.drop(['text','title'],axis=1)\n",
    "    # need to eliminate the punctuation as well? \n",
    "    # maybe do it with regex from the original title and text\n",
    "\n",
    "    ## feature engineering \n",
    "    \n",
    "    # find keywords\n",
    "    data['trump_title'] = data.titletoken_without_stopwords.apply(lambda x:detect_keyword(x,'trump'))\n",
    "    data['trump_text'] = data.texttoken_without_stopwords.apply(lambda x:detect_keyword(x,'trump'))\n",
    "    \n",
    "    # count the postags\n",
    "    # title\n",
    "    data['title_postags'] = data.titletoken_without_stopwords.apply(lambda x:count_postags(x))\n",
    "    data['title_NN_count'] = data.title_postags.map(lambda x:x[0])\n",
    "    data['title_VERB_count'] = data.title_postags.map(lambda x:x[1])\n",
    "    data['title_ADJ_count'] = data.title_postags.map(lambda x:x[2])\n",
    "    # text\n",
    "    data['text_postags'] = data.texttoken_without_stopwords.apply(lambda x:count_postags(x))\n",
    "    data['text_NN_count'] = data.text_postags.map(lambda x:x[0])\n",
    "    data['text_VERB_count'] = data.text_postags.map(lambda x:x[1])\n",
    "    data['text_ADJ_count'] = data.text_postags.map(lambda x:x[2])\n",
    "    \n",
    "    \n",
    "    \n",
    "    # create new features describe the length of the title and text, counting by words\n",
    "    # also maybe try with counting by letters\n",
    "    # and shall treat them as categorical variables group up with factor levels \n",
    "    data['title_length'] = data.title_token.apply(lambda x:len(x))\n",
    "    data['text_length'] = data.text_token.apply(lambda x:len(x))\n",
    "    # also highlight the keywords maybe?\n",
    "    \n",
    "    \n",
    "    \n",
    "    return data"
   ]
  },
  {
   "cell_type": "code",
   "execution_count": 86,
   "metadata": {},
   "outputs": [],
   "source": [
    "train_df = prepare_data(train)"
   ]
  },
  {
   "cell_type": "code",
   "execution_count": 89,
   "metadata": {},
   "outputs": [],
   "source": [
    "def splitdata(data, cols):\n",
    "    \"\"\"\n",
    "    cols: a list of columns names to use\n",
    "    \"\"\"\n",
    "    features = data[cols]\n",
    "    target = data.label\n",
    "    # first split into (train+test) and for holdout\n",
    "    TrainingSetX, X_holdout, TrainingSetY, y_holdout = train_test_split(features, target, \n",
    "                                                    test_size=0.10, stratify=target, \n",
    "                                                    random_state=666)\n",
    "    # split (train+test) into train and test\n",
    "    X_train, X_test, y_train, y_test = train_test_split(TrainingSetX, TrainingSetY, \n",
    "                                                test_size=0.20, stratify=TrainingSetY, \n",
    "                                                random_state=666)\n",
    "    # train and test use for modeling, holdout use for validating the model\n",
    "    print(\"spliting the data......\")\n",
    "    print(\"shape of train set: \", X_train.shape)\n",
    "    print(\"shape of test set: \", X_test.shape)\n",
    "    print(\"shape of holdout set: \", X_holdout.shape)\n",
    "    \n",
    "    return X_train, y_train, X_test, y_test, X_holdout, y_holdout"
   ]
  },
  {
   "cell_type": "code",
   "execution_count": 31,
   "metadata": {},
   "outputs": [
    {
     "name": "stdout",
     "output_type": "stream",
     "text": [
      "spliting the data......\n",
      "shape of train set:  (2879, 5)\n",
      "shape of test set:  (720, 5)\n",
      "shape of holdout set:  (400, 5)\n"
     ]
    }
   ],
   "source": [
    "cols2model = ['title_token', 'text_token', 'titletoken_without_stopwords', \n",
    "              'texttoken_without_stopwords', 'title_length']\n",
    "x1,y1,x2,y2,x3,y3 = splitdata(train_df, cols = cols2model)"
   ]
  },
  {
   "cell_type": "code",
   "execution_count": 34,
   "metadata": {},
   "outputs": [],
   "source": [
    "# random forest classifier\n",
    "def model_rf(data,cols2model):\n",
    "    # split data\n",
    "    X_train, y_train, X_test, y_test, X_holdout, y_holdout = splitdata(train_df, cols = cols2model)\n",
    "    print('features for modeling :',X_train.columns.tolist())\n",
    "    # identify the categorical features and the numerical features\n",
    "    categorical_features = X_train.dtypes == 'category'\n",
    "    numerical_features = ~categorical_features\n",
    "    # pipeline\n",
    "    print('building up pipeline......')\n",
    "    estimators = [   \n",
    "                    ('ctf',ColumnTransformer([\n",
    "                                ('scale',StandardScaler(),\n",
    "                                         numerical_features),\n",
    "                                ('enc',OneHotEncoder(categories='auto',handle_unknown='ignore'),\n",
    "                                         categorical_features),\n",
    "                                            ])\n",
    "                    ),\n",
    "#                     ('poly', PolynomialFeatures(degree=1, include_bias=False, interaction_only=True)),\n",
    "                    ('RF',RandomForestClassifier(random_state=666,n_estimators=170,max_depth=22,n_jobs=-1))\n",
    "                ]\n",
    "    pipe = Pipeline(estimators)\n",
    "    \n",
    "    print('training the model......')\n",
    "    model = pipe.fit(X_train,y_train)\n",
    "    \n",
    "    print('training is done')\n",
    "    score_train = model.score(X_train,y_train) \n",
    "    score_test = model.score(X_test,y_test) \n",
    "    score_Holdout = model.score(X_holdout,y_holdout) \n",
    "    \n",
    "    print('training dataset mode1 is: %s'%(str(score_train1)))   \n",
    "    print('test dataset model is: %s'%(str(score_test1)))\n",
    "    print('Holdout dataset model1 is: %s'%(str(score_H1)))\n",
    "    \n",
    "    # in case needs to use the data to do some visualization or some other metrics\n",
    "    data_pack = (X_train, y_train, X_test, y_test, X_holdout, y_holdout)\n",
    "    return model, data_pack"
   ]
  },
  {
   "cell_type": "code",
   "execution_count": 7,
   "metadata": {},
   "outputs": [],
   "source": [
    "sample = train.copy()"
   ]
  }
 ],
 "metadata": {
  "kernelspec": {
   "display_name": "Python 3",
   "language": "python",
   "name": "python3"
  },
  "language_info": {
   "codemirror_mode": {
    "name": "ipython",
    "version": 3
   },
   "file_extension": ".py",
   "mimetype": "text/x-python",
   "name": "python",
   "nbconvert_exporter": "python",
   "pygments_lexer": "ipython3",
   "version": "3.7.2"
  }
 },
 "nbformat": 4,
 "nbformat_minor": 2
}
