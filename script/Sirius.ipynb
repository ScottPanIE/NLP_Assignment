{
 "cells": [
  {
   "cell_type": "markdown",
   "metadata": {},
   "source": [
    "## Fake News Detection"
   ]
  },
  {
   "cell_type": "markdown",
   "metadata": {},
   "source": [
    "Individual project in pairs completed by Scott Pan and Federico Loguercio"
   ]
  },
  {
   "cell_type": "markdown",
   "metadata": {},
   "source": [
    "First a baseline will be fit. In a next step, different models will be fit and varaious iteration taken."
   ]
  },
  {
   "cell_type": "markdown",
   "metadata": {},
   "source": [
    "Import libraries"
   ]
  },
  {
   "cell_type": "code",
   "execution_count": 1,
   "metadata": {},
   "outputs": [],
   "source": [
    "import pandas as pd\n",
    "import numpy as np\n",
    "import seaborn as sns\n",
    "import nltk\n",
    "from nltk import word_tokenize, WordPunctTokenizer, pos_tag\n",
    "from nltk.corpus import stopwords\n",
    "from sklearn.linear_model import PassiveAggressiveClassifier\n",
    "from sklearn.model_selection import train_test_split, GridSearchCV, cross_val_score\n",
    "from sklearn.ensemble import RandomForestClassifier,GradientBoostingClassifier,ExtraTreesClassifier\n",
    "from sklearn.pipeline import Pipeline, make_pipeline\n",
    "from sklearn.feature_extraction.text import TfidfVectorizer, CountVectorizer, HashingVectorizer\n",
    "from sklearn.naive_bayes import MultinomialNB\n",
    "from sklearn.metrics import accuracy_score, confusion_matrix\n",
    "from sklearn.compose import ColumnTransformer, make_column_transformer\n",
    "import re\n",
    "from nltk.stem import PorterStemmer,WordNetLemmatizer\n",
    "from nltk.corpus import wordnet as wn\n",
    "from nltk.corpus import sentiwordnet as swn\n",
    "import helpers as hp"
   ]
  },
  {
   "cell_type": "markdown",
   "metadata": {},
   "source": [
    "Read the data"
   ]
  },
  {
   "cell_type": "code",
   "execution_count": 2,
   "metadata": {},
   "outputs": [],
   "source": [
    "train = pd.read_csv('../data/fake_or_real_news_training.csv')\n",
    "# the submission data has no label\n",
    "submission = pd.read_csv('../data/fake_or_real_news_test.csv')"
   ]
  },
  {
   "cell_type": "markdown",
   "metadata": {},
   "source": [
    "Set initial values"
   ]
  },
  {
   "cell_type": "code",
   "execution_count": 3,
   "metadata": {},
   "outputs": [],
   "source": [
    "# These will be used throughout some functions and can be modified easily.\n",
    "TARGET_VARIABLE = 'label'\n",
    "METRIC = 'accuracy'\n",
    "SEED = 123\n",
    "TIMESERIES = False\n",
    "SPLITS = 5"
   ]
  },
  {
   "cell_type": "markdown",
   "metadata": {},
   "source": [
    "First look at data"
   ]
  },
  {
   "cell_type": "code",
   "execution_count": 4,
   "metadata": {},
   "outputs": [
    {
     "data": {
      "text/html": [
       "<div>\n",
       "<style scoped>\n",
       "    .dataframe tbody tr th:only-of-type {\n",
       "        vertical-align: middle;\n",
       "    }\n",
       "\n",
       "    .dataframe tbody tr th {\n",
       "        vertical-align: top;\n",
       "    }\n",
       "\n",
       "    .dataframe thead th {\n",
       "        text-align: right;\n",
       "    }\n",
       "</style>\n",
       "<table border=\"1\" class=\"dataframe\">\n",
       "  <thead>\n",
       "    <tr style=\"text-align: right;\">\n",
       "      <th></th>\n",
       "      <th>ID</th>\n",
       "      <th>title</th>\n",
       "      <th>text</th>\n",
       "      <th>label</th>\n",
       "      <th>X1</th>\n",
       "      <th>X2</th>\n",
       "    </tr>\n",
       "  </thead>\n",
       "  <tbody>\n",
       "    <tr>\n",
       "      <th>0</th>\n",
       "      <td>8476</td>\n",
       "      <td>You Can Smell Hillary’s Fear</td>\n",
       "      <td>Daniel Greenfield, a Shillman Journalism Fello...</td>\n",
       "      <td>FAKE</td>\n",
       "      <td>NaN</td>\n",
       "      <td>NaN</td>\n",
       "    </tr>\n",
       "    <tr>\n",
       "      <th>1</th>\n",
       "      <td>10294</td>\n",
       "      <td>Watch The Exact Moment Paul Ryan Committed Pol...</td>\n",
       "      <td>Google Pinterest Digg Linkedin Reddit Stumbleu...</td>\n",
       "      <td>FAKE</td>\n",
       "      <td>NaN</td>\n",
       "      <td>NaN</td>\n",
       "    </tr>\n",
       "    <tr>\n",
       "      <th>2</th>\n",
       "      <td>3608</td>\n",
       "      <td>Kerry to go to Paris in gesture of sympathy</td>\n",
       "      <td>U.S. Secretary of State John F. Kerry said Mon...</td>\n",
       "      <td>REAL</td>\n",
       "      <td>NaN</td>\n",
       "      <td>NaN</td>\n",
       "    </tr>\n",
       "    <tr>\n",
       "      <th>3</th>\n",
       "      <td>10142</td>\n",
       "      <td>Bernie supporters on Twitter erupt in anger ag...</td>\n",
       "      <td>— Kaydee King (@KaydeeKing) November 9, 2016 T...</td>\n",
       "      <td>FAKE</td>\n",
       "      <td>NaN</td>\n",
       "      <td>NaN</td>\n",
       "    </tr>\n",
       "    <tr>\n",
       "      <th>4</th>\n",
       "      <td>875</td>\n",
       "      <td>The Battle of New York: Why This Primary Matters</td>\n",
       "      <td>It's primary day in New York and front-runners...</td>\n",
       "      <td>REAL</td>\n",
       "      <td>NaN</td>\n",
       "      <td>NaN</td>\n",
       "    </tr>\n",
       "  </tbody>\n",
       "</table>\n",
       "</div>"
      ],
      "text/plain": [
       "      ID                                              title  \\\n",
       "0   8476                       You Can Smell Hillary’s Fear   \n",
       "1  10294  Watch The Exact Moment Paul Ryan Committed Pol...   \n",
       "2   3608        Kerry to go to Paris in gesture of sympathy   \n",
       "3  10142  Bernie supporters on Twitter erupt in anger ag...   \n",
       "4    875   The Battle of New York: Why This Primary Matters   \n",
       "\n",
       "                                                text label   X1   X2  \n",
       "0  Daniel Greenfield, a Shillman Journalism Fello...  FAKE  NaN  NaN  \n",
       "1  Google Pinterest Digg Linkedin Reddit Stumbleu...  FAKE  NaN  NaN  \n",
       "2  U.S. Secretary of State John F. Kerry said Mon...  REAL  NaN  NaN  \n",
       "3  — Kaydee King (@KaydeeKing) November 9, 2016 T...  FAKE  NaN  NaN  \n",
       "4  It's primary day in New York and front-runners...  REAL  NaN  NaN  "
      ]
     },
     "execution_count": 4,
     "metadata": {},
     "output_type": "execute_result"
    }
   ],
   "source": [
    "train.head()"
   ]
  },
  {
   "cell_type": "markdown",
   "metadata": {},
   "source": [
    "We can see that two extra columns were created, X1 and X2. This is due to the fact that the title is not in quotes such that, if there is a comma in the title, it get's separated at that point and all the other column get shifted. The following cell will take care of that"
   ]
  },
  {
   "cell_type": "code",
   "execution_count": 5,
   "metadata": {},
   "outputs": [],
   "source": [
    "train = hp.rearrange(train)"
   ]
  },
  {
   "cell_type": "code",
   "execution_count": 6,
   "metadata": {},
   "outputs": [
    {
     "data": {
      "text/html": [
       "<div>\n",
       "<style scoped>\n",
       "    .dataframe tbody tr th:only-of-type {\n",
       "        vertical-align: middle;\n",
       "    }\n",
       "\n",
       "    .dataframe tbody tr th {\n",
       "        vertical-align: top;\n",
       "    }\n",
       "\n",
       "    .dataframe thead th {\n",
       "        text-align: right;\n",
       "    }\n",
       "</style>\n",
       "<table border=\"1\" class=\"dataframe\">\n",
       "  <thead>\n",
       "    <tr style=\"text-align: right;\">\n",
       "      <th></th>\n",
       "      <th>ID</th>\n",
       "      <th>title</th>\n",
       "      <th>text</th>\n",
       "      <th>label</th>\n",
       "    </tr>\n",
       "  </thead>\n",
       "  <tbody>\n",
       "    <tr>\n",
       "      <th>0</th>\n",
       "      <td>8476</td>\n",
       "      <td>You Can Smell Hillary’s Fear</td>\n",
       "      <td>Daniel Greenfield, a Shillman Journalism Fello...</td>\n",
       "      <td>FAKE</td>\n",
       "    </tr>\n",
       "    <tr>\n",
       "      <th>1</th>\n",
       "      <td>10294</td>\n",
       "      <td>Watch The Exact Moment Paul Ryan Committed Pol...</td>\n",
       "      <td>Google Pinterest Digg Linkedin Reddit Stumbleu...</td>\n",
       "      <td>FAKE</td>\n",
       "    </tr>\n",
       "    <tr>\n",
       "      <th>2</th>\n",
       "      <td>3608</td>\n",
       "      <td>Kerry to go to Paris in gesture of sympathy</td>\n",
       "      <td>U.S. Secretary of State John F. Kerry said Mon...</td>\n",
       "      <td>REAL</td>\n",
       "    </tr>\n",
       "    <tr>\n",
       "      <th>3</th>\n",
       "      <td>10142</td>\n",
       "      <td>Bernie supporters on Twitter erupt in anger ag...</td>\n",
       "      <td>— Kaydee King (@KaydeeKing) November 9, 2016 T...</td>\n",
       "      <td>FAKE</td>\n",
       "    </tr>\n",
       "    <tr>\n",
       "      <th>4</th>\n",
       "      <td>875</td>\n",
       "      <td>The Battle of New York: Why This Primary Matters</td>\n",
       "      <td>It's primary day in New York and front-runners...</td>\n",
       "      <td>REAL</td>\n",
       "    </tr>\n",
       "  </tbody>\n",
       "</table>\n",
       "</div>"
      ],
      "text/plain": [
       "      ID                                              title  \\\n",
       "0   8476                       You Can Smell Hillary’s Fear   \n",
       "1  10294  Watch The Exact Moment Paul Ryan Committed Pol...   \n",
       "2   3608        Kerry to go to Paris in gesture of sympathy   \n",
       "3  10142  Bernie supporters on Twitter erupt in anger ag...   \n",
       "4    875   The Battle of New York: Why This Primary Matters   \n",
       "\n",
       "                                                text label  \n",
       "0  Daniel Greenfield, a Shillman Journalism Fello...  FAKE  \n",
       "1  Google Pinterest Digg Linkedin Reddit Stumbleu...  FAKE  \n",
       "2  U.S. Secretary of State John F. Kerry said Mon...  REAL  \n",
       "3  — Kaydee King (@KaydeeKing) November 9, 2016 T...  FAKE  \n",
       "4  It's primary day in New York and front-runners...  REAL  "
      ]
     },
     "execution_count": 6,
     "metadata": {},
     "output_type": "execute_result"
    }
   ],
   "source": [
    "train.head()"
   ]
  },
  {
   "cell_type": "markdown",
   "metadata": {},
   "source": [
    "### EDA"
   ]
  },
  {
   "cell_type": "markdown",
   "metadata": {},
   "source": [
    "Let's see some key distribution metrics of our dataset"
   ]
  },
  {
   "cell_type": "markdown",
   "metadata": {},
   "source": [
    "Proportion of fake-news:"
   ]
  },
  {
   "cell_type": "code",
   "execution_count": 7,
   "metadata": {},
   "outputs": [
    {
     "data": {
      "text/plain": [
       "0.4978744686171543"
      ]
     },
     "execution_count": 7,
     "metadata": {},
     "output_type": "execute_result"
    }
   ],
   "source": [
    "len(train.loc[train['label'] == 'FAKE'])/len(train)"
   ]
  },
  {
   "cell_type": "markdown",
   "metadata": {},
   "source": [
    "Explore text length"
   ]
  },
  {
   "cell_type": "code",
   "execution_count": 8,
   "metadata": {},
   "outputs": [
    {
     "data": {
      "text/plain": [
       "Text(0.5, 1.0, 'Distribution of Text length')"
      ]
     },
     "execution_count": 8,
     "metadata": {},
     "output_type": "execute_result"
    },
    {
     "data": {
      "image/png": "[encoded data removed]",
      "text/plain": [
       "<Figure size 432x288 with 1 Axes>"
      ]
     },
     "metadata": {},
     "output_type": "display_data"
    }
   ],
   "source": [
    "text_len = pd.DataFrame([len(t) for t in train.text])\n",
    "sns.set()\n",
    "sns.distplot(text_len, hist = False, color = \"darkblue\").set_title(\"Distribution of Text length\")"
   ]
  },
  {
   "cell_type": "markdown",
   "metadata": {},
   "source": [
    "The distribution is highly skewed to the right, there are some very long texts but most lie between 0 and 10000."
   ]
  },
  {
   "cell_type": "markdown",
   "metadata": {},
   "source": [
    "How are the quantiles?"
   ]
  },
  {
   "cell_type": "markdown",
   "metadata": {},
   "source": [
    "### Baseline"
   ]
  },
  {
   "cell_type": "markdown",
   "metadata": {},
   "source": [
    "Run a baseline without further preprocessing using the countvectorizer. Only the text will be used for now, the title will not be considered yet."
   ]
  },
  {
   "cell_type": "markdown",
   "metadata": {},
   "source": [
    "Initiate scores-dataframe that will track scores"
   ]
  },
  {
   "cell_type": "code",
   "execution_count": 9,
   "metadata": {},
   "outputs": [],
   "source": [
    "all_scores  = pd.DataFrame(columns = ['Model', 'CV Score avg', 'CV Score max', 'Holdout Score'])"
   ]
  },
  {
   "cell_type": "markdown",
   "metadata": {},
   "source": [
    "Count-vectorize data:"
   ]
  },
  {
   "cell_type": "markdown",
   "metadata": {},
   "source": [
    "Begin by splitting into train and test set"
   ]
  },
  {
   "cell_type": "code",
   "execution_count": 10,
   "metadata": {},
   "outputs": [],
   "source": [
    "X_baseline, X_test_baseline, y_baseline, y_test_baseline = train_test_split(train['text'], train['label'],\n",
    "                                                                            test_size = 0.2, random_state = 7)"
   ]
  },
  {
   "cell_type": "code",
   "execution_count": 11,
   "metadata": {},
   "outputs": [],
   "source": [
    "# Initiaulize countvectorizer\n",
    "count_vectorizer = CountVectorizer(stop_words='english')\n",
    "\n",
    "# Fit and transform \n",
    "count_train = count_vectorizer.fit_transform(X_baseline) \n",
    "\n",
    "# Transform the test set \n",
    "count_test = count_vectorizer.transform(X_test_baseline)"
   ]
  },
  {
   "cell_type": "markdown",
   "metadata": {},
   "source": [
    "Use Naive Bayes for a first classification"
   ]
  },
  {
   "cell_type": "code",
   "execution_count": 12,
   "metadata": {},
   "outputs": [
    {
     "name": "stdout",
     "output_type": "stream",
     "text": [
      "col_0  FAKE  REAL\n",
      "label            \n",
      "FAKE    348    57\n",
      "REAL     27   368\n"
     ]
    },
    {
     "data": {
      "text/html": [
       "<div>\n",
       "<style scoped>\n",
       "    .dataframe tbody tr th:only-of-type {\n",
       "        vertical-align: middle;\n",
       "    }\n",
       "\n",
       "    .dataframe tbody tr th {\n",
       "        vertical-align: top;\n",
       "    }\n",
       "\n",
       "    .dataframe thead th {\n",
       "        text-align: right;\n",
       "    }\n",
       "</style>\n",
       "<table border=\"1\" class=\"dataframe\">\n",
       "  <thead>\n",
       "    <tr style=\"text-align: right;\">\n",
       "      <th></th>\n",
       "      <th>Model</th>\n",
       "      <th>CV Score avg</th>\n",
       "      <th>CV Score max</th>\n",
       "      <th>Holdout Score</th>\n",
       "    </tr>\n",
       "  </thead>\n",
       "  <tbody>\n",
       "    <tr>\n",
       "      <th>0</th>\n",
       "      <td>baseline</td>\n",
       "      <td>0.877145</td>\n",
       "      <td>0.900156</td>\n",
       "      <td>0.895</td>\n",
       "    </tr>\n",
       "  </tbody>\n",
       "</table>\n",
       "</div>"
      ],
      "text/plain": [
       "      Model  CV Score avg  CV Score max  Holdout Score\n",
       "0  baseline      0.877145      0.900156          0.895"
      ]
     },
     "execution_count": 12,
     "metadata": {},
     "output_type": "execute_result"
    }
   ],
   "source": [
    "MltNB = MultinomialNB() \n",
    "\n",
    "cv_score_baseline, test_score_baseline = hp.cv_evaluate(count_train, y_baseline, count_test, y_test_baseline,\n",
    "                                                     MltNB)\n",
    "all_scores = hp.append_scores(all_scores, 'baseline', cv_score_baseline, test_score_baseline)\n",
    "all_scores"
   ]
  },
  {
   "cell_type": "markdown",
   "metadata": {},
   "source": [
    "### Tuning Model\n",
    "1. Different Model\n",
    "2. More Process on Data\n",
    "3. Tuning Parameters\n",
    "4. Additional thoughts: can we add another model to predicit base on news' title, then ensemble both models to make a final prediction?"
   ]
  },
  {
   "cell_type": "markdown",
   "metadata": {},
   "source": [
    "TfidfVectorizer instead of CountVectorizer"
   ]
  },
  {
   "cell_type": "code",
   "execution_count": 13,
   "metadata": {},
   "outputs": [],
   "source": [
    "# can tune max_df later\n",
    "tfidf_vectorizer = TfidfVectorizer(stop_words='english', max_df=0.8, norm='l2')\n",
    "# transform data\n",
    "tfidf_train = tfidf_vectorizer.fit_transform(X_baseline)\n",
    "tfidf_test = tfidf_vectorizer.transform(X_test_baseline)"
   ]
  },
  {
   "cell_type": "code",
   "execution_count": 14,
   "metadata": {},
   "outputs": [
    {
     "name": "stdout",
     "output_type": "stream",
     "text": [
      "col_0  FAKE  REAL\n",
      "label            \n",
      "FAKE    347    58\n",
      "REAL     19   376\n"
     ]
    },
    {
     "data": {
      "text/html": [
       "<div>\n",
       "<style scoped>\n",
       "    .dataframe tbody tr th:only-of-type {\n",
       "        vertical-align: middle;\n",
       "    }\n",
       "\n",
       "    .dataframe tbody tr th {\n",
       "        vertical-align: top;\n",
       "    }\n",
       "\n",
       "    .dataframe thead th {\n",
       "        text-align: right;\n",
       "    }\n",
       "</style>\n",
       "<table border=\"1\" class=\"dataframe\">\n",
       "  <thead>\n",
       "    <tr style=\"text-align: right;\">\n",
       "      <th></th>\n",
       "      <th>Model</th>\n",
       "      <th>CV Score avg</th>\n",
       "      <th>CV Score max</th>\n",
       "      <th>Holdout Score</th>\n",
       "    </tr>\n",
       "  </thead>\n",
       "  <tbody>\n",
       "    <tr>\n",
       "      <th>0</th>\n",
       "      <td>baseline</td>\n",
       "      <td>0.877145</td>\n",
       "      <td>0.900156</td>\n",
       "      <td>0.89500</td>\n",
       "    </tr>\n",
       "    <tr>\n",
       "      <th>1</th>\n",
       "      <td>MltNB TFIDF</td>\n",
       "      <td>0.883704</td>\n",
       "      <td>0.909516</td>\n",
       "      <td>0.90375</td>\n",
       "    </tr>\n",
       "  </tbody>\n",
       "</table>\n",
       "</div>"
      ],
      "text/plain": [
       "         Model  CV Score avg  CV Score max  Holdout Score\n",
       "0     baseline      0.877145      0.900156        0.89500\n",
       "1  MltNB TFIDF      0.883704      0.909516        0.90375"
      ]
     },
     "execution_count": 14,
     "metadata": {},
     "output_type": "execute_result"
    }
   ],
   "source": [
    "MltNB_TFIDF = MultinomialNB(alpha=0.1) \n",
    "\n",
    "cv_tfidf, test_tfidf = hp.cv_evaluate(tfidf_train, y_baseline, tfidf_test, y_test_baseline,\n",
    "                                                     MltNB_TFIDF)\n",
    "all_scores = hp.append_scores(all_scores, 'MltNB TFIDF', cv_tfidf, test_tfidf)\n",
    "all_scores"
   ]
  },
  {
   "cell_type": "markdown",
   "metadata": {},
   "source": [
    "### Re-Process Data"
   ]
  },
  {
   "cell_type": "markdown",
   "metadata": {},
   "source": [
    "Some standard preprocessing will be applied in order to evaluate whether that improves model performance."
   ]
  },
  {
   "cell_type": "code",
   "execution_count": 15,
   "metadata": {},
   "outputs": [],
   "source": [
    "# reload data\n",
    "train_0 = pd.read_csv('../data/fake_or_real_news_training.csv')\n",
    "train_1 = hp.prepare_data(train_0, tokenize = True)"
   ]
  },
  {
   "cell_type": "code",
   "execution_count": 16,
   "metadata": {},
   "outputs": [],
   "source": [
    "# split data\n",
    "def split_data(data, feature='text', random_state = 7):\n",
    "    X_train, X_test, y_train, y_test = train_test_split(data[feature], data['label'],\n",
    "                                                        test_size = 0.2, random_state = random_state)\n",
    "    return X_train, X_test, y_train, y_test"
   ]
  },
  {
   "cell_type": "code",
   "execution_count": 17,
   "metadata": {},
   "outputs": [],
   "source": [
    "# vectorize\n",
    "def vectorize_select(selection=\"tfidf\", max_df=0.8, min_df=1, lowercase = True):\n",
    "    \"\"\"\n",
    "    \"tfidf\":\"TfidVectorizer\"\n",
    "    \"count\":\"CountVectorizer\"\n",
    "    \"hash\":\"HashingVectorizer\"\n",
    "    \"\"\"\n",
    "    if selection == \"tfidf\":\n",
    "        return TfidfVectorizer(stop_words='english', max_df=max_df, min_df=min_df,binary=True,\n",
    "                              lowercase=lowercase)\n",
    "    elif selection == \"count\":\n",
    "        return CountVectorizer(stop_words='english', max_df=max_df, min_df=min_df)\n",
    "    elif selection == \"hash\":\n",
    "        return HashingVectorizer(stop_words='english')\n",
    "    else:\n",
    "        raise Exception(\"{} can't be found\".format(selection))"
   ]
  },
  {
   "cell_type": "markdown",
   "metadata": {},
   "source": [
    "#### Naive Bayes"
   ]
  },
  {
   "cell_type": "markdown",
   "metadata": {},
   "source": [
    "With the slightly preprocessed data, let's try different vectorizers (tfidf, count, hash)"
   ]
  },
  {
   "cell_type": "code",
   "execution_count": 18,
   "metadata": {},
   "outputs": [],
   "source": [
    "# ti-idf vectorize MultinomialNB model\n",
    "def nb_model(data, selection='tfidf', vectorize_max_df=0.8):\n",
    "    # split data\n",
    "    X_train, X_test, y_train, y_test = split_data(data)\n",
    "    \n",
    "    # vectorizer: selection: 'tfidf','count','hash'\n",
    "    vectorizer = vectorize_select(selection, max_df=vectorize_max_df)\n",
    "    # transform data\n",
    "    vectorize_train = vectorizer.fit_transform(X_train)\n",
    "    vectorize_test = vectorizer.transform(X_test)\n",
    "\n",
    "    # model\n",
    "    model = MultinomialNB(alpha=0.1)\n",
    "    cv_scores = cross_val_score(model,\n",
    "                                vectorize_train,\n",
    "                                y_train,\n",
    "                                cv = 5)\n",
    "    model.fit(vectorize_train, y_train)\n",
    "    pred = model.predict(vectorize_test)\n",
    "    acc = accuracy_score(y_test, pred)\n",
    "    \n",
    "    #print(\"accuracy:   %0.3f\" % acc)\n",
    "    print(pd.crosstab(y_test, pred))\n",
    "    \n",
    "    return MltNB, cv_scores, acc"
   ]
  },
  {
   "cell_type": "code",
   "execution_count": 19,
   "metadata": {},
   "outputs": [
    {
     "name": "stdout",
     "output_type": "stream",
     "text": [
      "col_0    0    1\n",
      "label          \n",
      "0      345   60\n",
      "1       15  380\n"
     ]
    },
    {
     "data": {
      "text/html": [
       "<div>\n",
       "<style scoped>\n",
       "    .dataframe tbody tr th:only-of-type {\n",
       "        vertical-align: middle;\n",
       "    }\n",
       "\n",
       "    .dataframe tbody tr th {\n",
       "        vertical-align: top;\n",
       "    }\n",
       "\n",
       "    .dataframe thead th {\n",
       "        text-align: right;\n",
       "    }\n",
       "</style>\n",
       "<table border=\"1\" class=\"dataframe\">\n",
       "  <thead>\n",
       "    <tr style=\"text-align: right;\">\n",
       "      <th></th>\n",
       "      <th>Model</th>\n",
       "      <th>CV Score avg</th>\n",
       "      <th>CV Score max</th>\n",
       "      <th>Holdout Score</th>\n",
       "    </tr>\n",
       "  </thead>\n",
       "  <tbody>\n",
       "    <tr>\n",
       "      <th>0</th>\n",
       "      <td>baseline</td>\n",
       "      <td>0.877145</td>\n",
       "      <td>0.900156</td>\n",
       "      <td>0.89500</td>\n",
       "    </tr>\n",
       "    <tr>\n",
       "      <th>1</th>\n",
       "      <td>MltNB TFIDF</td>\n",
       "      <td>0.883704</td>\n",
       "      <td>0.909516</td>\n",
       "      <td>0.90375</td>\n",
       "    </tr>\n",
       "    <tr>\n",
       "      <th>2</th>\n",
       "      <td>MltNB TFIDF preprocessed</td>\n",
       "      <td>0.884020</td>\n",
       "      <td>0.915757</td>\n",
       "      <td>0.90625</td>\n",
       "    </tr>\n",
       "  </tbody>\n",
       "</table>\n",
       "</div>"
      ],
      "text/plain": [
       "                      Model  CV Score avg  CV Score max  Holdout Score\n",
       "0                  baseline      0.877145      0.900156        0.89500\n",
       "1               MltNB TFIDF      0.883704      0.909516        0.90375\n",
       "2  MltNB TFIDF preprocessed      0.884020      0.915757        0.90625"
      ]
     },
     "execution_count": 19,
     "metadata": {},
     "output_type": "execute_result"
    }
   ],
   "source": [
    "MltNB_idf_preproc, cv_scores_idf_preproc, test_score_MltNB_preproc =  nb_model(train_1,'tfidf',0.8)\n",
    "\n",
    "all_scores = hp.append_scores(all_scores, 'MltNB TFIDF preprocessed', cv_scores_idf_preproc, test_score_MltNB_preproc)\n",
    "all_scores"
   ]
  },
  {
   "cell_type": "code",
   "execution_count": 20,
   "metadata": {},
   "outputs": [],
   "source": [
    "#MltNB_hash_preproc, cv_hash_preproc, test_hash_preproc =  nb_model(train_1,'hash',0.8)\n",
    "\n",
    "#all_scores = all_scores.append({'Model': 'MltNB hash preprocessed', 'CV Score avg': np.mean(cv_has_preproc), 'CV Score max': np.max(cv_has_preproc), 'Holdout Score': test_hash_preproc}, ignore_index = True)\n",
    "#all_scores"
   ]
  },
  {
   "cell_type": "code",
   "execution_count": 21,
   "metadata": {},
   "outputs": [
    {
     "name": "stdout",
     "output_type": "stream",
     "text": [
      "col_0    0    1\n",
      "label          \n",
      "0      352   53\n",
      "1       28  367\n"
     ]
    },
    {
     "data": {
      "text/html": [
       "<div>\n",
       "<style scoped>\n",
       "    .dataframe tbody tr th:only-of-type {\n",
       "        vertical-align: middle;\n",
       "    }\n",
       "\n",
       "    .dataframe tbody tr th {\n",
       "        vertical-align: top;\n",
       "    }\n",
       "\n",
       "    .dataframe thead th {\n",
       "        text-align: right;\n",
       "    }\n",
       "</style>\n",
       "<table border=\"1\" class=\"dataframe\">\n",
       "  <thead>\n",
       "    <tr style=\"text-align: right;\">\n",
       "      <th></th>\n",
       "      <th>Model</th>\n",
       "      <th>CV Score avg</th>\n",
       "      <th>CV Score max</th>\n",
       "      <th>Holdout Score</th>\n",
       "    </tr>\n",
       "  </thead>\n",
       "  <tbody>\n",
       "    <tr>\n",
       "      <th>0</th>\n",
       "      <td>baseline</td>\n",
       "      <td>0.877145</td>\n",
       "      <td>0.900156</td>\n",
       "      <td>0.89500</td>\n",
       "    </tr>\n",
       "    <tr>\n",
       "      <th>1</th>\n",
       "      <td>MltNB TFIDF</td>\n",
       "      <td>0.883704</td>\n",
       "      <td>0.909516</td>\n",
       "      <td>0.90375</td>\n",
       "    </tr>\n",
       "    <tr>\n",
       "      <th>2</th>\n",
       "      <td>MltNB TFIDF preprocessed</td>\n",
       "      <td>0.884020</td>\n",
       "      <td>0.915757</td>\n",
       "      <td>0.90625</td>\n",
       "    </tr>\n",
       "    <tr>\n",
       "      <th>3</th>\n",
       "      <td>MltNB count preprocessed</td>\n",
       "      <td>0.883401</td>\n",
       "      <td>0.903276</td>\n",
       "      <td>0.89875</td>\n",
       "    </tr>\n",
       "  </tbody>\n",
       "</table>\n",
       "</div>"
      ],
      "text/plain": [
       "                      Model  CV Score avg  CV Score max  Holdout Score\n",
       "0                  baseline      0.877145      0.900156        0.89500\n",
       "1               MltNB TFIDF      0.883704      0.909516        0.90375\n",
       "2  MltNB TFIDF preprocessed      0.884020      0.915757        0.90625\n",
       "3  MltNB count preprocessed      0.883401      0.903276        0.89875"
      ]
     },
     "execution_count": 21,
     "metadata": {},
     "output_type": "execute_result"
    }
   ],
   "source": [
    "MltNB_count_preproc, cv_count_preproc, test_count_preproc =  nb_model(train_1,'count',0.8)\n",
    "\n",
    "all_scores = hp.append_scores(all_scores, 'MltNB count preprocessed', cv_count_preproc, test_count_preproc)\n",
    "all_scores"
   ]
  },
  {
   "cell_type": "markdown",
   "metadata": {},
   "source": [
    "### Other Models\n"
   ]
  },
  {
   "cell_type": "markdown",
   "metadata": {},
   "source": [
    "#### Random Forest"
   ]
  },
  {
   "cell_type": "code",
   "execution_count": 22,
   "metadata": {},
   "outputs": [],
   "source": [
    "# ti-idf vectorize rf model\n",
    "def rf_model(data,selection='tfidf',vectorize_max_df=0.8):\n",
    "    # split data\n",
    "    X_train, X_test, y_train, y_test = split_data(data)\n",
    "    \n",
    "    # vectorizer: selection: 'tfidf','count','hash'\n",
    "    vectorizer = vectorize_select(selection, max_df=vectorize_max_df)\n",
    "    # transform data\n",
    "    vectorize_train = vectorizer.fit_transform(X_train)\n",
    "    vectorize_test = vectorizer.transform(X_test)\n",
    "    \n",
    "    # pipeline\n",
    "    estimators = [('RF',RandomForestClassifier(random_state=666,n_estimators=100,max_depth=20))]\n",
    "    pipe = Pipeline(estimators)\n",
    "    param_RF = {'RF__max_depth': [20,25],\n",
    "                'RF__n_estimators': [100,150]}\n",
    "    \n",
    "    # apply the estimators and parameters in pipeline\n",
    "    gridPipe = GridSearchCV(pipe, param_RF, cv=5, return_train_score=True)\n",
    "    model = gridPipe.fit(vectorize_train, y_train)\n",
    "\n",
    "    pred = model.predict(vectorize_test)\n",
    "    acc = accuracy_score(y_test, pred)\n",
    "    \n",
    "    cv_results = gridPipe.cv_results_['mean_test_score']\n",
    "    \n",
    "    #print(\"accuracy:   %0.3f\" % acc)\n",
    "    print(confusion_matrix(y_test, pred, labels=[0, 1]))\n",
    "    \n",
    "    return model, cv_results, acc"
   ]
  },
  {
   "cell_type": "code",
   "execution_count": 23,
   "metadata": {},
   "outputs": [
    {
     "name": "stdout",
     "output_type": "stream",
     "text": [
      "[[367  38]\n",
      " [ 41 354]]\n"
     ]
    },
    {
     "data": {
      "text/html": [
       "<div>\n",
       "<style scoped>\n",
       "    .dataframe tbody tr th:only-of-type {\n",
       "        vertical-align: middle;\n",
       "    }\n",
       "\n",
       "    .dataframe tbody tr th {\n",
       "        vertical-align: top;\n",
       "    }\n",
       "\n",
       "    .dataframe thead th {\n",
       "        text-align: right;\n",
       "    }\n",
       "</style>\n",
       "<table border=\"1\" class=\"dataframe\">\n",
       "  <thead>\n",
       "    <tr style=\"text-align: right;\">\n",
       "      <th></th>\n",
       "      <th>Model</th>\n",
       "      <th>CV Score avg</th>\n",
       "      <th>CV Score max</th>\n",
       "      <th>Holdout Score</th>\n",
       "    </tr>\n",
       "  </thead>\n",
       "  <tbody>\n",
       "    <tr>\n",
       "      <th>0</th>\n",
       "      <td>baseline</td>\n",
       "      <td>0.877145</td>\n",
       "      <td>0.900156</td>\n",
       "      <td>0.89500</td>\n",
       "    </tr>\n",
       "    <tr>\n",
       "      <th>1</th>\n",
       "      <td>MltNB TFIDF</td>\n",
       "      <td>0.883704</td>\n",
       "      <td>0.909516</td>\n",
       "      <td>0.90375</td>\n",
       "    </tr>\n",
       "    <tr>\n",
       "      <th>2</th>\n",
       "      <td>MltNB TFIDF preprocessed</td>\n",
       "      <td>0.884020</td>\n",
       "      <td>0.915757</td>\n",
       "      <td>0.90625</td>\n",
       "    </tr>\n",
       "    <tr>\n",
       "      <th>3</th>\n",
       "      <td>MltNB count preprocessed</td>\n",
       "      <td>0.883401</td>\n",
       "      <td>0.903276</td>\n",
       "      <td>0.89875</td>\n",
       "    </tr>\n",
       "    <tr>\n",
       "      <th>4</th>\n",
       "      <td>RF tfidf</td>\n",
       "      <td>0.854720</td>\n",
       "      <td>0.856518</td>\n",
       "      <td>0.90125</td>\n",
       "    </tr>\n",
       "  </tbody>\n",
       "</table>\n",
       "</div>"
      ],
      "text/plain": [
       "                      Model  CV Score avg  CV Score max  Holdout Score\n",
       "0                  baseline      0.877145      0.900156        0.89500\n",
       "1               MltNB TFIDF      0.883704      0.909516        0.90375\n",
       "2  MltNB TFIDF preprocessed      0.884020      0.915757        0.90625\n",
       "3  MltNB count preprocessed      0.883401      0.903276        0.89875\n",
       "4                  RF tfidf      0.854720      0.856518        0.90125"
      ]
     },
     "execution_count": 23,
     "metadata": {},
     "output_type": "execute_result"
    }
   ],
   "source": [
    "rf_fit, cv_rf, test_rf = rf_model(train_1,'tfidf',0.8)\n",
    "\n",
    "all_scores = hp.append_scores(all_scores, 'RF tfidf', cv_rf, test_rf)\n",
    "all_scores"
   ]
  },
  {
   "cell_type": "code",
   "execution_count": 24,
   "metadata": {},
   "outputs": [
    {
     "name": "stdout",
     "output_type": "stream",
     "text": [
      "[[369  36]\n",
      " [ 59 336]]\n"
     ]
    },
    {
     "data": {
      "text/html": [
       "<div>\n",
       "<style scoped>\n",
       "    .dataframe tbody tr th:only-of-type {\n",
       "        vertical-align: middle;\n",
       "    }\n",
       "\n",
       "    .dataframe tbody tr th {\n",
       "        vertical-align: top;\n",
       "    }\n",
       "\n",
       "    .dataframe thead th {\n",
       "        text-align: right;\n",
       "    }\n",
       "</style>\n",
       "<table border=\"1\" class=\"dataframe\">\n",
       "  <thead>\n",
       "    <tr style=\"text-align: right;\">\n",
       "      <th></th>\n",
       "      <th>Model</th>\n",
       "      <th>CV Score avg</th>\n",
       "      <th>CV Score max</th>\n",
       "      <th>Holdout Score</th>\n",
       "    </tr>\n",
       "  </thead>\n",
       "  <tbody>\n",
       "    <tr>\n",
       "      <th>0</th>\n",
       "      <td>baseline</td>\n",
       "      <td>0.877145</td>\n",
       "      <td>0.900156</td>\n",
       "      <td>0.89500</td>\n",
       "    </tr>\n",
       "    <tr>\n",
       "      <th>1</th>\n",
       "      <td>MltNB TFIDF</td>\n",
       "      <td>0.883704</td>\n",
       "      <td>0.909516</td>\n",
       "      <td>0.90375</td>\n",
       "    </tr>\n",
       "    <tr>\n",
       "      <th>2</th>\n",
       "      <td>MltNB TFIDF preprocessed</td>\n",
       "      <td>0.884020</td>\n",
       "      <td>0.915757</td>\n",
       "      <td>0.90625</td>\n",
       "    </tr>\n",
       "    <tr>\n",
       "      <th>3</th>\n",
       "      <td>MltNB count preprocessed</td>\n",
       "      <td>0.883401</td>\n",
       "      <td>0.903276</td>\n",
       "      <td>0.89875</td>\n",
       "    </tr>\n",
       "    <tr>\n",
       "      <th>4</th>\n",
       "      <td>RF tfidf</td>\n",
       "      <td>0.854720</td>\n",
       "      <td>0.856518</td>\n",
       "      <td>0.90125</td>\n",
       "    </tr>\n",
       "    <tr>\n",
       "      <th>5</th>\n",
       "      <td>RF hash</td>\n",
       "      <td>0.825414</td>\n",
       "      <td>0.831510</td>\n",
       "      <td>0.88125</td>\n",
       "    </tr>\n",
       "  </tbody>\n",
       "</table>\n",
       "</div>"
      ],
      "text/plain": [
       "                      Model  CV Score avg  CV Score max  Holdout Score\n",
       "0                  baseline      0.877145      0.900156        0.89500\n",
       "1               MltNB TFIDF      0.883704      0.909516        0.90375\n",
       "2  MltNB TFIDF preprocessed      0.884020      0.915757        0.90625\n",
       "3  MltNB count preprocessed      0.883401      0.903276        0.89875\n",
       "4                  RF tfidf      0.854720      0.856518        0.90125\n",
       "5                   RF hash      0.825414      0.831510        0.88125"
      ]
     },
     "execution_count": 24,
     "metadata": {},
     "output_type": "execute_result"
    }
   ],
   "source": [
    "rf_fit_hash, cv_rf_hash, test_rf_hash = rf_model(train_1,'hash',0.8)\n",
    "\n",
    "all_scores = hp.append_scores(all_scores, 'RF hash', cv_rf_hash, test_rf_hash)\n",
    "all_scores"
   ]
  },
  {
   "cell_type": "code",
   "execution_count": 25,
   "metadata": {},
   "outputs": [
    {
     "name": "stdout",
     "output_type": "stream",
     "text": [
      "[[373  32]\n",
      " [ 47 348]]\n"
     ]
    },
    {
     "data": {
      "text/html": [
       "<div>\n",
       "<style scoped>\n",
       "    .dataframe tbody tr th:only-of-type {\n",
       "        vertical-align: middle;\n",
       "    }\n",
       "\n",
       "    .dataframe tbody tr th {\n",
       "        vertical-align: top;\n",
       "    }\n",
       "\n",
       "    .dataframe thead th {\n",
       "        text-align: right;\n",
       "    }\n",
       "</style>\n",
       "<table border=\"1\" class=\"dataframe\">\n",
       "  <thead>\n",
       "    <tr style=\"text-align: right;\">\n",
       "      <th></th>\n",
       "      <th>Model</th>\n",
       "      <th>CV Score avg</th>\n",
       "      <th>CV Score max</th>\n",
       "      <th>Holdout Score</th>\n",
       "    </tr>\n",
       "  </thead>\n",
       "  <tbody>\n",
       "    <tr>\n",
       "      <th>0</th>\n",
       "      <td>baseline</td>\n",
       "      <td>0.877145</td>\n",
       "      <td>0.900156</td>\n",
       "      <td>0.89500</td>\n",
       "    </tr>\n",
       "    <tr>\n",
       "      <th>1</th>\n",
       "      <td>MltNB TFIDF</td>\n",
       "      <td>0.883704</td>\n",
       "      <td>0.909516</td>\n",
       "      <td>0.90375</td>\n",
       "    </tr>\n",
       "    <tr>\n",
       "      <th>2</th>\n",
       "      <td>MltNB TFIDF preprocessed</td>\n",
       "      <td>0.884020</td>\n",
       "      <td>0.915757</td>\n",
       "      <td>0.90625</td>\n",
       "    </tr>\n",
       "    <tr>\n",
       "      <th>3</th>\n",
       "      <td>MltNB count preprocessed</td>\n",
       "      <td>0.883401</td>\n",
       "      <td>0.903276</td>\n",
       "      <td>0.89875</td>\n",
       "    </tr>\n",
       "    <tr>\n",
       "      <th>4</th>\n",
       "      <td>RF tfidf</td>\n",
       "      <td>0.854720</td>\n",
       "      <td>0.856518</td>\n",
       "      <td>0.90125</td>\n",
       "    </tr>\n",
       "    <tr>\n",
       "      <th>5</th>\n",
       "      <td>RF hash</td>\n",
       "      <td>0.825414</td>\n",
       "      <td>0.831510</td>\n",
       "      <td>0.88125</td>\n",
       "    </tr>\n",
       "    <tr>\n",
       "      <th>6</th>\n",
       "      <td>RF count</td>\n",
       "      <td>0.860425</td>\n",
       "      <td>0.866833</td>\n",
       "      <td>0.90125</td>\n",
       "    </tr>\n",
       "  </tbody>\n",
       "</table>\n",
       "</div>"
      ],
      "text/plain": [
       "                      Model  CV Score avg  CV Score max  Holdout Score\n",
       "0                  baseline      0.877145      0.900156        0.89500\n",
       "1               MltNB TFIDF      0.883704      0.909516        0.90375\n",
       "2  MltNB TFIDF preprocessed      0.884020      0.915757        0.90625\n",
       "3  MltNB count preprocessed      0.883401      0.903276        0.89875\n",
       "4                  RF tfidf      0.854720      0.856518        0.90125\n",
       "5                   RF hash      0.825414      0.831510        0.88125\n",
       "6                  RF count      0.860425      0.866833        0.90125"
      ]
     },
     "execution_count": 25,
     "metadata": {},
     "output_type": "execute_result"
    }
   ],
   "source": [
    "rf_fit_count, cv_rf_count, test_rf_count = rf_model(train_1,'count',0.8)\n",
    "\n",
    "all_scores = hp.append_scores(all_scores, 'RF count', cv_rf_count, test_rf_count)\n",
    "all_scores"
   ]
  },
  {
   "cell_type": "markdown",
   "metadata": {},
   "source": [
    "#### Passive Aggressive Classifier"
   ]
  },
  {
   "cell_type": "code",
   "execution_count": 26,
   "metadata": {},
   "outputs": [],
   "source": [
    "def PAC(data, selection='tfidf', vectorize_max_df=0.8, feature='text', lowercase = True):\n",
    "    # split data\n",
    "    X_train, X_test, y_train, y_test = split_data(data, feature=feature)\n",
    "    # vectorizer: selection: 'tfidf','count','hash'\n",
    "    vectorizer = vectorize_select(selection, max_df=vectorize_max_df, lowercase = lowercase)\n",
    "    # transform data\n",
    "    vectorize_train = vectorizer.fit_transform(X_train)\n",
    "    vectorize_test = vectorizer.transform(X_test)\n",
    "    # model \n",
    "    linear_clf = PassiveAggressiveClassifier(random_state=666, max_iter=100, tol=1e-3,\n",
    "                                             early_stopping=True, validation_fraction=0.1)\n",
    "    \n",
    "    clf_cv_scores = cross_val_score(linear_clf,\n",
    "                                vectorize_train,\n",
    "                                y_train,\n",
    "                                cv = 5)\n",
    "    linear_clf.fit(vectorize_train, y_train)\n",
    "    pred = linear_clf.predict(vectorize_test)\n",
    "    acc = accuracy_score(y_test, pred)\n",
    "    \n",
    "    #print(\"accuracy:   %0.3f\" % acc)\n",
    "    print(confusion_matrix(y_test, pred, labels=[0, 1]))\n",
    "    \n",
    "    return linear_clf, vectorizer, clf_cv_scores, acc"
   ]
  },
  {
   "cell_type": "markdown",
   "metadata": {},
   "source": [
    "First, use PAC on the text using the different vectorizers:"
   ]
  },
  {
   "cell_type": "code",
   "execution_count": 27,
   "metadata": {},
   "outputs": [
    {
     "name": "stdout",
     "output_type": "stream",
     "text": [
      "[[378  27]\n",
      " [ 26 369]]\n"
     ]
    },
    {
     "data": {
      "text/html": [
       "<div>\n",
       "<style scoped>\n",
       "    .dataframe tbody tr th:only-of-type {\n",
       "        vertical-align: middle;\n",
       "    }\n",
       "\n",
       "    .dataframe tbody tr th {\n",
       "        vertical-align: top;\n",
       "    }\n",
       "\n",
       "    .dataframe thead th {\n",
       "        text-align: right;\n",
       "    }\n",
       "</style>\n",
       "<table border=\"1\" class=\"dataframe\">\n",
       "  <thead>\n",
       "    <tr style=\"text-align: right;\">\n",
       "      <th></th>\n",
       "      <th>Model</th>\n",
       "      <th>CV Score avg</th>\n",
       "      <th>CV Score max</th>\n",
       "      <th>Holdout Score</th>\n",
       "    </tr>\n",
       "  </thead>\n",
       "  <tbody>\n",
       "    <tr>\n",
       "      <th>0</th>\n",
       "      <td>baseline</td>\n",
       "      <td>0.877145</td>\n",
       "      <td>0.900156</td>\n",
       "      <td>0.89500</td>\n",
       "    </tr>\n",
       "    <tr>\n",
       "      <th>1</th>\n",
       "      <td>MltNB TFIDF</td>\n",
       "      <td>0.883704</td>\n",
       "      <td>0.909516</td>\n",
       "      <td>0.90375</td>\n",
       "    </tr>\n",
       "    <tr>\n",
       "      <th>2</th>\n",
       "      <td>MltNB TFIDF preprocessed</td>\n",
       "      <td>0.884020</td>\n",
       "      <td>0.915757</td>\n",
       "      <td>0.90625</td>\n",
       "    </tr>\n",
       "    <tr>\n",
       "      <th>3</th>\n",
       "      <td>MltNB count preprocessed</td>\n",
       "      <td>0.883401</td>\n",
       "      <td>0.903276</td>\n",
       "      <td>0.89875</td>\n",
       "    </tr>\n",
       "    <tr>\n",
       "      <th>4</th>\n",
       "      <td>RF tfidf</td>\n",
       "      <td>0.854720</td>\n",
       "      <td>0.856518</td>\n",
       "      <td>0.90125</td>\n",
       "    </tr>\n",
       "    <tr>\n",
       "      <th>5</th>\n",
       "      <td>RF hash</td>\n",
       "      <td>0.825414</td>\n",
       "      <td>0.831510</td>\n",
       "      <td>0.88125</td>\n",
       "    </tr>\n",
       "    <tr>\n",
       "      <th>6</th>\n",
       "      <td>RF count</td>\n",
       "      <td>0.860425</td>\n",
       "      <td>0.866833</td>\n",
       "      <td>0.90125</td>\n",
       "    </tr>\n",
       "    <tr>\n",
       "      <th>7</th>\n",
       "      <td>PAC tfidf</td>\n",
       "      <td>0.927783</td>\n",
       "      <td>0.948518</td>\n",
       "      <td>0.93375</td>\n",
       "    </tr>\n",
       "  </tbody>\n",
       "</table>\n",
       "</div>"
      ],
      "text/plain": [
       "                      Model  CV Score avg  CV Score max  Holdout Score\n",
       "0                  baseline      0.877145      0.900156        0.89500\n",
       "1               MltNB TFIDF      0.883704      0.909516        0.90375\n",
       "2  MltNB TFIDF preprocessed      0.884020      0.915757        0.90625\n",
       "3  MltNB count preprocessed      0.883401      0.903276        0.89875\n",
       "4                  RF tfidf      0.854720      0.856518        0.90125\n",
       "5                   RF hash      0.825414      0.831510        0.88125\n",
       "6                  RF count      0.860425      0.866833        0.90125\n",
       "7                 PAC tfidf      0.927783      0.948518        0.93375"
      ]
     },
     "execution_count": 27,
     "metadata": {},
     "output_type": "execute_result"
    }
   ],
   "source": [
    "m_text, v_text, cv_pac_tfidf, test_pac_tfidf = PAC(train_1,'tfidf')\n",
    "\n",
    "all_scores = hp.append_scores(all_scores, 'PAC tfidf', cv_pac_tfidf, test_pac_tfidf)\n",
    "all_scores"
   ]
  },
  {
   "cell_type": "code",
   "execution_count": 28,
   "metadata": {},
   "outputs": [
    {
     "name": "stdout",
     "output_type": "stream",
     "text": [
      "[[365  40]\n",
      " [ 33 362]]\n"
     ]
    },
    {
     "data": {
      "text/html": [
       "<div>\n",
       "<style scoped>\n",
       "    .dataframe tbody tr th:only-of-type {\n",
       "        vertical-align: middle;\n",
       "    }\n",
       "\n",
       "    .dataframe tbody tr th {\n",
       "        vertical-align: top;\n",
       "    }\n",
       "\n",
       "    .dataframe thead th {\n",
       "        text-align: right;\n",
       "    }\n",
       "</style>\n",
       "<table border=\"1\" class=\"dataframe\">\n",
       "  <thead>\n",
       "    <tr style=\"text-align: right;\">\n",
       "      <th></th>\n",
       "      <th>Model</th>\n",
       "      <th>CV Score avg</th>\n",
       "      <th>CV Score max</th>\n",
       "      <th>Holdout Score</th>\n",
       "    </tr>\n",
       "  </thead>\n",
       "  <tbody>\n",
       "    <tr>\n",
       "      <th>0</th>\n",
       "      <td>baseline</td>\n",
       "      <td>0.877145</td>\n",
       "      <td>0.900156</td>\n",
       "      <td>0.89500</td>\n",
       "    </tr>\n",
       "    <tr>\n",
       "      <th>1</th>\n",
       "      <td>MltNB TFIDF</td>\n",
       "      <td>0.883704</td>\n",
       "      <td>0.909516</td>\n",
       "      <td>0.90375</td>\n",
       "    </tr>\n",
       "    <tr>\n",
       "      <th>2</th>\n",
       "      <td>MltNB TFIDF preprocessed</td>\n",
       "      <td>0.884020</td>\n",
       "      <td>0.915757</td>\n",
       "      <td>0.90625</td>\n",
       "    </tr>\n",
       "    <tr>\n",
       "      <th>3</th>\n",
       "      <td>MltNB count preprocessed</td>\n",
       "      <td>0.883401</td>\n",
       "      <td>0.903276</td>\n",
       "      <td>0.89875</td>\n",
       "    </tr>\n",
       "    <tr>\n",
       "      <th>4</th>\n",
       "      <td>RF tfidf</td>\n",
       "      <td>0.854720</td>\n",
       "      <td>0.856518</td>\n",
       "      <td>0.90125</td>\n",
       "    </tr>\n",
       "    <tr>\n",
       "      <th>5</th>\n",
       "      <td>RF hash</td>\n",
       "      <td>0.825414</td>\n",
       "      <td>0.831510</td>\n",
       "      <td>0.88125</td>\n",
       "    </tr>\n",
       "    <tr>\n",
       "      <th>6</th>\n",
       "      <td>RF count</td>\n",
       "      <td>0.860425</td>\n",
       "      <td>0.866833</td>\n",
       "      <td>0.90125</td>\n",
       "    </tr>\n",
       "    <tr>\n",
       "      <th>7</th>\n",
       "      <td>PAC tfidf</td>\n",
       "      <td>0.927783</td>\n",
       "      <td>0.948518</td>\n",
       "      <td>0.93375</td>\n",
       "    </tr>\n",
       "    <tr>\n",
       "      <th>8</th>\n",
       "      <td>PAC hash</td>\n",
       "      <td>0.917158</td>\n",
       "      <td>0.923557</td>\n",
       "      <td>0.90875</td>\n",
       "    </tr>\n",
       "  </tbody>\n",
       "</table>\n",
       "</div>"
      ],
      "text/plain": [
       "                      Model  CV Score avg  CV Score max  Holdout Score\n",
       "0                  baseline      0.877145      0.900156        0.89500\n",
       "1               MltNB TFIDF      0.883704      0.909516        0.90375\n",
       "2  MltNB TFIDF preprocessed      0.884020      0.915757        0.90625\n",
       "3  MltNB count preprocessed      0.883401      0.903276        0.89875\n",
       "4                  RF tfidf      0.854720      0.856518        0.90125\n",
       "5                   RF hash      0.825414      0.831510        0.88125\n",
       "6                  RF count      0.860425      0.866833        0.90125\n",
       "7                 PAC tfidf      0.927783      0.948518        0.93375\n",
       "8                  PAC hash      0.917158      0.923557        0.90875"
      ]
     },
     "execution_count": 28,
     "metadata": {},
     "output_type": "execute_result"
    }
   ],
   "source": [
    "m_hash, v_hash, cv_pac_hash, test_pac_hash = PAC(train_1,'hash')\n",
    "\n",
    "all_scores = hp.append_scores(all_scores, 'PAC hash', cv_pac_hash, test_pac_hash)\n",
    "all_scores"
   ]
  },
  {
   "cell_type": "code",
   "execution_count": 29,
   "metadata": {},
   "outputs": [
    {
     "name": "stdout",
     "output_type": "stream",
     "text": [
      "[[346  59]\n",
      " [ 46 349]]\n"
     ]
    },
    {
     "data": {
      "text/html": [
       "<div>\n",
       "<style scoped>\n",
       "    .dataframe tbody tr th:only-of-type {\n",
       "        vertical-align: middle;\n",
       "    }\n",
       "\n",
       "    .dataframe tbody tr th {\n",
       "        vertical-align: top;\n",
       "    }\n",
       "\n",
       "    .dataframe thead th {\n",
       "        text-align: right;\n",
       "    }\n",
       "</style>\n",
       "<table border=\"1\" class=\"dataframe\">\n",
       "  <thead>\n",
       "    <tr style=\"text-align: right;\">\n",
       "      <th></th>\n",
       "      <th>Model</th>\n",
       "      <th>CV Score avg</th>\n",
       "      <th>CV Score max</th>\n",
       "      <th>Holdout Score</th>\n",
       "    </tr>\n",
       "  </thead>\n",
       "  <tbody>\n",
       "    <tr>\n",
       "      <th>0</th>\n",
       "      <td>baseline</td>\n",
       "      <td>0.877145</td>\n",
       "      <td>0.900156</td>\n",
       "      <td>0.89500</td>\n",
       "    </tr>\n",
       "    <tr>\n",
       "      <th>1</th>\n",
       "      <td>MltNB TFIDF</td>\n",
       "      <td>0.883704</td>\n",
       "      <td>0.909516</td>\n",
       "      <td>0.90375</td>\n",
       "    </tr>\n",
       "    <tr>\n",
       "      <th>2</th>\n",
       "      <td>MltNB TFIDF preprocessed</td>\n",
       "      <td>0.884020</td>\n",
       "      <td>0.915757</td>\n",
       "      <td>0.90625</td>\n",
       "    </tr>\n",
       "    <tr>\n",
       "      <th>3</th>\n",
       "      <td>MltNB count preprocessed</td>\n",
       "      <td>0.883401</td>\n",
       "      <td>0.903276</td>\n",
       "      <td>0.89875</td>\n",
       "    </tr>\n",
       "    <tr>\n",
       "      <th>4</th>\n",
       "      <td>RF tfidf</td>\n",
       "      <td>0.854720</td>\n",
       "      <td>0.856518</td>\n",
       "      <td>0.90125</td>\n",
       "    </tr>\n",
       "    <tr>\n",
       "      <th>5</th>\n",
       "      <td>RF hash</td>\n",
       "      <td>0.825414</td>\n",
       "      <td>0.831510</td>\n",
       "      <td>0.88125</td>\n",
       "    </tr>\n",
       "    <tr>\n",
       "      <th>6</th>\n",
       "      <td>RF count</td>\n",
       "      <td>0.860425</td>\n",
       "      <td>0.866833</td>\n",
       "      <td>0.90125</td>\n",
       "    </tr>\n",
       "    <tr>\n",
       "      <th>7</th>\n",
       "      <td>PAC tfidf</td>\n",
       "      <td>0.927783</td>\n",
       "      <td>0.948518</td>\n",
       "      <td>0.93375</td>\n",
       "    </tr>\n",
       "    <tr>\n",
       "      <th>8</th>\n",
       "      <td>PAC hash</td>\n",
       "      <td>0.917158</td>\n",
       "      <td>0.923557</td>\n",
       "      <td>0.90875</td>\n",
       "    </tr>\n",
       "    <tr>\n",
       "      <th>9</th>\n",
       "      <td>PAC count</td>\n",
       "      <td>0.882466</td>\n",
       "      <td>0.892019</td>\n",
       "      <td>0.86875</td>\n",
       "    </tr>\n",
       "  </tbody>\n",
       "</table>\n",
       "</div>"
      ],
      "text/plain": [
       "                      Model  CV Score avg  CV Score max  Holdout Score\n",
       "0                  baseline      0.877145      0.900156        0.89500\n",
       "1               MltNB TFIDF      0.883704      0.909516        0.90375\n",
       "2  MltNB TFIDF preprocessed      0.884020      0.915757        0.90625\n",
       "3  MltNB count preprocessed      0.883401      0.903276        0.89875\n",
       "4                  RF tfidf      0.854720      0.856518        0.90125\n",
       "5                   RF hash      0.825414      0.831510        0.88125\n",
       "6                  RF count      0.860425      0.866833        0.90125\n",
       "7                 PAC tfidf      0.927783      0.948518        0.93375\n",
       "8                  PAC hash      0.917158      0.923557        0.90875\n",
       "9                 PAC count      0.882466      0.892019        0.86875"
      ]
     },
     "execution_count": 29,
     "metadata": {},
     "output_type": "execute_result"
    }
   ],
   "source": [
    "m_count, v_count, cv_pac_count, test_pac_count = PAC(train_1,'count')\n",
    "\n",
    "all_scores = hp.append_scores(all_scores, 'PAC count', cv_pac_count, test_pac_count)\n",
    "all_scores"
   ]
  },
  {
   "cell_type": "markdown",
   "metadata": {},
   "source": [
    "### Model on Title"
   ]
  },
  {
   "cell_type": "markdown",
   "metadata": {},
   "source": [
    "Repeat the same but using the title only:"
   ]
  },
  {
   "cell_type": "code",
   "execution_count": 30,
   "metadata": {},
   "outputs": [
    {
     "name": "stdout",
     "output_type": "stream",
     "text": [
      "[[318  87]\n",
      " [ 84 311]]\n"
     ]
    },
    {
     "data": {
      "text/html": [
       "<div>\n",
       "<style scoped>\n",
       "    .dataframe tbody tr th:only-of-type {\n",
       "        vertical-align: middle;\n",
       "    }\n",
       "\n",
       "    .dataframe tbody tr th {\n",
       "        vertical-align: top;\n",
       "    }\n",
       "\n",
       "    .dataframe thead th {\n",
       "        text-align: right;\n",
       "    }\n",
       "</style>\n",
       "<table border=\"1\" class=\"dataframe\">\n",
       "  <thead>\n",
       "    <tr style=\"text-align: right;\">\n",
       "      <th></th>\n",
       "      <th>Model</th>\n",
       "      <th>CV Score avg</th>\n",
       "      <th>CV Score max</th>\n",
       "      <th>Holdout Score</th>\n",
       "    </tr>\n",
       "  </thead>\n",
       "  <tbody>\n",
       "    <tr>\n",
       "      <th>0</th>\n",
       "      <td>baseline</td>\n",
       "      <td>0.877145</td>\n",
       "      <td>0.900156</td>\n",
       "      <td>0.89500</td>\n",
       "    </tr>\n",
       "    <tr>\n",
       "      <th>1</th>\n",
       "      <td>MltNB TFIDF</td>\n",
       "      <td>0.883704</td>\n",
       "      <td>0.909516</td>\n",
       "      <td>0.90375</td>\n",
       "    </tr>\n",
       "    <tr>\n",
       "      <th>2</th>\n",
       "      <td>MltNB TFIDF preprocessed</td>\n",
       "      <td>0.884020</td>\n",
       "      <td>0.915757</td>\n",
       "      <td>0.90625</td>\n",
       "    </tr>\n",
       "    <tr>\n",
       "      <th>3</th>\n",
       "      <td>MltNB count preprocessed</td>\n",
       "      <td>0.883401</td>\n",
       "      <td>0.903276</td>\n",
       "      <td>0.89875</td>\n",
       "    </tr>\n",
       "    <tr>\n",
       "      <th>4</th>\n",
       "      <td>RF tfidf</td>\n",
       "      <td>0.854720</td>\n",
       "      <td>0.856518</td>\n",
       "      <td>0.90125</td>\n",
       "    </tr>\n",
       "    <tr>\n",
       "      <th>5</th>\n",
       "      <td>RF hash</td>\n",
       "      <td>0.825414</td>\n",
       "      <td>0.831510</td>\n",
       "      <td>0.88125</td>\n",
       "    </tr>\n",
       "    <tr>\n",
       "      <th>6</th>\n",
       "      <td>RF count</td>\n",
       "      <td>0.860425</td>\n",
       "      <td>0.866833</td>\n",
       "      <td>0.90125</td>\n",
       "    </tr>\n",
       "    <tr>\n",
       "      <th>7</th>\n",
       "      <td>PAC tfidf</td>\n",
       "      <td>0.927783</td>\n",
       "      <td>0.948518</td>\n",
       "      <td>0.93375</td>\n",
       "    </tr>\n",
       "    <tr>\n",
       "      <th>8</th>\n",
       "      <td>PAC hash</td>\n",
       "      <td>0.917158</td>\n",
       "      <td>0.923557</td>\n",
       "      <td>0.90875</td>\n",
       "    </tr>\n",
       "    <tr>\n",
       "      <th>9</th>\n",
       "      <td>PAC count</td>\n",
       "      <td>0.882466</td>\n",
       "      <td>0.892019</td>\n",
       "      <td>0.86875</td>\n",
       "    </tr>\n",
       "    <tr>\n",
       "      <th>10</th>\n",
       "      <td>PAC title count</td>\n",
       "      <td>0.774299</td>\n",
       "      <td>0.784711</td>\n",
       "      <td>0.78625</td>\n",
       "    </tr>\n",
       "  </tbody>\n",
       "</table>\n",
       "</div>"
      ],
      "text/plain": [
       "                       Model  CV Score avg  CV Score max  Holdout Score\n",
       "0                   baseline      0.877145      0.900156        0.89500\n",
       "1                MltNB TFIDF      0.883704      0.909516        0.90375\n",
       "2   MltNB TFIDF preprocessed      0.884020      0.915757        0.90625\n",
       "3   MltNB count preprocessed      0.883401      0.903276        0.89875\n",
       "4                   RF tfidf      0.854720      0.856518        0.90125\n",
       "5                    RF hash      0.825414      0.831510        0.88125\n",
       "6                   RF count      0.860425      0.866833        0.90125\n",
       "7                  PAC tfidf      0.927783      0.948518        0.93375\n",
       "8                   PAC hash      0.917158      0.923557        0.90875\n",
       "9                  PAC count      0.882466      0.892019        0.86875\n",
       "10           PAC title count      0.774299      0.784711        0.78625"
      ]
     },
     "execution_count": 30,
     "metadata": {},
     "output_type": "execute_result"
    }
   ],
   "source": [
    "m_title, v_title, cv_pac_title, test_pac_title = PAC(train_1,'tfidf', feature='title')\n",
    "\n",
    "all_scores = hp.append_scores(all_scores, 'PAC title count', cv_pac_title, test_pac_title)\n",
    "all_scores"
   ]
  },
  {
   "cell_type": "code",
   "execution_count": 31,
   "metadata": {},
   "outputs": [
    {
     "name": "stdout",
     "output_type": "stream",
     "text": [
      "[[309  96]\n",
      " [ 84 311]]\n"
     ]
    },
    {
     "data": {
      "text/plain": [
       "(PassiveAggressiveClassifier(C=1.0, average=False, class_weight=None,\n",
       "               early_stopping=True, fit_intercept=True, loss='hinge',\n",
       "               max_iter=100, n_iter=None, n_iter_no_change=5, n_jobs=None,\n",
       "               random_state=666, shuffle=True, tol=0.001,\n",
       "               validation_fraction=0.1, verbose=0, warm_start=False),\n",
       " CountVectorizer(analyzer='word', binary=False, decode_error='strict',\n",
       "         dtype=<class 'numpy.int64'>, encoding='utf-8', input='content',\n",
       "         lowercase=True, max_df=0.8, max_features=None, min_df=1,\n",
       "         ngram_range=(1, 1), preprocessor=None, stop_words='english',\n",
       "         strip_accents=None, token_pattern='(?u)\\\\b\\\\w\\\\w+\\\\b',\n",
       "         tokenizer=None, vocabulary=None),\n",
       " array([0.7800312 , 0.75625   , 0.753125  , 0.76525822, 0.77621283]),\n",
       " 0.775)"
      ]
     },
     "execution_count": 31,
     "metadata": {},
     "output_type": "execute_result"
    }
   ],
   "source": [
    "PAC(train_1, 'count', feature='title')"
   ]
  },
  {
   "cell_type": "code",
   "execution_count": 32,
   "metadata": {
    "scrolled": true
   },
   "outputs": [
    {
     "name": "stdout",
     "output_type": "stream",
     "text": [
      "[[318  87]\n",
      " [ 82 313]]\n"
     ]
    },
    {
     "data": {
      "text/plain": [
       "(PassiveAggressiveClassifier(C=1.0, average=False, class_weight=None,\n",
       "               early_stopping=True, fit_intercept=True, loss='hinge',\n",
       "               max_iter=100, n_iter=None, n_iter_no_change=5, n_jobs=None,\n",
       "               random_state=666, shuffle=True, tol=0.001,\n",
       "               validation_fraction=0.1, verbose=0, warm_start=False),\n",
       " HashingVectorizer(alternate_sign=True, analyzer='word', binary=False,\n",
       "          decode_error='strict', dtype=<class 'numpy.float64'>,\n",
       "          encoding='utf-8', input='content', lowercase=True,\n",
       "          n_features=1048576, ngram_range=(1, 1), non_negative=False,\n",
       "          norm='l2', preprocessor=None, stop_words='english',\n",
       "          strip_accents=None, token_pattern='(?u)\\\\b\\\\w\\\\w+\\\\b',\n",
       "          tokenizer=None),\n",
       " array([0.78783151, 0.7578125 , 0.76875   , 0.77934272, 0.78090767]),\n",
       " 0.78875)"
      ]
     },
     "execution_count": 32,
     "metadata": {},
     "output_type": "execute_result"
    }
   ],
   "source": [
    "PAC(train_1, 'hash', feature='title')"
   ]
  },
  {
   "cell_type": "markdown",
   "metadata": {},
   "source": [
    "And now combine the best predictions from text and title:"
   ]
  },
  {
   "cell_type": "markdown",
   "metadata": {},
   "source": [
    "1. predict base on text (train on training set, predict on the entire)\n",
    "2. predict base on title (train on training set, predict on the entire)\n",
    "3. add two predictions to the dataframe\n",
    "4. maybe concatenate title and text?"
   ]
  },
  {
   "cell_type": "code",
   "execution_count": 33,
   "metadata": {},
   "outputs": [],
   "source": [
    "# adding text based prediction to data\n",
    "data_text = v_text.transform(train_1.text)\n",
    "data_text_prediction = m_text.predict(data_text)\n",
    "train_1['text_predict'] = data_text_prediction"
   ]
  },
  {
   "cell_type": "code",
   "execution_count": 34,
   "metadata": {},
   "outputs": [],
   "source": [
    "# adding title based prediction to data\n",
    "data_title = v_title.transform(train_1.title)\n",
    "data_title_prediction = m_title.predict(data_title)\n",
    "train_1['title_predict'] = data_title_prediction"
   ]
  },
  {
   "cell_type": "markdown",
   "metadata": {},
   "source": [
    "#### Further Process Data"
   ]
  },
  {
   "cell_type": "markdown",
   "metadata": {},
   "source": [
    "Create a dataframe containing several other features as well as the predictions from text and title and predict using that dataframe"
   ]
  },
  {
   "cell_type": "code",
   "execution_count": 35,
   "metadata": {},
   "outputs": [],
   "source": [
    "train_2 = hp.preprocess_data(train_1, drop_unprocessed = False)\n",
    "train_3 = train_2[['label','text_predict','title_predict','trump_title', 'trump_text',\n",
    "                   'title_NN_count', 'title_VERB_count','title_ADJ_count', \n",
    "                   'text_NN_count', 'text_VERB_count','text_ADJ_count', \n",
    "                   'title_length', 'text_length']]"
   ]
  },
  {
   "cell_type": "code",
   "execution_count": 36,
   "metadata": {},
   "outputs": [],
   "source": [
    "# ti-idf vectorize rf model\n",
    "def rf_model_2(data,features):\n",
    "    # split data\n",
    "    X_train, X_test, y_train, y_test = split_data(data,feature=features)\n",
    "    \n",
    "    # pipeline\n",
    "    estimators = [('RF',RandomForestClassifier(random_state=666))]\n",
    "    pipe = Pipeline(estimators)\n",
    "    param_RF = {'RF__max_depth': [20,25],\n",
    "                'RF__n_estimators': [150,200]}\n",
    "    \n",
    "    # apply the estimators and parameters in pipeline\n",
    "    gridPipe = GridSearchCV(pipe, param_RF, cv=5, return_train_score=True)\n",
    "    model = gridPipe.fit(X_train, y_train)\n",
    "\n",
    "    pred = model.predict(X_test)\n",
    "    acc = accuracy_score(y_test, pred)\n",
    "    print(\"accuracy:   %0.3f\" % acc)\n",
    "    print(confusion_matrix(y_test, pred, labels=[0, 1]))\n",
    "\n",
    "    return model"
   ]
  },
  {
   "cell_type": "code",
   "execution_count": 37,
   "metadata": {},
   "outputs": [
    {
     "name": "stdout",
     "output_type": "stream",
     "text": [
      "accuracy:   0.934\n",
      "[[378  27]\n",
      " [ 26 369]]\n"
     ]
    }
   ],
   "source": [
    "features = ['text_predict','title_predict',\n",
    "            'trump_title', 'trump_text',\n",
    "#             'title_NN_count', 'title_VERB_count','title_ADJ_count', \n",
    "#             'text_NN_count', 'text_VERB_count','text_ADJ_count', \n",
    "#             'title_length', 'text_length'\n",
    "           ]\n",
    "m = rf_model_2(train_3,features)"
   ]
  },
  {
   "cell_type": "code",
   "execution_count": 48,
   "metadata": {},
   "outputs": [],
   "source": [
    "porter=PorterStemmer()\n",
    "def stemSentence(sentence):\n",
    "    token_words=word_tokenize(sentence.lower())\n",
    "    stem_sentence=[]\n",
    "    for word in token_words:\n",
    "        stem_sentence.append(porter.stem(word))\n",
    "        stem_sentence.append(\" \")\n",
    "    return \"\".join(stem_sentence)"
   ]
  },
  {
   "cell_type": "code",
   "execution_count": 49,
   "metadata": {},
   "outputs": [],
   "source": [
    "def penn_to_wn(tag):\n",
    "    \"\"\"\n",
    "    Convert between the PennTreebank tags to simple Wordnet tags\n",
    "    \"\"\"\n",
    "    if tag.startswith('J'):\n",
    "        return wn.ADJ\n",
    "    elif tag.startswith('N'):\n",
    "        return wn.NOUN\n",
    "    elif tag.startswith('R'):\n",
    "        return wn.ADV\n",
    "    elif tag.startswith('V'):\n",
    "        return wn.VERB\n",
    "    return None\n",
    "\n",
    "lemmatizer = WordNetLemmatizer()\n",
    "def lemma(text):    \n",
    "    tagged_sentence = pos_tag(word_tokenize(text))\n",
    "    lemm = [lemmatizer.lemmatize(word, pos=penn_to_wn(tag)) for word, tag in tagged_sentence if penn_to_wn(tag) != None ]\n",
    "    return \" \".join(lemm)"
   ]
  },
  {
   "cell_type": "code",
   "execution_count": 40,
   "metadata": {},
   "outputs": [],
   "source": [
    "# reprepare data\n",
    "train_2 = hp.prepare_data(train_0)"
   ]
  },
  {
   "cell_type": "code",
   "execution_count": 41,
   "metadata": {},
   "outputs": [
    {
     "data": {
      "text/html": [
       "<div>\n",
       "<style scoped>\n",
       "    .dataframe tbody tr th:only-of-type {\n",
       "        vertical-align: middle;\n",
       "    }\n",
       "\n",
       "    .dataframe tbody tr th {\n",
       "        vertical-align: top;\n",
       "    }\n",
       "\n",
       "    .dataframe thead th {\n",
       "        text-align: right;\n",
       "    }\n",
       "</style>\n",
       "<table border=\"1\" class=\"dataframe\">\n",
       "  <thead>\n",
       "    <tr style=\"text-align: right;\">\n",
       "      <th></th>\n",
       "      <th>ID</th>\n",
       "      <th>title</th>\n",
       "      <th>text</th>\n",
       "      <th>label</th>\n",
       "    </tr>\n",
       "  </thead>\n",
       "  <tbody>\n",
       "    <tr>\n",
       "      <th>0</th>\n",
       "      <td>8476</td>\n",
       "      <td>You Can Smell Hillary’s Fear</td>\n",
       "      <td>Daniel Greenfield, a Shillman Journalism Fello...</td>\n",
       "      <td>0</td>\n",
       "    </tr>\n",
       "    <tr>\n",
       "      <th>1</th>\n",
       "      <td>10294</td>\n",
       "      <td>Watch The Exact Moment Paul Ryan Committed Pol...</td>\n",
       "      <td>Google Pinterest Digg Linkedin Reddit Stumbleu...</td>\n",
       "      <td>0</td>\n",
       "    </tr>\n",
       "    <tr>\n",
       "      <th>2</th>\n",
       "      <td>3608</td>\n",
       "      <td>Kerry to go to Paris in gesture of sympathy</td>\n",
       "      <td>U.S. Secretary of State John F. Kerry said Mon...</td>\n",
       "      <td>1</td>\n",
       "    </tr>\n",
       "    <tr>\n",
       "      <th>3</th>\n",
       "      <td>10142</td>\n",
       "      <td>Bernie supporters on Twitter erupt in anger ag...</td>\n",
       "      <td>— Kaydee King (@KaydeeKing) November 9, 2016 T...</td>\n",
       "      <td>0</td>\n",
       "    </tr>\n",
       "    <tr>\n",
       "      <th>4</th>\n",
       "      <td>875</td>\n",
       "      <td>The Battle of New York: Why This Primary Matters</td>\n",
       "      <td>It's primary day in New York and front-runners...</td>\n",
       "      <td>1</td>\n",
       "    </tr>\n",
       "  </tbody>\n",
       "</table>\n",
       "</div>"
      ],
      "text/plain": [
       "      ID                                              title  \\\n",
       "0   8476                       You Can Smell Hillary’s Fear   \n",
       "1  10294  Watch The Exact Moment Paul Ryan Committed Pol...   \n",
       "2   3608        Kerry to go to Paris in gesture of sympathy   \n",
       "3  10142  Bernie supporters on Twitter erupt in anger ag...   \n",
       "4    875   The Battle of New York: Why This Primary Matters   \n",
       "\n",
       "                                                text  label  \n",
       "0  Daniel Greenfield, a Shillman Journalism Fello...      0  \n",
       "1  Google Pinterest Digg Linkedin Reddit Stumbleu...      0  \n",
       "2  U.S. Secretary of State John F. Kerry said Mon...      1  \n",
       "3  — Kaydee King (@KaydeeKing) November 9, 2016 T...      0  \n",
       "4  It's primary day in New York and front-runners...      1  "
      ]
     },
     "execution_count": 41,
     "metadata": {},
     "output_type": "execute_result"
    }
   ],
   "source": [
    "train_2.head()"
   ]
  },
  {
   "cell_type": "code",
   "execution_count": 43,
   "metadata": {
    "scrolled": true
   },
   "outputs": [
    {
     "name": "stdout",
     "output_type": "stream",
     "text": [
      "[[385  20]\n",
      " [ 15 380]]\n"
     ]
    },
    {
     "data": {
      "text/html": [
       "<div>\n",
       "<style scoped>\n",
       "    .dataframe tbody tr th:only-of-type {\n",
       "        vertical-align: middle;\n",
       "    }\n",
       "\n",
       "    .dataframe tbody tr th {\n",
       "        vertical-align: top;\n",
       "    }\n",
       "\n",
       "    .dataframe thead th {\n",
       "        text-align: right;\n",
       "    }\n",
       "</style>\n",
       "<table border=\"1\" class=\"dataframe\">\n",
       "  <thead>\n",
       "    <tr style=\"text-align: right;\">\n",
       "      <th></th>\n",
       "      <th>Model</th>\n",
       "      <th>CV Score avg</th>\n",
       "      <th>CV Score max</th>\n",
       "      <th>Holdout Score</th>\n",
       "    </tr>\n",
       "  </thead>\n",
       "  <tbody>\n",
       "    <tr>\n",
       "      <th>0</th>\n",
       "      <td>baseline</td>\n",
       "      <td>0.877145</td>\n",
       "      <td>0.900156</td>\n",
       "      <td>0.89500</td>\n",
       "    </tr>\n",
       "    <tr>\n",
       "      <th>1</th>\n",
       "      <td>MltNB TFIDF</td>\n",
       "      <td>0.883704</td>\n",
       "      <td>0.909516</td>\n",
       "      <td>0.90375</td>\n",
       "    </tr>\n",
       "    <tr>\n",
       "      <th>2</th>\n",
       "      <td>MltNB TFIDF preprocessed</td>\n",
       "      <td>0.884020</td>\n",
       "      <td>0.915757</td>\n",
       "      <td>0.90625</td>\n",
       "    </tr>\n",
       "    <tr>\n",
       "      <th>3</th>\n",
       "      <td>MltNB count preprocessed</td>\n",
       "      <td>0.883401</td>\n",
       "      <td>0.903276</td>\n",
       "      <td>0.89875</td>\n",
       "    </tr>\n",
       "    <tr>\n",
       "      <th>4</th>\n",
       "      <td>RF tfidf</td>\n",
       "      <td>0.854720</td>\n",
       "      <td>0.856518</td>\n",
       "      <td>0.90125</td>\n",
       "    </tr>\n",
       "    <tr>\n",
       "      <th>5</th>\n",
       "      <td>RF hash</td>\n",
       "      <td>0.825414</td>\n",
       "      <td>0.831510</td>\n",
       "      <td>0.88125</td>\n",
       "    </tr>\n",
       "    <tr>\n",
       "      <th>6</th>\n",
       "      <td>RF count</td>\n",
       "      <td>0.860425</td>\n",
       "      <td>0.866833</td>\n",
       "      <td>0.90125</td>\n",
       "    </tr>\n",
       "    <tr>\n",
       "      <th>7</th>\n",
       "      <td>PAC tfidf</td>\n",
       "      <td>0.927783</td>\n",
       "      <td>0.948518</td>\n",
       "      <td>0.93375</td>\n",
       "    </tr>\n",
       "    <tr>\n",
       "      <th>8</th>\n",
       "      <td>PAC hash</td>\n",
       "      <td>0.917158</td>\n",
       "      <td>0.923557</td>\n",
       "      <td>0.90875</td>\n",
       "    </tr>\n",
       "    <tr>\n",
       "      <th>9</th>\n",
       "      <td>PAC count</td>\n",
       "      <td>0.882466</td>\n",
       "      <td>0.892019</td>\n",
       "      <td>0.86875</td>\n",
       "    </tr>\n",
       "    <tr>\n",
       "      <th>10</th>\n",
       "      <td>PAC title count</td>\n",
       "      <td>0.774299</td>\n",
       "      <td>0.784711</td>\n",
       "      <td>0.78625</td>\n",
       "    </tr>\n",
       "    <tr>\n",
       "      <th>11</th>\n",
       "      <td>PAC tfidf not lowercase</td>\n",
       "      <td>0.942166</td>\n",
       "      <td>0.957878</td>\n",
       "      <td>0.95625</td>\n",
       "    </tr>\n",
       "    <tr>\n",
       "      <th>12</th>\n",
       "      <td>PAC tfidf not lowercase</td>\n",
       "      <td>0.942166</td>\n",
       "      <td>0.957878</td>\n",
       "      <td>0.95625</td>\n",
       "    </tr>\n",
       "  </tbody>\n",
       "</table>\n",
       "</div>"
      ],
      "text/plain": [
       "                       Model  CV Score avg  CV Score max  Holdout Score\n",
       "0                   baseline      0.877145      0.900156        0.89500\n",
       "1                MltNB TFIDF      0.883704      0.909516        0.90375\n",
       "2   MltNB TFIDF preprocessed      0.884020      0.915757        0.90625\n",
       "3   MltNB count preprocessed      0.883401      0.903276        0.89875\n",
       "4                   RF tfidf      0.854720      0.856518        0.90125\n",
       "5                    RF hash      0.825414      0.831510        0.88125\n",
       "6                   RF count      0.860425      0.866833        0.90125\n",
       "7                  PAC tfidf      0.927783      0.948518        0.93375\n",
       "8                   PAC hash      0.917158      0.923557        0.90875\n",
       "9                  PAC count      0.882466      0.892019        0.86875\n",
       "10           PAC title count      0.774299      0.784711        0.78625\n",
       "11   PAC tfidf not lowercase      0.942166      0.957878        0.95625\n",
       "12   PAC tfidf not lowercase      0.942166      0.957878        0.95625"
      ]
     },
     "execution_count": 43,
     "metadata": {},
     "output_type": "execute_result"
    }
   ],
   "source": [
    "m_pac_lowercase, v_pac_not_lowercase, cv_pac_not_lowercase, test_pac_not_lowercase = PAC(train_2,feature='text', lowercase = False)\n",
    "\n",
    "all_scores = hp.append_scores(all_scores, 'PAC tfidf not lowercase', cv_pac_not_lowercase, test_pac_not_lowercase)\n",
    "all_scores"
   ]
  },
  {
   "cell_type": "code",
   "execution_count": 44,
   "metadata": {},
   "outputs": [],
   "source": [
    "# passive aggressive classifier with grid search cv\n",
    "def PAC_T(data, selection='tfidf', vectorize_max_df=0.8, vectorize_min_df=1, feature='text'):\n",
    "    # split data\n",
    "    X_train, X_test, y_train, y_test = split_data(data, feature=feature, random_state=666)\n",
    "    estimators = [   \n",
    "                    ('TF',TfidfVectorizer(stop_words='english', binary=True, lowercase=False,\n",
    "                                          max_df=vectorize_max_df, min_df=vectorize_min_df,\n",
    "                                         norm='l2',sublinear_tf=False)\n",
    "                    ),\n",
    "                    ('PA',PassiveAggressiveClassifier(random_state=666, max_iter=1000, \n",
    "                                                      n_iter_no_change=10, tol=1e-3, \n",
    "                                                      early_stopping=True, loss='squared_hinge',\n",
    "                                                      fit_intercept= False,\n",
    "                                                      validation_fraction=0.1))\n",
    "                ]\n",
    "    pipe = Pipeline(estimators)\n",
    "    param_RF = {\n",
    "                'PA__C': [1]\n",
    "                }\n",
    "    \n",
    "    # apply the estimators and parameters in pipeline\n",
    "    gridPipe = GridSearchCV(pipe, param_RF, cv=5, return_train_score=True)\n",
    "    model = gridPipe.fit(X_train, y_train)\n",
    "\n",
    "    pred = model.predict(X_test)\n",
    "    acc = accuracy_score(y_test, pred)\n",
    "    cv_results = gridPipe.cv_results_['mean_test_score']\n",
    "    print(\"accuracy:   %0.3f\" % acc)\n",
    "    print(confusion_matrix(y_test, pred, labels=[0, 1]))\n",
    "    \n",
    "    return model, cv_results, acc"
   ]
  },
  {
   "cell_type": "code",
   "execution_count": 45,
   "metadata": {},
   "outputs": [
    {
     "name": "stdout",
     "output_type": "stream",
     "text": [
      "accuracy:   0.943\n",
      "[[375  24]\n",
      " [ 22 379]]\n"
     ]
    },
    {
     "data": {
      "text/html": [
       "<div>\n",
       "<style scoped>\n",
       "    .dataframe tbody tr th:only-of-type {\n",
       "        vertical-align: middle;\n",
       "    }\n",
       "\n",
       "    .dataframe tbody tr th {\n",
       "        vertical-align: top;\n",
       "    }\n",
       "\n",
       "    .dataframe thead th {\n",
       "        text-align: right;\n",
       "    }\n",
       "</style>\n",
       "<table border=\"1\" class=\"dataframe\">\n",
       "  <thead>\n",
       "    <tr style=\"text-align: right;\">\n",
       "      <th></th>\n",
       "      <th>Model</th>\n",
       "      <th>CV Score avg</th>\n",
       "      <th>CV Score max</th>\n",
       "      <th>Holdout Score</th>\n",
       "    </tr>\n",
       "  </thead>\n",
       "  <tbody>\n",
       "    <tr>\n",
       "      <th>0</th>\n",
       "      <td>baseline</td>\n",
       "      <td>0.877145</td>\n",
       "      <td>0.900156</td>\n",
       "      <td>0.89500</td>\n",
       "    </tr>\n",
       "    <tr>\n",
       "      <th>1</th>\n",
       "      <td>MltNB TFIDF</td>\n",
       "      <td>0.883704</td>\n",
       "      <td>0.909516</td>\n",
       "      <td>0.90375</td>\n",
       "    </tr>\n",
       "    <tr>\n",
       "      <th>2</th>\n",
       "      <td>MltNB TFIDF preprocessed</td>\n",
       "      <td>0.884020</td>\n",
       "      <td>0.915757</td>\n",
       "      <td>0.90625</td>\n",
       "    </tr>\n",
       "    <tr>\n",
       "      <th>3</th>\n",
       "      <td>MltNB count preprocessed</td>\n",
       "      <td>0.883401</td>\n",
       "      <td>0.903276</td>\n",
       "      <td>0.89875</td>\n",
       "    </tr>\n",
       "    <tr>\n",
       "      <th>4</th>\n",
       "      <td>RF tfidf</td>\n",
       "      <td>0.854720</td>\n",
       "      <td>0.856518</td>\n",
       "      <td>0.90125</td>\n",
       "    </tr>\n",
       "    <tr>\n",
       "      <th>5</th>\n",
       "      <td>RF hash</td>\n",
       "      <td>0.825414</td>\n",
       "      <td>0.831510</td>\n",
       "      <td>0.88125</td>\n",
       "    </tr>\n",
       "    <tr>\n",
       "      <th>6</th>\n",
       "      <td>RF count</td>\n",
       "      <td>0.860425</td>\n",
       "      <td>0.866833</td>\n",
       "      <td>0.90125</td>\n",
       "    </tr>\n",
       "    <tr>\n",
       "      <th>7</th>\n",
       "      <td>PAC tfidf</td>\n",
       "      <td>0.927783</td>\n",
       "      <td>0.948518</td>\n",
       "      <td>0.93375</td>\n",
       "    </tr>\n",
       "    <tr>\n",
       "      <th>8</th>\n",
       "      <td>PAC hash</td>\n",
       "      <td>0.917158</td>\n",
       "      <td>0.923557</td>\n",
       "      <td>0.90875</td>\n",
       "    </tr>\n",
       "    <tr>\n",
       "      <th>9</th>\n",
       "      <td>PAC count</td>\n",
       "      <td>0.882466</td>\n",
       "      <td>0.892019</td>\n",
       "      <td>0.86875</td>\n",
       "    </tr>\n",
       "    <tr>\n",
       "      <th>10</th>\n",
       "      <td>PAC title count</td>\n",
       "      <td>0.774299</td>\n",
       "      <td>0.784711</td>\n",
       "      <td>0.78625</td>\n",
       "    </tr>\n",
       "    <tr>\n",
       "      <th>11</th>\n",
       "      <td>PAC tfidf not lowercase</td>\n",
       "      <td>0.942166</td>\n",
       "      <td>0.957878</td>\n",
       "      <td>0.95625</td>\n",
       "    </tr>\n",
       "    <tr>\n",
       "      <th>12</th>\n",
       "      <td>PAC tfidf not lowercase</td>\n",
       "      <td>0.942166</td>\n",
       "      <td>0.957878</td>\n",
       "      <td>0.95625</td>\n",
       "    </tr>\n",
       "    <tr>\n",
       "      <th>13</th>\n",
       "      <td>PAC tuned</td>\n",
       "      <td>0.945921</td>\n",
       "      <td>0.945921</td>\n",
       "      <td>0.94250</td>\n",
       "    </tr>\n",
       "  </tbody>\n",
       "</table>\n",
       "</div>"
      ],
      "text/plain": [
       "                       Model  CV Score avg  CV Score max  Holdout Score\n",
       "0                   baseline      0.877145      0.900156        0.89500\n",
       "1                MltNB TFIDF      0.883704      0.909516        0.90375\n",
       "2   MltNB TFIDF preprocessed      0.884020      0.915757        0.90625\n",
       "3   MltNB count preprocessed      0.883401      0.903276        0.89875\n",
       "4                   RF tfidf      0.854720      0.856518        0.90125\n",
       "5                    RF hash      0.825414      0.831510        0.88125\n",
       "6                   RF count      0.860425      0.866833        0.90125\n",
       "7                  PAC tfidf      0.927783      0.948518        0.93375\n",
       "8                   PAC hash      0.917158      0.923557        0.90875\n",
       "9                  PAC count      0.882466      0.892019        0.86875\n",
       "10           PAC title count      0.774299      0.784711        0.78625\n",
       "11   PAC tfidf not lowercase      0.942166      0.957878        0.95625\n",
       "12   PAC tfidf not lowercase      0.942166      0.957878        0.95625\n",
       "13                 PAC tuned      0.945921      0.945921        0.94250"
      ]
     },
     "execution_count": 45,
     "metadata": {},
     "output_type": "execute_result"
    }
   ],
   "source": [
    "PAC_T, cv_pact, test_pact = PAC_T(train_2,feature='text')\n",
    "\n",
    "all_scores = hp.append_scores(all_scores, 'PAC tuned', cv_pact, test_pact)\n",
    "all_scores"
   ]
  },
  {
   "cell_type": "code",
   "execution_count": 33,
   "metadata": {},
   "outputs": [],
   "source": [
    "# passive aggressive classifier with grid search cv\n",
    "def PAC_NGRAM(data, selection='tfidf', feature='text'):\n",
    "    # split data\n",
    "    X_train, X_test, y_train, y_test = split_data(data, feature=feature, random_state=666)\n",
    "    estimators = [   \n",
    "                    ('TF',TfidfVectorizer(stop_words='english', binary=True, lowercase=False,\n",
    "                                          max_df=0.8,\n",
    "                                         norm='l2',sublinear_tf=False)\n",
    "                    ),\n",
    "                    ('PA',PassiveAggressiveClassifier(random_state=666, max_iter=1000, \n",
    "                                                      n_iter_no_change=10, tol=1e-3, \n",
    "                                                      early_stopping=True, loss='squared_hinge',\n",
    "                                                      fit_intercept= False,\n",
    "                                                      validation_fraction=0.1))\n",
    "                ]\n",
    "    pipe = Pipeline(estimators)\n",
    "    param_RF = {\n",
    "                'TF__min_df':[1,2,3,4],\n",
    "                'TF__ngram_range': [(1,1),(1,2),(1,3),(1,4)]\n",
    "                }\n",
    "    \n",
    "    # apply the estimators and parameters in pipeline\n",
    "    gridPipe = GridSearchCV(pipe, param_RF, cv=5, return_train_score=True)\n",
    "    model = gridPipe.fit(X_train, y_train)\n",
    "\n",
    "    pred = model.predict(X_test)\n",
    "    acc = accuracy_score(y_test, pred)\n",
    "    print(\"accuracy:   %0.3f\" % acc)\n",
    "    print(confusion_matrix(y_test, pred, labels=[0, 1]))\n",
    "    \n",
    "    return model"
   ]
  },
  {
   "cell_type": "code",
   "execution_count": null,
   "metadata": {},
   "outputs": [],
   "source": [
    "# in the preprocess function I created new column \"text_edit\" which removes \\n and includes date information\n",
    "# to use \"text_edit\", just set feature='text_edit' in the model 👇\n",
    "PAC_N, cv_pact, test_pact = PAC_NGRAM(train_2,feature='text')\n",
    "\n",
    "all_scores = hp.append_scores(all_scores, 'PAC NGRAM MIN_DF', cv_pact, test_pact)\n",
    "all_scores"
   ]
  },
  {
   "cell_type": "markdown",
   "metadata": {},
   "source": [
    "## Final Submission"
   ]
  },
  {
   "cell_type": "markdown",
   "metadata": {},
   "source": [
    "Retrain the best model on the entire data and predict on the submission set"
   ]
  },
  {
   "cell_type": "code",
   "execution_count": 47,
   "metadata": {},
   "outputs": [],
   "source": [
    "# passive aggressive classifier with grid search cv\n",
    "def PAC_FINAL(data, selection='tfidf', vectorize_max_df=0.8, vectorize_min_df=1, feature='text'):\n",
    "    # split data\n",
    "    X_train = data['text']\n",
    "    y_train = data['label']\n",
    "    estimators = [   \n",
    "                    ('TF',TfidfVectorizer(stop_words='english', binary=True, lowercase=False,\n",
    "                                          max_df=vectorize_max_df, min_df=vectorize_min_df,\n",
    "                                         norm='l2',sublinear_tf=False)\n",
    "                    ),\n",
    "                    ('PA',PassiveAggressiveClassifier(random_state=666, max_iter=1000, \n",
    "                                                      n_iter_no_change=10, tol=1e-3, \n",
    "                                                      early_stopping=True, loss='squared_hinge',\n",
    "                                                      fit_intercept= False,\n",
    "                                                      validation_fraction=0.1))\n",
    "                ]\n",
    "    pipe = Pipeline(estimators)\n",
    "    param_RF = {\n",
    "                'PA__C': [1]\n",
    "                }\n",
    "    \n",
    "    # apply the estimators and parameters in pipeline\n",
    "    gridPipe = GridSearchCV(pipe, param_RF, cv=5, return_train_score=True)\n",
    "    model = gridPipe.fit(X_train, y_train)\n",
    "\n",
    "#     pred = model.predict(X_test)\n",
    "#     acc = accuracy_score(y_test, pred)\n",
    "#     cv_results = gridPipe.cv_results_['mean_test_score']\n",
    "#     print(\"accuracy:   %0.3f\" % acc)\n",
    "#     print(confusion_matrix(y_test, pred, labels=[0, 1]))\n",
    "    \n",
    "    return model"
   ]
  },
  {
   "cell_type": "code",
   "execution_count": 48,
   "metadata": {},
   "outputs": [],
   "source": [
    "m2 = PAC_FINAL(train_2,feature='text')"
   ]
  },
  {
   "cell_type": "code",
   "execution_count": 49,
   "metadata": {},
   "outputs": [
    {
     "name": "stderr",
     "output_type": "stream",
     "text": [
      "/anaconda3/lib/python3.7/site-packages/ipykernel_launcher.py:6: SettingWithCopyWarning: \n",
      "A value is trying to be set on a copy of a slice from a DataFrame\n",
      "\n",
      "See the caveats in the documentation: http://pandas.pydata.org/pandas-docs/stable/indexing.html#indexing-view-versus-copy\n",
      "  \n",
      "/anaconda3/lib/python3.7/site-packages/ipykernel_launcher.py:7: SettingWithCopyWarning: \n",
      "A value is trying to be set on a copy of a slice from a DataFrame\n",
      "\n",
      "See the caveats in the documentation: http://pandas.pydata.org/pandas-docs/stable/indexing.html#indexing-view-versus-copy\n",
      "  import sys\n"
     ]
    },
    {
     "name": "stdout",
     "output_type": "stream",
     "text": [
      "accuracy:   0.947\n",
      "[[1088   76]\n",
      " [  48 1109]]\n"
     ]
    }
   ],
   "source": [
    "# Slight modifications to the preparation-function\n",
    "# because the submission data has a slightly different structure\n",
    "\n",
    "# m2 is the model from the PAC function\n",
    "# to apply the same process on submiss\n",
    "submission['prediction'] = m2.predict(submission['text'])\n",
    "submission.prediction[submission.prediction==0] = 'FAKE'\n",
    "submission.prediction[submission.prediction==1] = 'REAL'\n",
    "submission = submission.set_index('ID')\n",
    "\n",
    "# answer is the dataset from kaggle\n",
    "# this is the dataset downloaded from kaggle so I didn't put it inside the repo\n",
    "answer = pd.read_csv('../../fake_or_real_news.csv')\n",
    "answer.rename(columns={'Unnamed: 0':'ID'}, inplace=True)\n",
    "answer = answer.set_index('ID')\n",
    "\n",
    "# left join on submission with prediction\n",
    "submission2 = submission.join(answer[['label']],how='left')\n",
    "\n",
    "# metrics\n",
    "acc = accuracy_score(submission2.label, submission2.prediction)\n",
    "print(\"accuracy:   %0.3f\" % acc)\n",
    "print(confusion_matrix(submission2.label, submission2.prediction, labels=['FAKE', 'REAL']))"
   ]
  }
 ],
 "metadata": {
  "kernelspec": {
   "display_name": "Python 3",
   "language": "python",
   "name": "python3"
  },
  "language_info": {
   "codemirror_mode": {
    "name": "ipython",
    "version": 3
   },
   "file_extension": ".py",
   "mimetype": "text/x-python",
   "name": "python",
   "nbconvert_exporter": "python",
   "pygments_lexer": "ipython3",
   "version": "3.7.2"
  }
 },
 "nbformat": 4,
 "nbformat_minor": 2
}
