{
 "cells": [
  {
   "cell_type": "markdown",
   "metadata": {},
   "source": [
    "# Fake News Detection"
   ]
  },
  {
   "cell_type": "markdown",
   "metadata": {},
   "source": [
    "Project in pairs completed by Scott Pan and Federico Loguercio"
   ]
  },
  {
   "cell_type": "markdown",
   "metadata": {},
   "source": [
    "With autocratic leaders getting to power in several countries, fake news are becoming an increasingly frequent problem. In most cases, human checking of these news is both unfeasible and inaccurate. In the following notebook we develop a model capable of correctly classifying fake and real news over 95% of the time."
   ]
  },
  {
   "cell_type": "markdown",
   "metadata": {},
   "source": [
    "The procedure will be as follows:\n",
    "\n",
    "First, we begin with some exploratory data analysis to get a feel for the data we are working with.\n",
    "\n",
    "Then, a baseline will be fit. Subsequently, different models will be fit, exploring several different iterations. These include various steps of preprocessing (eliminating stopwords, stemming and lemmatizing), the use of different vectorizers (count and tfidf), as well as feature engineering (occurence of elements such as a date or the word \"Trump\"). Different estimators (Naive Bayes, Random Forest and Passive Aggressive Classifier) will also be applied."
   ]
  },
  {
   "cell_type": "markdown",
   "metadata": {},
   "source": [
    "Import libraries"
   ]
  },
  {
   "cell_type": "code",
   "execution_count": 89,
   "metadata": {},
   "outputs": [],
   "source": [
    "import nltk\n",
    "import numpy as np\n",
    "import pandas as pd\n",
    "import helpers as hp\n",
    "import seaborn as sns\n",
    "from nltk.corpus import stopwords\n",
    "from nltk.corpus import sentiwordnet as swn\n",
    "from sklearn.naive_bayes import MultinomialNB\n",
    "from sklearn.pipeline import Pipeline, make_pipeline\n",
    "from nltk import word_tokenize, WordPunctTokenizer, pos_tag\n",
    "from sklearn.linear_model import PassiveAggressiveClassifier\n",
    "from sklearn.metrics import accuracy_score, confusion_matrix\n",
    "from sklearn.compose import ColumnTransformer, make_column_transformer\n",
    "from sklearn.model_selection import train_test_split, GridSearchCV, cross_val_score\n",
    "from sklearn.ensemble import RandomForestClassifier,GradientBoostingClassifier,ExtraTreesClassifier\n",
    "from sklearn.feature_extraction.text import TfidfVectorizer, CountVectorizer, HashingVectorizer"
   ]
  },
  {
   "cell_type": "markdown",
   "metadata": {},
   "source": [
    "Read the data"
   ]
  },
  {
   "cell_type": "code",
   "execution_count": 90,
   "metadata": {},
   "outputs": [],
   "source": [
    "train = pd.read_csv('../data/fake_or_real_news_training.csv')\n",
    "# the submission data has no label\n",
    "submission = pd.read_csv('../data/fake_or_real_news_test.csv')"
   ]
  },
  {
   "cell_type": "markdown",
   "metadata": {},
   "source": [
    "Set initial values"
   ]
  },
  {
   "cell_type": "code",
   "execution_count": 91,
   "metadata": {},
   "outputs": [],
   "source": [
    "# These will be used throughout some functions and can be modified easily.\n",
    "TARGET_VARIABLE = 'label'\n",
    "METRIC = 'accuracy'\n",
    "SEED = 123\n",
    "TIMESERIES = False\n",
    "SPLITS = 5"
   ]
  },
  {
   "cell_type": "markdown",
   "metadata": {},
   "source": [
    "First look at data"
   ]
  },
  {
   "cell_type": "code",
   "execution_count": 92,
   "metadata": {},
   "outputs": [
    {
     "data": {
      "text/html": [
       "<div>\n",
       "<style scoped>\n",
       "    .dataframe tbody tr th:only-of-type {\n",
       "        vertical-align: middle;\n",
       "    }\n",
       "\n",
       "    .dataframe tbody tr th {\n",
       "        vertical-align: top;\n",
       "    }\n",
       "\n",
       "    .dataframe thead th {\n",
       "        text-align: right;\n",
       "    }\n",
       "</style>\n",
       "<table border=\"1\" class=\"dataframe\">\n",
       "  <thead>\n",
       "    <tr style=\"text-align: right;\">\n",
       "      <th></th>\n",
       "      <th>ID</th>\n",
       "      <th>title</th>\n",
       "      <th>text</th>\n",
       "      <th>label</th>\n",
       "      <th>X1</th>\n",
       "      <th>X2</th>\n",
       "    </tr>\n",
       "  </thead>\n",
       "  <tbody>\n",
       "    <tr>\n",
       "      <th>0</th>\n",
       "      <td>8476</td>\n",
       "      <td>You Can Smell Hillary’s Fear</td>\n",
       "      <td>Daniel Greenfield, a Shillman Journalism Fello...</td>\n",
       "      <td>FAKE</td>\n",
       "      <td>NaN</td>\n",
       "      <td>NaN</td>\n",
       "    </tr>\n",
       "    <tr>\n",
       "      <th>1</th>\n",
       "      <td>10294</td>\n",
       "      <td>Watch The Exact Moment Paul Ryan Committed Pol...</td>\n",
       "      <td>Google Pinterest Digg Linkedin Reddit Stumbleu...</td>\n",
       "      <td>FAKE</td>\n",
       "      <td>NaN</td>\n",
       "      <td>NaN</td>\n",
       "    </tr>\n",
       "    <tr>\n",
       "      <th>2</th>\n",
       "      <td>3608</td>\n",
       "      <td>Kerry to go to Paris in gesture of sympathy</td>\n",
       "      <td>U.S. Secretary of State John F. Kerry said Mon...</td>\n",
       "      <td>REAL</td>\n",
       "      <td>NaN</td>\n",
       "      <td>NaN</td>\n",
       "    </tr>\n",
       "    <tr>\n",
       "      <th>3</th>\n",
       "      <td>10142</td>\n",
       "      <td>Bernie supporters on Twitter erupt in anger ag...</td>\n",
       "      <td>— Kaydee King (@KaydeeKing) November 9, 2016 T...</td>\n",
       "      <td>FAKE</td>\n",
       "      <td>NaN</td>\n",
       "      <td>NaN</td>\n",
       "    </tr>\n",
       "    <tr>\n",
       "      <th>4</th>\n",
       "      <td>875</td>\n",
       "      <td>The Battle of New York: Why This Primary Matters</td>\n",
       "      <td>It's primary day in New York and front-runners...</td>\n",
       "      <td>REAL</td>\n",
       "      <td>NaN</td>\n",
       "      <td>NaN</td>\n",
       "    </tr>\n",
       "  </tbody>\n",
       "</table>\n",
       "</div>"
      ],
      "text/plain": [
       "      ID                                              title  \\\n",
       "0   8476                       You Can Smell Hillary’s Fear   \n",
       "1  10294  Watch The Exact Moment Paul Ryan Committed Pol...   \n",
       "2   3608        Kerry to go to Paris in gesture of sympathy   \n",
       "3  10142  Bernie supporters on Twitter erupt in anger ag...   \n",
       "4    875   The Battle of New York: Why This Primary Matters   \n",
       "\n",
       "                                                text label   X1   X2  \n",
       "0  Daniel Greenfield, a Shillman Journalism Fello...  FAKE  NaN  NaN  \n",
       "1  Google Pinterest Digg Linkedin Reddit Stumbleu...  FAKE  NaN  NaN  \n",
       "2  U.S. Secretary of State John F. Kerry said Mon...  REAL  NaN  NaN  \n",
       "3  — Kaydee King (@KaydeeKing) November 9, 2016 T...  FAKE  NaN  NaN  \n",
       "4  It's primary day in New York and front-runners...  REAL  NaN  NaN  "
      ]
     },
     "execution_count": 92,
     "metadata": {},
     "output_type": "execute_result"
    }
   ],
   "source": [
    "train.head()"
   ]
  },
  {
   "cell_type": "markdown",
   "metadata": {},
   "source": [
    "We can see that two extra columns were created, X1 and X2. This is due to the fact that the title is not in quotes such that, if there is a comma in the title, it get's separated at that point and all the other column get shifted. The following cell will take care of that"
   ]
  },
  {
   "cell_type": "code",
   "execution_count": 93,
   "metadata": {},
   "outputs": [],
   "source": [
    "train = hp.rearrange(train)"
   ]
  },
  {
   "cell_type": "code",
   "execution_count": 94,
   "metadata": {},
   "outputs": [
    {
     "data": {
      "text/html": [
       "<div>\n",
       "<style scoped>\n",
       "    .dataframe tbody tr th:only-of-type {\n",
       "        vertical-align: middle;\n",
       "    }\n",
       "\n",
       "    .dataframe tbody tr th {\n",
       "        vertical-align: top;\n",
       "    }\n",
       "\n",
       "    .dataframe thead th {\n",
       "        text-align: right;\n",
       "    }\n",
       "</style>\n",
       "<table border=\"1\" class=\"dataframe\">\n",
       "  <thead>\n",
       "    <tr style=\"text-align: right;\">\n",
       "      <th></th>\n",
       "      <th>ID</th>\n",
       "      <th>title</th>\n",
       "      <th>text</th>\n",
       "      <th>label</th>\n",
       "    </tr>\n",
       "  </thead>\n",
       "  <tbody>\n",
       "    <tr>\n",
       "      <th>0</th>\n",
       "      <td>8476</td>\n",
       "      <td>You Can Smell Hillary’s Fear</td>\n",
       "      <td>Daniel Greenfield, a Shillman Journalism Fello...</td>\n",
       "      <td>FAKE</td>\n",
       "    </tr>\n",
       "    <tr>\n",
       "      <th>1</th>\n",
       "      <td>10294</td>\n",
       "      <td>Watch The Exact Moment Paul Ryan Committed Pol...</td>\n",
       "      <td>Google Pinterest Digg Linkedin Reddit Stumbleu...</td>\n",
       "      <td>FAKE</td>\n",
       "    </tr>\n",
       "    <tr>\n",
       "      <th>2</th>\n",
       "      <td>3608</td>\n",
       "      <td>Kerry to go to Paris in gesture of sympathy</td>\n",
       "      <td>U.S. Secretary of State John F. Kerry said Mon...</td>\n",
       "      <td>REAL</td>\n",
       "    </tr>\n",
       "    <tr>\n",
       "      <th>3</th>\n",
       "      <td>10142</td>\n",
       "      <td>Bernie supporters on Twitter erupt in anger ag...</td>\n",
       "      <td>— Kaydee King (@KaydeeKing) November 9, 2016 T...</td>\n",
       "      <td>FAKE</td>\n",
       "    </tr>\n",
       "    <tr>\n",
       "      <th>4</th>\n",
       "      <td>875</td>\n",
       "      <td>The Battle of New York: Why This Primary Matters</td>\n",
       "      <td>It's primary day in New York and front-runners...</td>\n",
       "      <td>REAL</td>\n",
       "    </tr>\n",
       "  </tbody>\n",
       "</table>\n",
       "</div>"
      ],
      "text/plain": [
       "      ID                                              title  \\\n",
       "0   8476                       You Can Smell Hillary’s Fear   \n",
       "1  10294  Watch The Exact Moment Paul Ryan Committed Pol...   \n",
       "2   3608        Kerry to go to Paris in gesture of sympathy   \n",
       "3  10142  Bernie supporters on Twitter erupt in anger ag...   \n",
       "4    875   The Battle of New York: Why This Primary Matters   \n",
       "\n",
       "                                                text label  \n",
       "0  Daniel Greenfield, a Shillman Journalism Fello...  FAKE  \n",
       "1  Google Pinterest Digg Linkedin Reddit Stumbleu...  FAKE  \n",
       "2  U.S. Secretary of State John F. Kerry said Mon...  REAL  \n",
       "3  — Kaydee King (@KaydeeKing) November 9, 2016 T...  FAKE  \n",
       "4  It's primary day in New York and front-runners...  REAL  "
      ]
     },
     "execution_count": 94,
     "metadata": {},
     "output_type": "execute_result"
    }
   ],
   "source": [
    "train.head()"
   ]
  },
  {
   "cell_type": "markdown",
   "metadata": {},
   "source": [
    "## EDA"
   ]
  },
  {
   "cell_type": "markdown",
   "metadata": {},
   "source": [
    "Let's see some key distribution metrics of our dataset"
   ]
  },
  {
   "cell_type": "markdown",
   "metadata": {},
   "source": [
    "#### Proportion of fake-news:"
   ]
  },
  {
   "cell_type": "code",
   "execution_count": 152,
   "metadata": {},
   "outputs": [
    {
     "data": {
      "text/plain": [
       "<matplotlib.axes._subplots.AxesSubplot at 0x1a792856a0>"
      ]
     },
     "execution_count": 152,
     "metadata": {},
     "output_type": "execute_result"
    },
    {
     "data": {
      "image/png": "[encoded data removed]",
      "text/plain": [
       "<Figure size 432x288 with 1 Axes>"
      ]
     },
     "metadata": {},
     "output_type": "display_data"
    }
   ],
   "source": [
    "sns.countplot(train['label'], palette = ['darkred', 'darkgreen'])"
   ]
  },
  {
   "cell_type": "code",
   "execution_count": 95,
   "metadata": {},
   "outputs": [
    {
     "data": {
      "text/plain": [
       "0.4978744686171543"
      ]
     },
     "execution_count": 95,
     "metadata": {},
     "output_type": "execute_result"
    }
   ],
   "source": [
    "len(train.loc[train['label'] == 'FAKE'])/len(train)"
   ]
  },
  {
   "cell_type": "markdown",
   "metadata": {},
   "source": [
    "The classes are very balanced."
   ]
  },
  {
   "cell_type": "markdown",
   "metadata": {},
   "source": [
    "#### Text length"
   ]
  },
  {
   "cell_type": "code",
   "execution_count": 172,
   "metadata": {},
   "outputs": [
    {
     "data": {
      "text/plain": [
       "Text(0.5, 1.0, 'Distribution of Text Length')"
      ]
     },
     "execution_count": 172,
     "metadata": {},
     "output_type": "execute_result"
    },
    {
     "data": {
      "image/png": "[encoded data removed]",
      "text/plain": [
       "<Figure size 432x288 with 1 Axes>"
      ]
     },
     "metadata": {},
     "output_type": "display_data"
    }
   ],
   "source": [
    "text_len = pd.DataFrame([len(t) for t in train.text])\n",
    "sns.set()\n",
    "sns.distplot(text_len, hist = False, color = \"darkblue\").set_title(\"Distribution of Text Length\")"
   ]
  },
  {
   "cell_type": "markdown",
   "metadata": {},
   "source": [
    "The distribution is highly skewed to the right, there are some very long texts but most lie between 0 and 10000."
   ]
  },
  {
   "cell_type": "markdown",
   "metadata": {},
   "source": [
    "Does text length differ between real and fake news?"
   ]
  },
  {
   "cell_type": "code",
   "execution_count": 171,
   "metadata": {},
   "outputs": [
    {
     "data": {
      "text/plain": [
       "Text(0.5, 1.0, 'Distribution of Text Length')"
      ]
     },
     "execution_count": 171,
     "metadata": {},
     "output_type": "execute_result"
    },
    {
     "data": {
      "image/png": "[encoded data removed]",
      "text/plain": [
       "<Figure size 432x288 with 1 Axes>"
      ]
     },
     "metadata": {},
     "output_type": "display_data"
    }
   ],
   "source": [
    "df_plot = train.join(text_len)\n",
    "\n",
    "sns.distplot(df_plot.iloc[:,4][df_plot['label'] == 'FAKE'],\n",
    "             hist = False, color = \"darkred\", label = 'FAKE')\n",
    "sns.distplot(df_plot.iloc[:,4][df_plot['label'] == 'REAL'],\n",
    "             hist = False, color = \"darkgreen\", label = 'REAL').set_title(\"Distribution of Text Length\")"
   ]
  },
  {
   "cell_type": "markdown",
   "metadata": {},
   "source": [
    "The text length clearly differs between real and fake news, with most fake news being rather short."
   ]
  },
  {
   "cell_type": "markdown",
   "metadata": {},
   "source": [
    "#### Title length"
   ]
  },
  {
   "cell_type": "code",
   "execution_count": 173,
   "metadata": {},
   "outputs": [
    {
     "data": {
      "text/plain": [
       "Text(0.5, 1.0, 'Distribution of Title Length')"
      ]
     },
     "execution_count": 173,
     "metadata": {},
     "output_type": "execute_result"
    },
    {
     "data": {
      "image/png": "[encoded data removed]",
      "text/plain": [
       "<Figure size 432x288 with 1 Axes>"
      ]
     },
     "metadata": {},
     "output_type": "display_data"
    }
   ],
   "source": [
    "title_len = pd.DataFrame([len(t) for t in train.title])\n",
    "\n",
    "df_plot2 = train.join(title_len)\n",
    "\n",
    "sns.distplot(df_plot2.iloc[:,4][df_plot2['label'] == 'FAKE'],\n",
    "             hist = False, color = \"darkred\", label = 'FAKE')\n",
    "sns.distplot(df_plot2.iloc[:,4][df_plot2['label'] == 'REAL'],\n",
    "             hist = False, color = \"darkgreen\", label = 'REAL').set_title(\"Distribution of Title Length\")"
   ]
  },
  {
   "cell_type": "markdown",
   "metadata": {},
   "source": [
    "In terms of title length, the separation between fake and real news is less clear."
   ]
  },
  {
   "cell_type": "markdown",
   "metadata": {},
   "source": [
    "## Baseline"
   ]
  },
  {
   "cell_type": "markdown",
   "metadata": {},
   "source": [
    "Run a baseline without further preprocessing using the countvectorizer. Only the text will be used for now, the title will not be considered yet."
   ]
  },
  {
   "cell_type": "markdown",
   "metadata": {},
   "source": [
    "Initiate scores-dataframe that will track scores, using one of the helper functions"
   ]
  },
  {
   "cell_type": "code",
   "execution_count": 97,
   "metadata": {},
   "outputs": [],
   "source": [
    "all_scores  = pd.DataFrame(columns = ['Model', 'CV Score avg', 'CV Score max', 'Holdout Score'])"
   ]
  },
  {
   "cell_type": "markdown",
   "metadata": {},
   "source": [
    "Count-vectorize data:"
   ]
  },
  {
   "cell_type": "markdown",
   "metadata": {},
   "source": [
    "Split data into train and test internally, in order to be able to evaluate how the model will perform on an unseen dataset. Throughout modelling, transformations will be learned on the train set and applied on the test set (as done below with the vectorizer). Within the train set, we will use cross validation. A gap between CV-performance and test performance will indicate over/underfitting."
   ]
  },
  {
   "cell_type": "code",
   "execution_count": 98,
   "metadata": {},
   "outputs": [],
   "source": [
    "# split data\n",
    "def split_data(data, feature='text', random_state = 7):\n",
    "    X_train, X_test, y_train, y_test = train_test_split(data[feature], data['label'],\n",
    "                                                        test_size = 0.2, random_state = random_state)\n",
    "    return X_train, X_test, y_train, y_test"
   ]
  },
  {
   "cell_type": "code",
   "execution_count": 99,
   "metadata": {},
   "outputs": [],
   "source": [
    "X_baseline, X_test_baseline, y_baseline, y_test_baseline = split_data(train)"
   ]
  },
  {
   "cell_type": "code",
   "execution_count": 100,
   "metadata": {},
   "outputs": [],
   "source": [
    "# Initiaulize countvectorizer\n",
    "count_vectorizer = CountVectorizer(stop_words='english')\n",
    "\n",
    "# Fit and transform \n",
    "count_train = count_vectorizer.fit_transform(X_baseline) \n",
    "\n",
    "# Transform the test set \n",
    "count_test = count_vectorizer.transform(X_test_baseline)"
   ]
  },
  {
   "cell_type": "markdown",
   "metadata": {},
   "source": [
    "Use Naive Bayes for a first classification"
   ]
  },
  {
   "cell_type": "code",
   "execution_count": 101,
   "metadata": {},
   "outputs": [
    {
     "name": "stdout",
     "output_type": "stream",
     "text": [
      "col_0  FAKE  REAL\n",
      "label            \n",
      "FAKE    348    57\n",
      "REAL     27   368\n"
     ]
    },
    {
     "data": {
      "text/html": [
       "<div>\n",
       "<style scoped>\n",
       "    .dataframe tbody tr th:only-of-type {\n",
       "        vertical-align: middle;\n",
       "    }\n",
       "\n",
       "    .dataframe tbody tr th {\n",
       "        vertical-align: top;\n",
       "    }\n",
       "\n",
       "    .dataframe thead th {\n",
       "        text-align: right;\n",
       "    }\n",
       "</style>\n",
       "<table border=\"1\" class=\"dataframe\">\n",
       "  <thead>\n",
       "    <tr style=\"text-align: right;\">\n",
       "      <th></th>\n",
       "      <th>Model</th>\n",
       "      <th>CV Score avg</th>\n",
       "      <th>CV Score max</th>\n",
       "      <th>Holdout Score</th>\n",
       "    </tr>\n",
       "  </thead>\n",
       "  <tbody>\n",
       "    <tr>\n",
       "      <th>0</th>\n",
       "      <td>baseline</td>\n",
       "      <td>0.877145</td>\n",
       "      <td>0.900156</td>\n",
       "      <td>0.895</td>\n",
       "    </tr>\n",
       "  </tbody>\n",
       "</table>\n",
       "</div>"
      ],
      "text/plain": [
       "      Model  CV Score avg  CV Score max  Holdout Score\n",
       "0  baseline      0.877145      0.900156          0.895"
      ]
     },
     "execution_count": 101,
     "metadata": {},
     "output_type": "execute_result"
    }
   ],
   "source": [
    "MltNB = MultinomialNB() \n",
    "\n",
    "cv_score_baseline, test_score_baseline = hp.cv_evaluate(count_train, y_baseline, count_test, y_test_baseline,\n",
    "                                                     MltNB)\n",
    "all_scores = hp.append_scores(all_scores, 'baseline', cv_score_baseline, test_score_baseline)\n",
    "all_scores"
   ]
  },
  {
   "cell_type": "markdown",
   "metadata": {},
   "source": [
    "It seems fairly easy to classify a good amount of the news correctly. Nevertheless, we can see that the model performs worse on the fake news than on the worse news, recall is somewhat lower."
   ]
  },
  {
   "cell_type": "markdown",
   "metadata": {},
   "source": [
    "## Preprocess Data"
   ]
  },
  {
   "cell_type": "markdown",
   "metadata": {},
   "source": [
    "Some standard preprocessing will be applied in order to evaluate whether that improves model performance.\n",
    "At this stage, that includes: turning all words to lowercase and creating a \"word\" indicating whether a text contains dates."
   ]
  },
  {
   "cell_type": "code",
   "execution_count": 102,
   "metadata": {},
   "outputs": [
    {
     "data": {
      "text/html": [
       "<div>\n",
       "<style scoped>\n",
       "    .dataframe tbody tr th:only-of-type {\n",
       "        vertical-align: middle;\n",
       "    }\n",
       "\n",
       "    .dataframe tbody tr th {\n",
       "        vertical-align: top;\n",
       "    }\n",
       "\n",
       "    .dataframe thead th {\n",
       "        text-align: right;\n",
       "    }\n",
       "</style>\n",
       "<table border=\"1\" class=\"dataframe\">\n",
       "  <thead>\n",
       "    <tr style=\"text-align: right;\">\n",
       "      <th></th>\n",
       "      <th>ID</th>\n",
       "      <th>title</th>\n",
       "      <th>text</th>\n",
       "      <th>label</th>\n",
       "    </tr>\n",
       "  </thead>\n",
       "  <tbody>\n",
       "    <tr>\n",
       "      <th>0</th>\n",
       "      <td>8476</td>\n",
       "      <td>You Can Smell Hillary’s Fear</td>\n",
       "      <td>Daniel Greenfield, a Shillman Journalism Fello...</td>\n",
       "      <td>FAKE</td>\n",
       "    </tr>\n",
       "    <tr>\n",
       "      <th>1</th>\n",
       "      <td>10294</td>\n",
       "      <td>Watch The Exact Moment Paul Ryan Committed Pol...</td>\n",
       "      <td>Google Pinterest Digg Linkedin Reddit Stumbleu...</td>\n",
       "      <td>FAKE</td>\n",
       "    </tr>\n",
       "    <tr>\n",
       "      <th>2</th>\n",
       "      <td>3608</td>\n",
       "      <td>Kerry to go to Paris in gesture of sympathy</td>\n",
       "      <td>U.S. Secretary of State John F. Kerry said Mon...</td>\n",
       "      <td>REAL</td>\n",
       "    </tr>\n",
       "    <tr>\n",
       "      <th>3</th>\n",
       "      <td>10142</td>\n",
       "      <td>Bernie supporters on Twitter erupt in anger ag...</td>\n",
       "      <td>— Kaydee King (@KaydeeKing) November 9, 2016 T...</td>\n",
       "      <td>FAKE</td>\n",
       "    </tr>\n",
       "    <tr>\n",
       "      <th>4</th>\n",
       "      <td>875</td>\n",
       "      <td>The Battle of New York: Why This Primary Matters</td>\n",
       "      <td>It's primary day in New York and front-runners...</td>\n",
       "      <td>REAL</td>\n",
       "    </tr>\n",
       "  </tbody>\n",
       "</table>\n",
       "</div>"
      ],
      "text/plain": [
       "      ID                                              title  \\\n",
       "0   8476                       You Can Smell Hillary’s Fear   \n",
       "1  10294  Watch The Exact Moment Paul Ryan Committed Pol...   \n",
       "2   3608        Kerry to go to Paris in gesture of sympathy   \n",
       "3  10142  Bernie supporters on Twitter erupt in anger ag...   \n",
       "4    875   The Battle of New York: Why This Primary Matters   \n",
       "\n",
       "                                                text label  \n",
       "0  Daniel Greenfield, a Shillman Journalism Fello...  FAKE  \n",
       "1  Google Pinterest Digg Linkedin Reddit Stumbleu...  FAKE  \n",
       "2  U.S. Secretary of State John F. Kerry said Mon...  REAL  \n",
       "3  — Kaydee King (@KaydeeKing) November 9, 2016 T...  FAKE  \n",
       "4  It's primary day in New York and front-runners...  REAL  "
      ]
     },
     "execution_count": 102,
     "metadata": {},
     "output_type": "execute_result"
    }
   ],
   "source": [
    "train.head()"
   ]
  },
  {
   "cell_type": "code",
   "execution_count": 103,
   "metadata": {},
   "outputs": [
    {
     "data": {
      "text/html": [
       "<div>\n",
       "<style scoped>\n",
       "    .dataframe tbody tr th:only-of-type {\n",
       "        vertical-align: middle;\n",
       "    }\n",
       "\n",
       "    .dataframe tbody tr th {\n",
       "        vertical-align: top;\n",
       "    }\n",
       "\n",
       "    .dataframe thead th {\n",
       "        text-align: right;\n",
       "    }\n",
       "</style>\n",
       "<table border=\"1\" class=\"dataframe\">\n",
       "  <thead>\n",
       "    <tr style=\"text-align: right;\">\n",
       "      <th></th>\n",
       "      <th>ID</th>\n",
       "      <th>title</th>\n",
       "      <th>text</th>\n",
       "      <th>label</th>\n",
       "    </tr>\n",
       "  </thead>\n",
       "  <tbody>\n",
       "    <tr>\n",
       "      <th>0</th>\n",
       "      <td>8476</td>\n",
       "      <td>you can smell hillary ’ s fear</td>\n",
       "      <td>daniel greenfield , a shillman journalism fell...</td>\n",
       "      <td>0</td>\n",
       "    </tr>\n",
       "    <tr>\n",
       "      <th>1</th>\n",
       "      <td>10294</td>\n",
       "      <td>watch the exact moment paul ryan committed pol...</td>\n",
       "      <td>google pinterest digg linkedin reddit stumbleu...</td>\n",
       "      <td>0</td>\n",
       "    </tr>\n",
       "    <tr>\n",
       "      <th>2</th>\n",
       "      <td>3608</td>\n",
       "      <td>kerry to go to paris in gesture of sympathy</td>\n",
       "      <td>u.s. secretary of state john f. kerry said mon...</td>\n",
       "      <td>1</td>\n",
       "    </tr>\n",
       "    <tr>\n",
       "      <th>3</th>\n",
       "      <td>10142</td>\n",
       "      <td>bernie supporters on twitter erupt in anger ag...</td>\n",
       "      <td>— kaydee king ( @ kaydeeking ) november 9 , 20...</td>\n",
       "      <td>0</td>\n",
       "    </tr>\n",
       "    <tr>\n",
       "      <th>4</th>\n",
       "      <td>875</td>\n",
       "      <td>the battle of new york : why this primary matters</td>\n",
       "      <td>it 's primary day in new york and front-runner...</td>\n",
       "      <td>1</td>\n",
       "    </tr>\n",
       "  </tbody>\n",
       "</table>\n",
       "</div>"
      ],
      "text/plain": [
       "      ID                                              title  \\\n",
       "0   8476                     you can smell hillary ’ s fear   \n",
       "1  10294  watch the exact moment paul ryan committed pol...   \n",
       "2   3608        kerry to go to paris in gesture of sympathy   \n",
       "3  10142  bernie supporters on twitter erupt in anger ag...   \n",
       "4    875  the battle of new york : why this primary matters   \n",
       "\n",
       "                                                text  label  \n",
       "0  daniel greenfield , a shillman journalism fell...      0  \n",
       "1  google pinterest digg linkedin reddit stumbleu...      0  \n",
       "2  u.s. secretary of state john f. kerry said mon...      1  \n",
       "3  — kaydee king ( @ kaydeeking ) november 9 , 20...      0  \n",
       "4  it 's primary day in new york and front-runner...      1  "
      ]
     },
     "execution_count": 103,
     "metadata": {},
     "output_type": "execute_result"
    }
   ],
   "source": [
    "train_1 = hp.prepare_data(train, lower = True, date = True)\n",
    "train_1.head()"
   ]
  },
  {
   "cell_type": "code",
   "execution_count": 104,
   "metadata": {},
   "outputs": [],
   "source": [
    "# vectorize\n",
    "def vectorize_select(selection=\"tfidf\", max_df=0.8, min_df=1, lowercase = True):\n",
    "    \"\"\"\n",
    "    \"tfidf\":\"TfidVectorizer\"\n",
    "    \"count\":\"CountVectorizer\"\n",
    "    \"hash\":\"HashingVectorizer\"\n",
    "    \"\"\"\n",
    "    if selection == \"tfidf\":\n",
    "        return TfidfVectorizer(stop_words='english', max_df=max_df, min_df=min_df,binary=True,\n",
    "                              lowercase=lowercase)\n",
    "    elif selection == \"count\":\n",
    "        return CountVectorizer(stop_words='english', max_df=max_df, min_df=min_df)\n",
    "    elif selection == \"hash\":\n",
    "        return HashingVectorizer(stop_words='english')\n",
    "    else:\n",
    "        raise Exception(\"{} can't be found\".format(selection))"
   ]
  },
  {
   "cell_type": "markdown",
   "metadata": {},
   "source": [
    "#### Naive Bayes"
   ]
  },
  {
   "cell_type": "markdown",
   "metadata": {},
   "source": [
    "With the slightly preprocessed data, let's try different vectorizers (tfidf, count)"
   ]
  },
  {
   "cell_type": "code",
   "execution_count": 105,
   "metadata": {},
   "outputs": [],
   "source": [
    "# ti-idf vectorize MultinomialNB model\n",
    "def nb_model(data, selection='tfidf', vectorize_max_df=0.8):\n",
    "    # split data\n",
    "    X_train, X_test, y_train, y_test = split_data(data)\n",
    "    \n",
    "    # vectorizer: selection: 'tfidf','count','hash'\n",
    "    vectorizer = vectorize_select(selection, max_df=vectorize_max_df)\n",
    "    # transform data\n",
    "    vectorize_train = vectorizer.fit_transform(X_train)\n",
    "    vectorize_test = vectorizer.transform(X_test)\n",
    "\n",
    "    # model\n",
    "    model = MultinomialNB(alpha=0.1)\n",
    "    cv_scores = cross_val_score(model,\n",
    "                                vectorize_train,\n",
    "                                y_train,\n",
    "                                cv = 5)\n",
    "    model.fit(vectorize_train, y_train)\n",
    "    pred = model.predict(vectorize_test)\n",
    "    acc = accuracy_score(y_test, pred)\n",
    "    \n",
    "    #print(\"accuracy:   %0.3f\" % acc)\n",
    "    print(pd.crosstab(y_test, pred))\n",
    "    \n",
    "    return MltNB, cv_scores, acc"
   ]
  },
  {
   "cell_type": "code",
   "execution_count": 106,
   "metadata": {},
   "outputs": [
    {
     "name": "stdout",
     "output_type": "stream",
     "text": [
      "Fitting Naive Bayes with count vectorizer...\n",
      "col_0    0    1\n",
      "label          \n",
      "0      352   53\n",
      "1       28  367\n",
      "Fitting Naive Bayes with tfidf vectorizer...\n",
      "col_0    0    1\n",
      "label          \n",
      "0      345   60\n",
      "1       15  380\n"
     ]
    },
    {
     "data": {
      "text/html": [
       "<div>\n",
       "<style scoped>\n",
       "    .dataframe tbody tr th:only-of-type {\n",
       "        vertical-align: middle;\n",
       "    }\n",
       "\n",
       "    .dataframe tbody tr th {\n",
       "        vertical-align: top;\n",
       "    }\n",
       "\n",
       "    .dataframe thead th {\n",
       "        text-align: right;\n",
       "    }\n",
       "</style>\n",
       "<table border=\"1\" class=\"dataframe\">\n",
       "  <thead>\n",
       "    <tr style=\"text-align: right;\">\n",
       "      <th></th>\n",
       "      <th>Model</th>\n",
       "      <th>CV Score avg</th>\n",
       "      <th>CV Score max</th>\n",
       "      <th>Holdout Score</th>\n",
       "    </tr>\n",
       "  </thead>\n",
       "  <tbody>\n",
       "    <tr>\n",
       "      <th>0</th>\n",
       "      <td>baseline</td>\n",
       "      <td>0.877145</td>\n",
       "      <td>0.900156</td>\n",
       "      <td>0.89500</td>\n",
       "    </tr>\n",
       "    <tr>\n",
       "      <th>1</th>\n",
       "      <td>NB count</td>\n",
       "      <td>0.883401</td>\n",
       "      <td>0.903276</td>\n",
       "      <td>0.89875</td>\n",
       "    </tr>\n",
       "    <tr>\n",
       "      <th>2</th>\n",
       "      <td>NB tfidf</td>\n",
       "      <td>0.884020</td>\n",
       "      <td>0.915757</td>\n",
       "      <td>0.90625</td>\n",
       "    </tr>\n",
       "  </tbody>\n",
       "</table>\n",
       "</div>"
      ],
      "text/plain": [
       "      Model  CV Score avg  CV Score max  Holdout Score\n",
       "0  baseline      0.877145      0.900156        0.89500\n",
       "1  NB count      0.883401      0.903276        0.89875\n",
       "2  NB tfidf      0.884020      0.915757        0.90625"
      ]
     },
     "execution_count": 106,
     "metadata": {},
     "output_type": "execute_result"
    }
   ],
   "source": [
    "for vect in ['count', 'tfidf']:\n",
    "    print(\"Fitting Naive Bayes with \" + vect + \" vectorizer...\")\n",
    "    \n",
    "    model_temp, cv_scores_temp, test_score_temp = nb_model(train_1, vect, 0.8)\n",
    "    all_scores = hp.append_scores(all_scores, 'NB ' + vect, cv_scores_temp, test_score_temp)\n",
    "    \n",
    "all_scores"
   ]
  },
  {
   "cell_type": "markdown",
   "metadata": {},
   "source": [
    "Turning all to lowercase and creating the date-variable improved the model slightly."
   ]
  },
  {
   "cell_type": "markdown",
   "metadata": {},
   "source": [
    "### Vary the model"
   ]
  },
  {
   "cell_type": "markdown",
   "metadata": {},
   "source": [
    "#### Random Forest"
   ]
  },
  {
   "cell_type": "code",
   "execution_count": 107,
   "metadata": {},
   "outputs": [],
   "source": [
    "# ti-idf vectorize rf model\n",
    "def rf_model(data,selection='tfidf',vectorize_max_df=0.8):\n",
    "    # split data\n",
    "    X_train, X_test, y_train, y_test = split_data(data)\n",
    "    \n",
    "    # vectorizer: selection: 'tfidf','count','hash'\n",
    "    vectorizer = vectorize_select(selection, max_df=vectorize_max_df)\n",
    "    # transform data\n",
    "    vectorize_train = vectorizer.fit_transform(X_train)\n",
    "    vectorize_test = vectorizer.transform(X_test)\n",
    "    \n",
    "    # pipeline\n",
    "    estimators = [('RF',RandomForestClassifier(random_state=666,n_estimators=100,max_depth=20))]\n",
    "    pipe = Pipeline(estimators)\n",
    "    # specify a small grid\n",
    "    param_RF = {'RF__max_depth': [20,25],\n",
    "                'RF__n_estimators': [100,150]}\n",
    "    \n",
    "    # apply the estimators and parameters in pipeline\n",
    "    gridPipe = GridSearchCV(pipe, param_RF, cv=5, return_train_score=True)\n",
    "    model = gridPipe.fit(vectorize_train, y_train)\n",
    "\n",
    "    pred = model.predict(vectorize_test)\n",
    "    acc = accuracy_score(y_test, pred)\n",
    "    \n",
    "    cv_results = gridPipe.cv_results_['mean_test_score']\n",
    "    \n",
    "    #print(\"accuracy:   %0.3f\" % acc)\n",
    "    print(confusion_matrix(y_test, pred, labels=[0, 1]))\n",
    "    \n",
    "    return model, cv_results, acc"
   ]
  },
  {
   "cell_type": "markdown",
   "metadata": {},
   "source": [
    "Fit the random forest classifier with the different vectorizers. Here we also can use the hash vectorizer"
   ]
  },
  {
   "cell_type": "code",
   "execution_count": 108,
   "metadata": {},
   "outputs": [
    {
     "name": "stdout",
     "output_type": "stream",
     "text": [
      "Fitting Random Forest with count vectorizer...\n",
      "[[373  32]\n",
      " [ 47 348]]\n",
      "Fitting Random Forest with hash vectorizer...\n",
      "[[363  42]\n",
      " [ 67 328]]\n",
      "Fitting Random Forest with tfidf vectorizer...\n",
      "[[367  38]\n",
      " [ 41 354]]\n"
     ]
    },
    {
     "data": {
      "text/html": [
       "<div>\n",
       "<style scoped>\n",
       "    .dataframe tbody tr th:only-of-type {\n",
       "        vertical-align: middle;\n",
       "    }\n",
       "\n",
       "    .dataframe tbody tr th {\n",
       "        vertical-align: top;\n",
       "    }\n",
       "\n",
       "    .dataframe thead th {\n",
       "        text-align: right;\n",
       "    }\n",
       "</style>\n",
       "<table border=\"1\" class=\"dataframe\">\n",
       "  <thead>\n",
       "    <tr style=\"text-align: right;\">\n",
       "      <th></th>\n",
       "      <th>Model</th>\n",
       "      <th>CV Score avg</th>\n",
       "      <th>CV Score max</th>\n",
       "      <th>Holdout Score</th>\n",
       "    </tr>\n",
       "  </thead>\n",
       "  <tbody>\n",
       "    <tr>\n",
       "      <th>0</th>\n",
       "      <td>baseline</td>\n",
       "      <td>0.877145</td>\n",
       "      <td>0.900156</td>\n",
       "      <td>0.89500</td>\n",
       "    </tr>\n",
       "    <tr>\n",
       "      <th>1</th>\n",
       "      <td>NB count</td>\n",
       "      <td>0.883401</td>\n",
       "      <td>0.903276</td>\n",
       "      <td>0.89875</td>\n",
       "    </tr>\n",
       "    <tr>\n",
       "      <th>2</th>\n",
       "      <td>NB tfidf</td>\n",
       "      <td>0.884020</td>\n",
       "      <td>0.915757</td>\n",
       "      <td>0.90625</td>\n",
       "    </tr>\n",
       "    <tr>\n",
       "      <th>3</th>\n",
       "      <td>RF count</td>\n",
       "      <td>0.860425</td>\n",
       "      <td>0.866833</td>\n",
       "      <td>0.90125</td>\n",
       "    </tr>\n",
       "    <tr>\n",
       "      <th>4</th>\n",
       "      <td>RF hash</td>\n",
       "      <td>0.828384</td>\n",
       "      <td>0.830259</td>\n",
       "      <td>0.86375</td>\n",
       "    </tr>\n",
       "    <tr>\n",
       "      <th>5</th>\n",
       "      <td>RF tfidf</td>\n",
       "      <td>0.854720</td>\n",
       "      <td>0.856518</td>\n",
       "      <td>0.90125</td>\n",
       "    </tr>\n",
       "  </tbody>\n",
       "</table>\n",
       "</div>"
      ],
      "text/plain": [
       "      Model  CV Score avg  CV Score max  Holdout Score\n",
       "0  baseline      0.877145      0.900156        0.89500\n",
       "1  NB count      0.883401      0.903276        0.89875\n",
       "2  NB tfidf      0.884020      0.915757        0.90625\n",
       "3  RF count      0.860425      0.866833        0.90125\n",
       "4   RF hash      0.828384      0.830259        0.86375\n",
       "5  RF tfidf      0.854720      0.856518        0.90125"
      ]
     },
     "execution_count": 108,
     "metadata": {},
     "output_type": "execute_result"
    }
   ],
   "source": [
    "for vect in ['count', 'hash', 'tfidf']:\n",
    "    print(\"Fitting Random Forest with \" + vect + \" vectorizer...\")\n",
    "    \n",
    "    model_temp, cv_scores_temp, test_score_temp = rf_model(train_1, vect, 0.8)\n",
    "    all_scores = hp.append_scores(all_scores, 'RF ' + vect, cv_scores_temp, test_score_temp)\n",
    "    \n",
    "all_scores"
   ]
  },
  {
   "cell_type": "markdown",
   "metadata": {},
   "source": [
    "Overall, the performance of the Random Forest is better than that of Naive Bayes."
   ]
  },
  {
   "cell_type": "markdown",
   "metadata": {},
   "source": [
    "#### Passive Aggressive Classifier"
   ]
  },
  {
   "cell_type": "markdown",
   "metadata": {},
   "source": [
    "The main idea behind how the passive aggresive classifier works is: As long as it classifies correctly, keep the model (passive). When it misclassifies a sample, it readjusts the model (aggressive)."
   ]
  },
  {
   "cell_type": "code",
   "execution_count": 109,
   "metadata": {},
   "outputs": [],
   "source": [
    "def PAC(data, selection='tfidf', vectorize_max_df=0.8, feature='text', lowercase = True):\n",
    "    # split data\n",
    "    X_train, X_test, y_train, y_test = split_data(data, feature=feature)\n",
    "    # vectorizer: selection: 'tfidf','count','hash'\n",
    "    vectorizer = vectorize_select(selection, max_df=vectorize_max_df, lowercase = lowercase)\n",
    "    # transform data\n",
    "    vectorize_train = vectorizer.fit_transform(X_train)\n",
    "    vectorize_test = vectorizer.transform(X_test)\n",
    "    # model \n",
    "    linear_clf = PassiveAggressiveClassifier(random_state=666, max_iter=100, tol=1e-3,\n",
    "                                             early_stopping=True, validation_fraction=0.1)\n",
    "    \n",
    "    clf_cv_scores = cross_val_score(linear_clf,\n",
    "                                vectorize_train,\n",
    "                                y_train,\n",
    "                                cv = 5)\n",
    "    linear_clf.fit(vectorize_train, y_train)\n",
    "    pred = linear_clf.predict(vectorize_test)\n",
    "    acc = accuracy_score(y_test, pred)\n",
    "    \n",
    "    #print(\"accuracy:   %0.3f\" % acc)\n",
    "    print(confusion_matrix(y_test, pred, labels=[0, 1]))\n",
    "    \n",
    "    return linear_clf, vectorizer, clf_cv_scores, acc"
   ]
  },
  {
   "cell_type": "markdown",
   "metadata": {},
   "source": [
    "First, use PAC on the text using the different vectorizers:"
   ]
  },
  {
   "cell_type": "code",
   "execution_count": 110,
   "metadata": {},
   "outputs": [
    {
     "name": "stdout",
     "output_type": "stream",
     "text": [
      "Fitting Passive Aggresive Classifier with count vectorizer...\n",
      "[[346  59]\n",
      " [ 46 349]]\n",
      "Fitting Passive Aggresive Classifier with hash vectorizer...\n",
      "[[366  39]\n",
      " [ 34 361]]\n",
      "Fitting Passive Aggresive Classifier with tfidf vectorizer...\n",
      "[[378  27]\n",
      " [ 26 369]]\n"
     ]
    },
    {
     "data": {
      "text/html": [
       "<div>\n",
       "<style scoped>\n",
       "    .dataframe tbody tr th:only-of-type {\n",
       "        vertical-align: middle;\n",
       "    }\n",
       "\n",
       "    .dataframe tbody tr th {\n",
       "        vertical-align: top;\n",
       "    }\n",
       "\n",
       "    .dataframe thead th {\n",
       "        text-align: right;\n",
       "    }\n",
       "</style>\n",
       "<table border=\"1\" class=\"dataframe\">\n",
       "  <thead>\n",
       "    <tr style=\"text-align: right;\">\n",
       "      <th></th>\n",
       "      <th>Model</th>\n",
       "      <th>CV Score avg</th>\n",
       "      <th>CV Score max</th>\n",
       "      <th>Holdout Score</th>\n",
       "    </tr>\n",
       "  </thead>\n",
       "  <tbody>\n",
       "    <tr>\n",
       "      <th>0</th>\n",
       "      <td>baseline</td>\n",
       "      <td>0.877145</td>\n",
       "      <td>0.900156</td>\n",
       "      <td>0.89500</td>\n",
       "    </tr>\n",
       "    <tr>\n",
       "      <th>1</th>\n",
       "      <td>NB count</td>\n",
       "      <td>0.883401</td>\n",
       "      <td>0.903276</td>\n",
       "      <td>0.89875</td>\n",
       "    </tr>\n",
       "    <tr>\n",
       "      <th>2</th>\n",
       "      <td>NB tfidf</td>\n",
       "      <td>0.884020</td>\n",
       "      <td>0.915757</td>\n",
       "      <td>0.90625</td>\n",
       "    </tr>\n",
       "    <tr>\n",
       "      <th>3</th>\n",
       "      <td>RF count</td>\n",
       "      <td>0.860425</td>\n",
       "      <td>0.866833</td>\n",
       "      <td>0.90125</td>\n",
       "    </tr>\n",
       "    <tr>\n",
       "      <th>4</th>\n",
       "      <td>RF hash</td>\n",
       "      <td>0.828384</td>\n",
       "      <td>0.830259</td>\n",
       "      <td>0.86375</td>\n",
       "    </tr>\n",
       "    <tr>\n",
       "      <th>5</th>\n",
       "      <td>RF tfidf</td>\n",
       "      <td>0.854720</td>\n",
       "      <td>0.856518</td>\n",
       "      <td>0.90125</td>\n",
       "    </tr>\n",
       "    <tr>\n",
       "      <th>6</th>\n",
       "      <td>PAC count</td>\n",
       "      <td>0.882466</td>\n",
       "      <td>0.892019</td>\n",
       "      <td>0.86875</td>\n",
       "    </tr>\n",
       "    <tr>\n",
       "      <th>7</th>\n",
       "      <td>PAC hash</td>\n",
       "      <td>0.915908</td>\n",
       "      <td>0.925117</td>\n",
       "      <td>0.90875</td>\n",
       "    </tr>\n",
       "    <tr>\n",
       "      <th>8</th>\n",
       "      <td>PAC tfidf</td>\n",
       "      <td>0.927783</td>\n",
       "      <td>0.948518</td>\n",
       "      <td>0.93375</td>\n",
       "    </tr>\n",
       "  </tbody>\n",
       "</table>\n",
       "</div>"
      ],
      "text/plain": [
       "       Model  CV Score avg  CV Score max  Holdout Score\n",
       "0   baseline      0.877145      0.900156        0.89500\n",
       "1   NB count      0.883401      0.903276        0.89875\n",
       "2   NB tfidf      0.884020      0.915757        0.90625\n",
       "3   RF count      0.860425      0.866833        0.90125\n",
       "4    RF hash      0.828384      0.830259        0.86375\n",
       "5   RF tfidf      0.854720      0.856518        0.90125\n",
       "6  PAC count      0.882466      0.892019        0.86875\n",
       "7   PAC hash      0.915908      0.925117        0.90875\n",
       "8  PAC tfidf      0.927783      0.948518        0.93375"
      ]
     },
     "execution_count": 110,
     "metadata": {},
     "output_type": "execute_result"
    }
   ],
   "source": [
    "for vect in ['count', 'hash', 'tfidf']:\n",
    "    print(\"Fitting Passive Aggresive Classifier with \" + vect + \" vectorizer...\")\n",
    "    \n",
    "    model_temp, vect_temp, cv_scores_temp, test_score_temp = PAC(train_1, vect)\n",
    "    all_scores = hp.append_scores(all_scores, 'PAC ' + vect, cv_scores_temp, test_score_temp)\n",
    "    \n",
    "all_scores"
   ]
  },
  {
   "cell_type": "markdown",
   "metadata": {},
   "source": [
    "Not only does the PAC run very quickly, the performance also is far higher then any others."
   ]
  },
  {
   "cell_type": "markdown",
   "metadata": {},
   "source": [
    "### Model on Title"
   ]
  },
  {
   "cell_type": "markdown",
   "metadata": {},
   "source": [
    "Does the title contain relevant information to classify news?"
   ]
  },
  {
   "cell_type": "markdown",
   "metadata": {},
   "source": [
    "Repeat the same but using the title only (and using tfidf only, since it worked significantly better):"
   ]
  },
  {
   "cell_type": "code",
   "execution_count": 111,
   "metadata": {},
   "outputs": [
    {
     "name": "stdout",
     "output_type": "stream",
     "text": [
      "[[318  87]\n",
      " [ 84 311]]\n"
     ]
    },
    {
     "data": {
      "text/html": [
       "<div>\n",
       "<style scoped>\n",
       "    .dataframe tbody tr th:only-of-type {\n",
       "        vertical-align: middle;\n",
       "    }\n",
       "\n",
       "    .dataframe tbody tr th {\n",
       "        vertical-align: top;\n",
       "    }\n",
       "\n",
       "    .dataframe thead th {\n",
       "        text-align: right;\n",
       "    }\n",
       "</style>\n",
       "<table border=\"1\" class=\"dataframe\">\n",
       "  <thead>\n",
       "    <tr style=\"text-align: right;\">\n",
       "      <th></th>\n",
       "      <th>Model</th>\n",
       "      <th>CV Score avg</th>\n",
       "      <th>CV Score max</th>\n",
       "      <th>Holdout Score</th>\n",
       "    </tr>\n",
       "  </thead>\n",
       "  <tbody>\n",
       "    <tr>\n",
       "      <th>0</th>\n",
       "      <td>baseline</td>\n",
       "      <td>0.877145</td>\n",
       "      <td>0.900156</td>\n",
       "      <td>0.89500</td>\n",
       "    </tr>\n",
       "    <tr>\n",
       "      <th>1</th>\n",
       "      <td>NB count</td>\n",
       "      <td>0.883401</td>\n",
       "      <td>0.903276</td>\n",
       "      <td>0.89875</td>\n",
       "    </tr>\n",
       "    <tr>\n",
       "      <th>2</th>\n",
       "      <td>NB tfidf</td>\n",
       "      <td>0.884020</td>\n",
       "      <td>0.915757</td>\n",
       "      <td>0.90625</td>\n",
       "    </tr>\n",
       "    <tr>\n",
       "      <th>3</th>\n",
       "      <td>RF count</td>\n",
       "      <td>0.860425</td>\n",
       "      <td>0.866833</td>\n",
       "      <td>0.90125</td>\n",
       "    </tr>\n",
       "    <tr>\n",
       "      <th>4</th>\n",
       "      <td>RF hash</td>\n",
       "      <td>0.828384</td>\n",
       "      <td>0.830259</td>\n",
       "      <td>0.86375</td>\n",
       "    </tr>\n",
       "    <tr>\n",
       "      <th>5</th>\n",
       "      <td>RF tfidf</td>\n",
       "      <td>0.854720</td>\n",
       "      <td>0.856518</td>\n",
       "      <td>0.90125</td>\n",
       "    </tr>\n",
       "    <tr>\n",
       "      <th>6</th>\n",
       "      <td>PAC count</td>\n",
       "      <td>0.882466</td>\n",
       "      <td>0.892019</td>\n",
       "      <td>0.86875</td>\n",
       "    </tr>\n",
       "    <tr>\n",
       "      <th>7</th>\n",
       "      <td>PAC hash</td>\n",
       "      <td>0.915908</td>\n",
       "      <td>0.925117</td>\n",
       "      <td>0.90875</td>\n",
       "    </tr>\n",
       "    <tr>\n",
       "      <th>8</th>\n",
       "      <td>PAC tfidf</td>\n",
       "      <td>0.927783</td>\n",
       "      <td>0.948518</td>\n",
       "      <td>0.93375</td>\n",
       "    </tr>\n",
       "    <tr>\n",
       "      <th>9</th>\n",
       "      <td>PAC on title tfidf</td>\n",
       "      <td>0.774299</td>\n",
       "      <td>0.784711</td>\n",
       "      <td>0.78625</td>\n",
       "    </tr>\n",
       "  </tbody>\n",
       "</table>\n",
       "</div>"
      ],
      "text/plain": [
       "                Model  CV Score avg  CV Score max  Holdout Score\n",
       "0            baseline      0.877145      0.900156        0.89500\n",
       "1            NB count      0.883401      0.903276        0.89875\n",
       "2            NB tfidf      0.884020      0.915757        0.90625\n",
       "3            RF count      0.860425      0.866833        0.90125\n",
       "4             RF hash      0.828384      0.830259        0.86375\n",
       "5            RF tfidf      0.854720      0.856518        0.90125\n",
       "6           PAC count      0.882466      0.892019        0.86875\n",
       "7            PAC hash      0.915908      0.925117        0.90875\n",
       "8           PAC tfidf      0.927783      0.948518        0.93375\n",
       "9  PAC on title tfidf      0.774299      0.784711        0.78625"
      ]
     },
     "execution_count": 111,
     "metadata": {},
     "output_type": "execute_result"
    }
   ],
   "source": [
    "m_title, v_title, cv_pac_title, test_pac_title = PAC(train_1, 'tfidf', feature='title')\n",
    "\n",
    "all_scores = hp.append_scores(all_scores, 'PAC on title tfidf', cv_pac_title, test_pac_title)\n",
    "all_scores"
   ]
  },
  {
   "cell_type": "markdown",
   "metadata": {},
   "source": [
    "The prediction is worse than the one on the text, but the classifier still classifies a considerable fraction of instances correctly.\n",
    "\n",
    "Since the title is often repeated at the beginning of the text, we will refrain from concatenating text and title. We tried it and it did not improve performance."
   ]
  },
  {
   "cell_type": "markdown",
   "metadata": {},
   "source": [
    "## Lemmatize, Postag etc"
   ]
  },
  {
   "cell_type": "markdown",
   "metadata": {},
   "source": [
    "In this section, we will explore how eliminating stopwords, lemmatizing and using a porter-stemmer affects model performance."
   ]
  },
  {
   "cell_type": "markdown",
   "metadata": {},
   "source": [
    "#### Eliminate stopwords:"
   ]
  },
  {
   "cell_type": "code",
   "execution_count": 112,
   "metadata": {},
   "outputs": [
    {
     "name": "stdout",
     "output_type": "stream",
     "text": [
      "[[379  26]\n",
      " [ 28 367]]\n"
     ]
    },
    {
     "data": {
      "text/html": [
       "<div>\n",
       "<style scoped>\n",
       "    .dataframe tbody tr th:only-of-type {\n",
       "        vertical-align: middle;\n",
       "    }\n",
       "\n",
       "    .dataframe tbody tr th {\n",
       "        vertical-align: top;\n",
       "    }\n",
       "\n",
       "    .dataframe thead th {\n",
       "        text-align: right;\n",
       "    }\n",
       "</style>\n",
       "<table border=\"1\" class=\"dataframe\">\n",
       "  <thead>\n",
       "    <tr style=\"text-align: right;\">\n",
       "      <th></th>\n",
       "      <th>Model</th>\n",
       "      <th>CV Score avg</th>\n",
       "      <th>CV Score max</th>\n",
       "      <th>Holdout Score</th>\n",
       "    </tr>\n",
       "  </thead>\n",
       "  <tbody>\n",
       "    <tr>\n",
       "      <th>0</th>\n",
       "      <td>baseline</td>\n",
       "      <td>0.877145</td>\n",
       "      <td>0.900156</td>\n",
       "      <td>0.89500</td>\n",
       "    </tr>\n",
       "    <tr>\n",
       "      <th>1</th>\n",
       "      <td>NB count</td>\n",
       "      <td>0.883401</td>\n",
       "      <td>0.903276</td>\n",
       "      <td>0.89875</td>\n",
       "    </tr>\n",
       "    <tr>\n",
       "      <th>2</th>\n",
       "      <td>NB tfidf</td>\n",
       "      <td>0.884020</td>\n",
       "      <td>0.915757</td>\n",
       "      <td>0.90625</td>\n",
       "    </tr>\n",
       "    <tr>\n",
       "      <th>3</th>\n",
       "      <td>RF count</td>\n",
       "      <td>0.860425</td>\n",
       "      <td>0.866833</td>\n",
       "      <td>0.90125</td>\n",
       "    </tr>\n",
       "    <tr>\n",
       "      <th>4</th>\n",
       "      <td>RF hash</td>\n",
       "      <td>0.828384</td>\n",
       "      <td>0.830259</td>\n",
       "      <td>0.86375</td>\n",
       "    </tr>\n",
       "    <tr>\n",
       "      <th>5</th>\n",
       "      <td>RF tfidf</td>\n",
       "      <td>0.854720</td>\n",
       "      <td>0.856518</td>\n",
       "      <td>0.90125</td>\n",
       "    </tr>\n",
       "    <tr>\n",
       "      <th>6</th>\n",
       "      <td>PAC count</td>\n",
       "      <td>0.882466</td>\n",
       "      <td>0.892019</td>\n",
       "      <td>0.86875</td>\n",
       "    </tr>\n",
       "    <tr>\n",
       "      <th>7</th>\n",
       "      <td>PAC hash</td>\n",
       "      <td>0.915908</td>\n",
       "      <td>0.925117</td>\n",
       "      <td>0.90875</td>\n",
       "    </tr>\n",
       "    <tr>\n",
       "      <th>8</th>\n",
       "      <td>PAC tfidf</td>\n",
       "      <td>0.927783</td>\n",
       "      <td>0.948518</td>\n",
       "      <td>0.93375</td>\n",
       "    </tr>\n",
       "    <tr>\n",
       "      <th>9</th>\n",
       "      <td>PAC on title tfidf</td>\n",
       "      <td>0.774299</td>\n",
       "      <td>0.784711</td>\n",
       "      <td>0.78625</td>\n",
       "    </tr>\n",
       "    <tr>\n",
       "      <th>10</th>\n",
       "      <td>PAC w/o stopwords</td>\n",
       "      <td>0.924970</td>\n",
       "      <td>0.942278</td>\n",
       "      <td>0.93250</td>\n",
       "    </tr>\n",
       "  </tbody>\n",
       "</table>\n",
       "</div>"
      ],
      "text/plain": [
       "                 Model  CV Score avg  CV Score max  Holdout Score\n",
       "0             baseline      0.877145      0.900156        0.89500\n",
       "1             NB count      0.883401      0.903276        0.89875\n",
       "2             NB tfidf      0.884020      0.915757        0.90625\n",
       "3             RF count      0.860425      0.866833        0.90125\n",
       "4              RF hash      0.828384      0.830259        0.86375\n",
       "5             RF tfidf      0.854720      0.856518        0.90125\n",
       "6            PAC count      0.882466      0.892019        0.86875\n",
       "7             PAC hash      0.915908      0.925117        0.90875\n",
       "8            PAC tfidf      0.927783      0.948518        0.93375\n",
       "9   PAC on title tfidf      0.774299      0.784711        0.78625\n",
       "10   PAC w/o stopwords      0.924970      0.942278        0.93250"
      ]
     },
     "execution_count": 112,
     "metadata": {},
     "output_type": "execute_result"
    }
   ],
   "source": [
    "train_stopwords = hp.preprocess_data(train_1)\n",
    "m_stopwords, v_stopwords, cv_stopwords, test_stopwords = PAC(train_stopwords, 'tfidf', feature='text_stop')\n",
    "\n",
    "all_scores = hp.append_scores(all_scores, 'PAC w/o stopwords', cv_stopwords, test_stopwords)\n",
    "all_scores"
   ]
  },
  {
   "cell_type": "markdown",
   "metadata": {},
   "source": [
    "The scores are very similar to the previous PAC scores using tfidf."
   ]
  },
  {
   "cell_type": "markdown",
   "metadata": {},
   "source": [
    "#### Porter Stemmer"
   ]
  },
  {
   "cell_type": "markdown",
   "metadata": {},
   "source": [
    "For many words, there are several different conjugations and forms which however all share the same stem. For example, fish, fished, and fishing all refer to similar things. The porter stemmer will them all all of them down to fish, making them represent the same stem."
   ]
  },
  {
   "cell_type": "code",
   "execution_count": 113,
   "metadata": {},
   "outputs": [
    {
     "name": "stdout",
     "output_type": "stream",
     "text": [
      "[[315  90]\n",
      " [ 93 302]]\n"
     ]
    },
    {
     "data": {
      "text/html": [
       "<div>\n",
       "<style scoped>\n",
       "    .dataframe tbody tr th:only-of-type {\n",
       "        vertical-align: middle;\n",
       "    }\n",
       "\n",
       "    .dataframe tbody tr th {\n",
       "        vertical-align: top;\n",
       "    }\n",
       "\n",
       "    .dataframe thead th {\n",
       "        text-align: right;\n",
       "    }\n",
       "</style>\n",
       "<table border=\"1\" class=\"dataframe\">\n",
       "  <thead>\n",
       "    <tr style=\"text-align: right;\">\n",
       "      <th></th>\n",
       "      <th>Model</th>\n",
       "      <th>CV Score avg</th>\n",
       "      <th>CV Score max</th>\n",
       "      <th>Holdout Score</th>\n",
       "    </tr>\n",
       "  </thead>\n",
       "  <tbody>\n",
       "    <tr>\n",
       "      <th>0</th>\n",
       "      <td>baseline</td>\n",
       "      <td>0.877145</td>\n",
       "      <td>0.900156</td>\n",
       "      <td>0.89500</td>\n",
       "    </tr>\n",
       "    <tr>\n",
       "      <th>1</th>\n",
       "      <td>NB count</td>\n",
       "      <td>0.883401</td>\n",
       "      <td>0.903276</td>\n",
       "      <td>0.89875</td>\n",
       "    </tr>\n",
       "    <tr>\n",
       "      <th>2</th>\n",
       "      <td>NB tfidf</td>\n",
       "      <td>0.884020</td>\n",
       "      <td>0.915757</td>\n",
       "      <td>0.90625</td>\n",
       "    </tr>\n",
       "    <tr>\n",
       "      <th>3</th>\n",
       "      <td>RF count</td>\n",
       "      <td>0.860425</td>\n",
       "      <td>0.866833</td>\n",
       "      <td>0.90125</td>\n",
       "    </tr>\n",
       "    <tr>\n",
       "      <th>4</th>\n",
       "      <td>RF hash</td>\n",
       "      <td>0.828384</td>\n",
       "      <td>0.830259</td>\n",
       "      <td>0.86375</td>\n",
       "    </tr>\n",
       "    <tr>\n",
       "      <th>5</th>\n",
       "      <td>RF tfidf</td>\n",
       "      <td>0.854720</td>\n",
       "      <td>0.856518</td>\n",
       "      <td>0.90125</td>\n",
       "    </tr>\n",
       "    <tr>\n",
       "      <th>6</th>\n",
       "      <td>PAC count</td>\n",
       "      <td>0.882466</td>\n",
       "      <td>0.892019</td>\n",
       "      <td>0.86875</td>\n",
       "    </tr>\n",
       "    <tr>\n",
       "      <th>7</th>\n",
       "      <td>PAC hash</td>\n",
       "      <td>0.915908</td>\n",
       "      <td>0.925117</td>\n",
       "      <td>0.90875</td>\n",
       "    </tr>\n",
       "    <tr>\n",
       "      <th>8</th>\n",
       "      <td>PAC tfidf</td>\n",
       "      <td>0.927783</td>\n",
       "      <td>0.948518</td>\n",
       "      <td>0.93375</td>\n",
       "    </tr>\n",
       "    <tr>\n",
       "      <th>9</th>\n",
       "      <td>PAC on title tfidf</td>\n",
       "      <td>0.774299</td>\n",
       "      <td>0.784711</td>\n",
       "      <td>0.78625</td>\n",
       "    </tr>\n",
       "    <tr>\n",
       "      <th>10</th>\n",
       "      <td>PAC w/o stopwords</td>\n",
       "      <td>0.924970</td>\n",
       "      <td>0.942278</td>\n",
       "      <td>0.93250</td>\n",
       "    </tr>\n",
       "    <tr>\n",
       "      <th>11</th>\n",
       "      <td>PAC w/ porter stemmer</td>\n",
       "      <td>0.767726</td>\n",
       "      <td>0.795632</td>\n",
       "      <td>0.77125</td>\n",
       "    </tr>\n",
       "  </tbody>\n",
       "</table>\n",
       "</div>"
      ],
      "text/plain": [
       "                    Model  CV Score avg  CV Score max  Holdout Score\n",
       "0                baseline      0.877145      0.900156        0.89500\n",
       "1                NB count      0.883401      0.903276        0.89875\n",
       "2                NB tfidf      0.884020      0.915757        0.90625\n",
       "3                RF count      0.860425      0.866833        0.90125\n",
       "4                 RF hash      0.828384      0.830259        0.86375\n",
       "5                RF tfidf      0.854720      0.856518        0.90125\n",
       "6               PAC count      0.882466      0.892019        0.86875\n",
       "7                PAC hash      0.915908      0.925117        0.90875\n",
       "8               PAC tfidf      0.927783      0.948518        0.93375\n",
       "9      PAC on title tfidf      0.774299      0.784711        0.78625\n",
       "10      PAC w/o stopwords      0.924970      0.942278        0.93250\n",
       "11  PAC w/ porter stemmer      0.767726      0.795632        0.77125"
      ]
     },
     "execution_count": 113,
     "metadata": {},
     "output_type": "execute_result"
    }
   ],
   "source": [
    "train_porter = hp.preprocess_data(train_1, port = True)\n",
    "m_port, v_port, cv_port, test_port = PAC(train_porter, 'tfidf', feature='text_port')\n",
    "\n",
    "all_scores = hp.append_scores(all_scores, 'PAC w/ porter stemmer', cv_port, test_port)\n",
    "all_scores"
   ]
  },
  {
   "cell_type": "markdown",
   "metadata": {},
   "source": [
    "Performance is very bad. Indeed, stemming is not very sophisticated in the sense that it will also group together words which may have completely different meanings."
   ]
  },
  {
   "cell_type": "markdown",
   "metadata": {},
   "source": [
    "#### Lemmatize words:"
   ]
  },
  {
   "cell_type": "markdown",
   "metadata": {},
   "source": [
    "By performing lemmatizing, words belonging to the same family will be grouped to the same lemma. This is similar to stemming but more sophisticated. For example, good, better, best will all be turned into good. This reduces unwanted variation in wording of the same thing, but it could also mask crucial information for fake-news detection."
   ]
  },
  {
   "cell_type": "code",
   "execution_count": 114,
   "metadata": {},
   "outputs": [
    {
     "name": "stdout",
     "output_type": "stream",
     "text": [
      "[[374  31]\n",
      " [ 27 368]]\n"
     ]
    },
    {
     "data": {
      "text/html": [
       "<div>\n",
       "<style scoped>\n",
       "    .dataframe tbody tr th:only-of-type {\n",
       "        vertical-align: middle;\n",
       "    }\n",
       "\n",
       "    .dataframe tbody tr th {\n",
       "        vertical-align: top;\n",
       "    }\n",
       "\n",
       "    .dataframe thead th {\n",
       "        text-align: right;\n",
       "    }\n",
       "</style>\n",
       "<table border=\"1\" class=\"dataframe\">\n",
       "  <thead>\n",
       "    <tr style=\"text-align: right;\">\n",
       "      <th></th>\n",
       "      <th>Model</th>\n",
       "      <th>CV Score avg</th>\n",
       "      <th>CV Score max</th>\n",
       "      <th>Holdout Score</th>\n",
       "    </tr>\n",
       "  </thead>\n",
       "  <tbody>\n",
       "    <tr>\n",
       "      <th>0</th>\n",
       "      <td>baseline</td>\n",
       "      <td>0.877145</td>\n",
       "      <td>0.900156</td>\n",
       "      <td>0.89500</td>\n",
       "    </tr>\n",
       "    <tr>\n",
       "      <th>1</th>\n",
       "      <td>NB count</td>\n",
       "      <td>0.883401</td>\n",
       "      <td>0.903276</td>\n",
       "      <td>0.89875</td>\n",
       "    </tr>\n",
       "    <tr>\n",
       "      <th>2</th>\n",
       "      <td>NB tfidf</td>\n",
       "      <td>0.884020</td>\n",
       "      <td>0.915757</td>\n",
       "      <td>0.90625</td>\n",
       "    </tr>\n",
       "    <tr>\n",
       "      <th>3</th>\n",
       "      <td>RF count</td>\n",
       "      <td>0.860425</td>\n",
       "      <td>0.866833</td>\n",
       "      <td>0.90125</td>\n",
       "    </tr>\n",
       "    <tr>\n",
       "      <th>4</th>\n",
       "      <td>RF hash</td>\n",
       "      <td>0.828384</td>\n",
       "      <td>0.830259</td>\n",
       "      <td>0.86375</td>\n",
       "    </tr>\n",
       "    <tr>\n",
       "      <th>5</th>\n",
       "      <td>RF tfidf</td>\n",
       "      <td>0.854720</td>\n",
       "      <td>0.856518</td>\n",
       "      <td>0.90125</td>\n",
       "    </tr>\n",
       "    <tr>\n",
       "      <th>6</th>\n",
       "      <td>PAC count</td>\n",
       "      <td>0.882466</td>\n",
       "      <td>0.892019</td>\n",
       "      <td>0.86875</td>\n",
       "    </tr>\n",
       "    <tr>\n",
       "      <th>7</th>\n",
       "      <td>PAC hash</td>\n",
       "      <td>0.915908</td>\n",
       "      <td>0.925117</td>\n",
       "      <td>0.90875</td>\n",
       "    </tr>\n",
       "    <tr>\n",
       "      <th>8</th>\n",
       "      <td>PAC tfidf</td>\n",
       "      <td>0.927783</td>\n",
       "      <td>0.948518</td>\n",
       "      <td>0.93375</td>\n",
       "    </tr>\n",
       "    <tr>\n",
       "      <th>9</th>\n",
       "      <td>PAC on title tfidf</td>\n",
       "      <td>0.774299</td>\n",
       "      <td>0.784711</td>\n",
       "      <td>0.78625</td>\n",
       "    </tr>\n",
       "    <tr>\n",
       "      <th>10</th>\n",
       "      <td>PAC w/o stopwords</td>\n",
       "      <td>0.924970</td>\n",
       "      <td>0.942278</td>\n",
       "      <td>0.93250</td>\n",
       "    </tr>\n",
       "    <tr>\n",
       "      <th>11</th>\n",
       "      <td>PAC w/ porter stemmer</td>\n",
       "      <td>0.767726</td>\n",
       "      <td>0.795632</td>\n",
       "      <td>0.77125</td>\n",
       "    </tr>\n",
       "    <tr>\n",
       "      <th>12</th>\n",
       "      <td>PAC w/ lemmatizer</td>\n",
       "      <td>0.916535</td>\n",
       "      <td>0.925117</td>\n",
       "      <td>0.92750</td>\n",
       "    </tr>\n",
       "  </tbody>\n",
       "</table>\n",
       "</div>"
      ],
      "text/plain": [
       "                    Model  CV Score avg  CV Score max  Holdout Score\n",
       "0                baseline      0.877145      0.900156        0.89500\n",
       "1                NB count      0.883401      0.903276        0.89875\n",
       "2                NB tfidf      0.884020      0.915757        0.90625\n",
       "3                RF count      0.860425      0.866833        0.90125\n",
       "4                 RF hash      0.828384      0.830259        0.86375\n",
       "5                RF tfidf      0.854720      0.856518        0.90125\n",
       "6               PAC count      0.882466      0.892019        0.86875\n",
       "7                PAC hash      0.915908      0.925117        0.90875\n",
       "8               PAC tfidf      0.927783      0.948518        0.93375\n",
       "9      PAC on title tfidf      0.774299      0.784711        0.78625\n",
       "10      PAC w/o stopwords      0.924970      0.942278        0.93250\n",
       "11  PAC w/ porter stemmer      0.767726      0.795632        0.77125\n",
       "12      PAC w/ lemmatizer      0.916535      0.925117        0.92750"
      ]
     },
     "execution_count": 114,
     "metadata": {},
     "output_type": "execute_result"
    }
   ],
   "source": [
    "train_lemma = hp.preprocess_data(train_1, lemmatize = True)\n",
    "m_lemma, v_lemma, cv_lemma, test_lemma = PAC(train_lemma, 'tfidf', feature='text_lem')\n",
    "\n",
    "all_scores = hp.append_scores(all_scores, 'PAC w/ lemmatizer', cv_lemma, test_lemma)\n",
    "all_scores"
   ]
  },
  {
   "cell_type": "markdown",
   "metadata": {},
   "source": [
    "Performance is clearly reduced. The different forms of a lemma appear to contain information that helps classifying news. Perhaps, for example, superlatives are more widely used in fake news than in real ones.\n",
    "\n",
    "For this task, it seems to be better the less the data is processed, as little nuances in spelling and word choice contain valuable information."
   ]
  },
  {
   "cell_type": "markdown",
   "metadata": {},
   "source": [
    "## Feature Engineering"
   ]
  },
  {
   "cell_type": "markdown",
   "metadata": {},
   "source": [
    "Here, we will approach the task in a different way and just try to create some features that could drive whether an article is fake news"
   ]
  },
  {
   "cell_type": "markdown",
   "metadata": {},
   "source": [
    "Create a dataframe containing several other features and predict using that dataframe.\n",
    "\n",
    "The feature engineering creates the following features::\n",
    "- whether the word 'Trump' appears\n",
    "- length of text and title\n",
    "- counts of the various pos-tags"
   ]
  },
  {
   "cell_type": "code",
   "execution_count": 115,
   "metadata": {},
   "outputs": [],
   "source": [
    "train_2 = hp.create_features(train_1)\n",
    "train_3 = train_2[['label','trump_title', 'trump_text',\n",
    "                   'title_NN_count', 'title_VERB_count','title_ADJ_count', \n",
    "                   'text_NN_count', 'text_VERB_count','text_ADJ_count', \n",
    "                   'title_length', 'text_length']]"
   ]
  },
  {
   "cell_type": "code",
   "execution_count": 116,
   "metadata": {},
   "outputs": [
    {
     "data": {
      "text/html": [
       "<div>\n",
       "<style scoped>\n",
       "    .dataframe tbody tr th:only-of-type {\n",
       "        vertical-align: middle;\n",
       "    }\n",
       "\n",
       "    .dataframe tbody tr th {\n",
       "        vertical-align: top;\n",
       "    }\n",
       "\n",
       "    .dataframe thead th {\n",
       "        text-align: right;\n",
       "    }\n",
       "</style>\n",
       "<table border=\"1\" class=\"dataframe\">\n",
       "  <thead>\n",
       "    <tr style=\"text-align: right;\">\n",
       "      <th></th>\n",
       "      <th>label</th>\n",
       "      <th>trump_title</th>\n",
       "      <th>trump_text</th>\n",
       "      <th>title_NN_count</th>\n",
       "      <th>title_VERB_count</th>\n",
       "      <th>title_ADJ_count</th>\n",
       "      <th>text_NN_count</th>\n",
       "      <th>text_VERB_count</th>\n",
       "      <th>text_ADJ_count</th>\n",
       "      <th>title_length</th>\n",
       "      <th>text_length</th>\n",
       "    </tr>\n",
       "  </thead>\n",
       "  <tbody>\n",
       "    <tr>\n",
       "      <th>0</th>\n",
       "      <td>0</td>\n",
       "      <td>0</td>\n",
       "      <td>1</td>\n",
       "      <td>10</td>\n",
       "      <td>0</td>\n",
       "      <td>0</td>\n",
       "      <td>2776</td>\n",
       "      <td>0</td>\n",
       "      <td>0</td>\n",
       "      <td>7</td>\n",
       "      <td>1474</td>\n",
       "    </tr>\n",
       "    <tr>\n",
       "      <th>1</th>\n",
       "      <td>0</td>\n",
       "      <td>1</td>\n",
       "      <td>1</td>\n",
       "      <td>38</td>\n",
       "      <td>0</td>\n",
       "      <td>0</td>\n",
       "      <td>988</td>\n",
       "      <td>0</td>\n",
       "      <td>0</td>\n",
       "      <td>16</td>\n",
       "      <td>517</td>\n",
       "    </tr>\n",
       "    <tr>\n",
       "      <th>2</th>\n",
       "      <td>1</td>\n",
       "      <td>0</td>\n",
       "      <td>0</td>\n",
       "      <td>21</td>\n",
       "      <td>0</td>\n",
       "      <td>0</td>\n",
       "      <td>960</td>\n",
       "      <td>0</td>\n",
       "      <td>0</td>\n",
       "      <td>9</td>\n",
       "      <td>486</td>\n",
       "    </tr>\n",
       "    <tr>\n",
       "      <th>3</th>\n",
       "      <td>0</td>\n",
       "      <td>0</td>\n",
       "      <td>1</td>\n",
       "      <td>34</td>\n",
       "      <td>0</td>\n",
       "      <td>0</td>\n",
       "      <td>1064</td>\n",
       "      <td>0</td>\n",
       "      <td>0</td>\n",
       "      <td>18</td>\n",
       "      <td>498</td>\n",
       "    </tr>\n",
       "    <tr>\n",
       "      <th>4</th>\n",
       "      <td>1</td>\n",
       "      <td>0</td>\n",
       "      <td>1</td>\n",
       "      <td>19</td>\n",
       "      <td>0</td>\n",
       "      <td>0</td>\n",
       "      <td>670</td>\n",
       "      <td>0</td>\n",
       "      <td>0</td>\n",
       "      <td>10</td>\n",
       "      <td>377</td>\n",
       "    </tr>\n",
       "  </tbody>\n",
       "</table>\n",
       "</div>"
      ],
      "text/plain": [
       "   label  trump_title  trump_text  title_NN_count  title_VERB_count  \\\n",
       "0      0            0           1              10                 0   \n",
       "1      0            1           1              38                 0   \n",
       "2      1            0           0              21                 0   \n",
       "3      0            0           1              34                 0   \n",
       "4      1            0           1              19                 0   \n",
       "\n",
       "   title_ADJ_count  text_NN_count  text_VERB_count  text_ADJ_count  \\\n",
       "0                0           2776                0               0   \n",
       "1                0            988                0               0   \n",
       "2                0            960                0               0   \n",
       "3                0           1064                0               0   \n",
       "4                0            670                0               0   \n",
       "\n",
       "   title_length  text_length  \n",
       "0             7         1474  \n",
       "1            16          517  \n",
       "2             9          486  \n",
       "3            18          498  \n",
       "4            10          377  "
      ]
     },
     "execution_count": 116,
     "metadata": {},
     "output_type": "execute_result"
    }
   ],
   "source": [
    "train_3.head()"
   ]
  },
  {
   "cell_type": "markdown",
   "metadata": {},
   "source": [
    "We will now fit a normal model using these features"
   ]
  },
  {
   "cell_type": "code",
   "execution_count": 117,
   "metadata": {},
   "outputs": [],
   "source": [
    "# ti-idf vectorizer rf model\n",
    "def rf_model_standard(data,features):\n",
    "    # split data\n",
    "    X_train, X_test, y_train, y_test = split_data(data,feature=features)\n",
    "    \n",
    "    # pipeline\n",
    "    estimators = [('RF',RandomForestClassifier(random_state=666))]\n",
    "    pipe = Pipeline(estimators)\n",
    "    param_RF = {'RF__max_depth': [20,25],\n",
    "                'RF__n_estimators': [150,200]}\n",
    "    \n",
    "    # apply the estimators and parameters in pipeline\n",
    "    gridPipe = GridSearchCV(pipe, param_RF, cv=5, return_train_score=True)\n",
    "    model = gridPipe.fit(X_train, y_train)\n",
    "\n",
    "    pred = model.predict(X_test)\n",
    "    acc = accuracy_score(y_test, pred)\n",
    "    print(\"accuracy:   %0.3f\" % acc)\n",
    "    print(confusion_matrix(y_test, pred, labels=[0, 1]))\n",
    "\n",
    "    return model"
   ]
  },
  {
   "cell_type": "code",
   "execution_count": 118,
   "metadata": {},
   "outputs": [
    {
     "name": "stdout",
     "output_type": "stream",
     "text": [
      "accuracy:   0.674\n",
      "[[259 146]\n",
      " [115 280]]\n"
     ]
    }
   ],
   "source": [
    "features = ['trump_title', 'trump_text',\n",
    "             'title_NN_count', 'title_VERB_count','title_ADJ_count', \n",
    "             'text_NN_count', 'text_VERB_count','text_ADJ_count', \n",
    "             'title_length', 'text_length'\n",
    "           ]\n",
    "m = rf_model_standard(train_3,features)"
   ]
  },
  {
   "cell_type": "markdown",
   "metadata": {},
   "source": [
    "Model performance is very low. The standard NLP approach clearly works better."
   ]
  },
  {
   "cell_type": "markdown",
   "metadata": {},
   "source": [
    "### Less processing"
   ]
  },
  {
   "cell_type": "markdown",
   "metadata": {},
   "source": [
    "In fake news, wrongs spellings and weird conjugations could give us a hint on whether an article is telling the truth. Thus, it is worth it to try fitting a model with the PAC where we do not turn everything to lowercase."
   ]
  },
  {
   "cell_type": "code",
   "execution_count": 119,
   "metadata": {},
   "outputs": [],
   "source": [
    "# reload data\n",
    "train_0 = pd.read_csv('../data/fake_or_real_news_training.csv')\n",
    "# reprepare data\n",
    "train_4 = hp.prepare_data(train_0)"
   ]
  },
  {
   "cell_type": "code",
   "execution_count": 120,
   "metadata": {
    "scrolled": true
   },
   "outputs": [
    {
     "name": "stdout",
     "output_type": "stream",
     "text": [
      "[[383  22]\n",
      " [ 15 380]]\n"
     ]
    },
    {
     "data": {
      "text/html": [
       "<div>\n",
       "<style scoped>\n",
       "    .dataframe tbody tr th:only-of-type {\n",
       "        vertical-align: middle;\n",
       "    }\n",
       "\n",
       "    .dataframe tbody tr th {\n",
       "        vertical-align: top;\n",
       "    }\n",
       "\n",
       "    .dataframe thead th {\n",
       "        text-align: right;\n",
       "    }\n",
       "</style>\n",
       "<table border=\"1\" class=\"dataframe\">\n",
       "  <thead>\n",
       "    <tr style=\"text-align: right;\">\n",
       "      <th></th>\n",
       "      <th>Model</th>\n",
       "      <th>CV Score avg</th>\n",
       "      <th>CV Score max</th>\n",
       "      <th>Holdout Score</th>\n",
       "    </tr>\n",
       "  </thead>\n",
       "  <tbody>\n",
       "    <tr>\n",
       "      <th>0</th>\n",
       "      <td>baseline</td>\n",
       "      <td>0.877145</td>\n",
       "      <td>0.900156</td>\n",
       "      <td>0.89500</td>\n",
       "    </tr>\n",
       "    <tr>\n",
       "      <th>1</th>\n",
       "      <td>NB count</td>\n",
       "      <td>0.883401</td>\n",
       "      <td>0.903276</td>\n",
       "      <td>0.89875</td>\n",
       "    </tr>\n",
       "    <tr>\n",
       "      <th>2</th>\n",
       "      <td>NB tfidf</td>\n",
       "      <td>0.884020</td>\n",
       "      <td>0.915757</td>\n",
       "      <td>0.90625</td>\n",
       "    </tr>\n",
       "    <tr>\n",
       "      <th>3</th>\n",
       "      <td>RF count</td>\n",
       "      <td>0.860425</td>\n",
       "      <td>0.866833</td>\n",
       "      <td>0.90125</td>\n",
       "    </tr>\n",
       "    <tr>\n",
       "      <th>4</th>\n",
       "      <td>RF hash</td>\n",
       "      <td>0.828384</td>\n",
       "      <td>0.830259</td>\n",
       "      <td>0.86375</td>\n",
       "    </tr>\n",
       "    <tr>\n",
       "      <th>5</th>\n",
       "      <td>RF tfidf</td>\n",
       "      <td>0.854720</td>\n",
       "      <td>0.856518</td>\n",
       "      <td>0.90125</td>\n",
       "    </tr>\n",
       "    <tr>\n",
       "      <th>6</th>\n",
       "      <td>PAC count</td>\n",
       "      <td>0.882466</td>\n",
       "      <td>0.892019</td>\n",
       "      <td>0.86875</td>\n",
       "    </tr>\n",
       "    <tr>\n",
       "      <th>7</th>\n",
       "      <td>PAC hash</td>\n",
       "      <td>0.915908</td>\n",
       "      <td>0.925117</td>\n",
       "      <td>0.90875</td>\n",
       "    </tr>\n",
       "    <tr>\n",
       "      <th>8</th>\n",
       "      <td>PAC tfidf</td>\n",
       "      <td>0.927783</td>\n",
       "      <td>0.948518</td>\n",
       "      <td>0.93375</td>\n",
       "    </tr>\n",
       "    <tr>\n",
       "      <th>9</th>\n",
       "      <td>PAC on title tfidf</td>\n",
       "      <td>0.774299</td>\n",
       "      <td>0.784711</td>\n",
       "      <td>0.78625</td>\n",
       "    </tr>\n",
       "    <tr>\n",
       "      <th>10</th>\n",
       "      <td>PAC w/o stopwords</td>\n",
       "      <td>0.924970</td>\n",
       "      <td>0.942278</td>\n",
       "      <td>0.93250</td>\n",
       "    </tr>\n",
       "    <tr>\n",
       "      <th>11</th>\n",
       "      <td>PAC w/ porter stemmer</td>\n",
       "      <td>0.767726</td>\n",
       "      <td>0.795632</td>\n",
       "      <td>0.77125</td>\n",
       "    </tr>\n",
       "    <tr>\n",
       "      <th>12</th>\n",
       "      <td>PAC w/ lemmatizer</td>\n",
       "      <td>0.916535</td>\n",
       "      <td>0.925117</td>\n",
       "      <td>0.92750</td>\n",
       "    </tr>\n",
       "    <tr>\n",
       "      <th>13</th>\n",
       "      <td>PAC not lowercase</td>\n",
       "      <td>0.941854</td>\n",
       "      <td>0.954758</td>\n",
       "      <td>0.95375</td>\n",
       "    </tr>\n",
       "  </tbody>\n",
       "</table>\n",
       "</div>"
      ],
      "text/plain": [
       "                    Model  CV Score avg  CV Score max  Holdout Score\n",
       "0                baseline      0.877145      0.900156        0.89500\n",
       "1                NB count      0.883401      0.903276        0.89875\n",
       "2                NB tfidf      0.884020      0.915757        0.90625\n",
       "3                RF count      0.860425      0.866833        0.90125\n",
       "4                 RF hash      0.828384      0.830259        0.86375\n",
       "5                RF tfidf      0.854720      0.856518        0.90125\n",
       "6               PAC count      0.882466      0.892019        0.86875\n",
       "7                PAC hash      0.915908      0.925117        0.90875\n",
       "8               PAC tfidf      0.927783      0.948518        0.93375\n",
       "9      PAC on title tfidf      0.774299      0.784711        0.78625\n",
       "10      PAC w/o stopwords      0.924970      0.942278        0.93250\n",
       "11  PAC w/ porter stemmer      0.767726      0.795632        0.77125\n",
       "12      PAC w/ lemmatizer      0.916535      0.925117        0.92750\n",
       "13      PAC not lowercase      0.941854      0.954758        0.95375"
      ]
     },
     "execution_count": 120,
     "metadata": {},
     "output_type": "execute_result"
    }
   ],
   "source": [
    "m_pac_lowercase, v_pac_not_lowercase, cv_pac_not_lowercase, test_pac_not_lowercase = PAC(train_4,feature='text', lowercase = False)\n",
    "\n",
    "all_scores = hp.append_scores(all_scores, 'PAC not lowercase', cv_pac_not_lowercase, test_pac_not_lowercase)\n",
    "all_scores"
   ]
  },
  {
   "cell_type": "markdown",
   "metadata": {},
   "source": [
    "Indeed, upper- and lower cases contain information valuable for classifying an article as fake or real."
   ]
  },
  {
   "cell_type": "markdown",
   "metadata": {},
   "source": [
    "### Gridsearch\n",
    "\n",
    "Keeping this non-lowercase configuration, we run a gridsearch in order to find the best hyperparameters.\n",
    "\n",
    "We are tuning the following elements (all within the vectorizer):\n",
    "- max_df: ignore very frequent words, conceptually similar to eliminating stopwords (tune the max. frequency)\n",
    "- min_df: ignore very infrequent words (tune minimum number of occurences). Very infrequent words will tend to lead to overfitting, as they likely will not be found in most texts, reducing generalization power\n",
    "- ngram: group words together to n-grams (tuning n). In certain cases, a group of words if more informative than words by themselves. For example, \"fucking\" followed by \"awesome\" has a very different meaning from the two words by themselves"
   ]
  },
  {
   "cell_type": "code",
   "execution_count": 121,
   "metadata": {},
   "outputs": [],
   "source": [
    "# passive aggressive classifier with grid search cv\n",
    "def PAC_NGRAM(data, selection='tfidf', feature='text'):\n",
    "    # split data\n",
    "    X_train, X_test, y_train, y_test = split_data(data, feature=feature, random_state=666)\n",
    "    estimators = [   \n",
    "                    ('TF',TfidfVectorizer(stop_words='english', binary=True, lowercase=False,\n",
    "                                         norm='l2',sublinear_tf=False)\n",
    "                    ),\n",
    "                    ('PA',PassiveAggressiveClassifier(random_state=666, max_iter=1000, \n",
    "                                                      n_iter_no_change=10, tol=1e-3, \n",
    "                                                      early_stopping=True, loss='squared_hinge',\n",
    "                                                      fit_intercept= False,\n",
    "                                                      validation_fraction=0.1))\n",
    "                ]\n",
    "    pipe = Pipeline(estimators)\n",
    "    param_RF = {\n",
    "                'TF__max_df':[0.7, 0.8, 0.9],\n",
    "                'TF__min_df':[3,4,5,6],\n",
    "                'TF__ngram_range': [(1,1),(1,2),(1,3),(1,4),(3,4),(4,4)]\n",
    "                }\n",
    "    \n",
    "    # apply the estimators and parameters in pipeline\n",
    "    gridPipe = GridSearchCV(pipe, param_RF, cv=5, return_train_score=True)\n",
    "    model = gridPipe.fit(X_train, y_train)\n",
    "\n",
    "    pred = model.predict(X_test)\n",
    "    acc = accuracy_score(y_test, pred)\n",
    "    print(\"accuracy:   %0.3f\" % acc)\n",
    "    print(confusion_matrix(y_test, pred, labels=[0, 1]))\n",
    "\n",
    "    return model"
   ]
  },
  {
   "cell_type": "code",
   "execution_count": 123,
   "metadata": {},
   "outputs": [
    {
     "name": "stdout",
     "output_type": "stream",
     "text": [
      "accuracy:   0.953\n",
      "[[379  20]\n",
      " [ 18 383]]\n"
     ]
    }
   ],
   "source": [
    "PAC_N = PAC_NGRAM(train_4,feature='text')"
   ]
  },
  {
   "cell_type": "code",
   "execution_count": 124,
   "metadata": {},
   "outputs": [
    {
     "data": {
      "text/plain": [
       "{'TF__max_df': 0.7, 'TF__min_df': 4, 'TF__ngram_range': (1, 4)}"
      ]
     },
     "execution_count": 124,
     "metadata": {},
     "output_type": "execute_result"
    }
   ],
   "source": [
    "PAC_N.best_params_"
   ]
  },
  {
   "cell_type": "markdown",
   "metadata": {},
   "source": [
    "Use best parameters"
   ]
  },
  {
   "cell_type": "code",
   "execution_count": 125,
   "metadata": {},
   "outputs": [],
   "source": [
    "def PAC_tuned(data, feature='text'):\n",
    "    # split data\n",
    "    X_train, X_test, y_train, y_test = split_data(data, feature=feature)\n",
    "\n",
    "    vectorizer = TfidfVectorizer(stop_words='english',max_df=0.7, min_df = 4,\n",
    "                                 binary=True, lowercase=False, ngram_range = (1, 4),\n",
    "                                 norm='l2',sublinear_tf=False)\n",
    "    # transform data\n",
    "    vectorize_train = vectorizer.fit_transform(X_train)\n",
    "    vectorize_test = vectorizer.transform(X_test)\n",
    "    # model \n",
    "    linear_clf = PassiveAggressiveClassifier(random_state=666, max_iter=100, tol=1e-3,\n",
    "                                             early_stopping=True, validation_fraction=0.1)\n",
    "    \n",
    "    clf_cv_scores = cross_val_score(linear_clf,\n",
    "                                vectorize_train,\n",
    "                                y_train,\n",
    "                                cv = 5)\n",
    "    linear_clf.fit(vectorize_train, y_train)\n",
    "    pred = linear_clf.predict(vectorize_test)\n",
    "    acc = accuracy_score(y_test, pred)\n",
    "    \n",
    "    #print(\"accuracy:   %0.3f\" % acc)\n",
    "    print(confusion_matrix(y_test, pred, labels=[0, 1]))\n",
    "    \n",
    "    return linear_clf, clf_cv_scores, acc"
   ]
  },
  {
   "cell_type": "code",
   "execution_count": 126,
   "metadata": {},
   "outputs": [
    {
     "name": "stdout",
     "output_type": "stream",
     "text": [
      "[[386  19]\n",
      " [ 20 375]]\n"
     ]
    },
    {
     "data": {
      "text/html": [
       "<div>\n",
       "<style scoped>\n",
       "    .dataframe tbody tr th:only-of-type {\n",
       "        vertical-align: middle;\n",
       "    }\n",
       "\n",
       "    .dataframe tbody tr th {\n",
       "        vertical-align: top;\n",
       "    }\n",
       "\n",
       "    .dataframe thead th {\n",
       "        text-align: right;\n",
       "    }\n",
       "</style>\n",
       "<table border=\"1\" class=\"dataframe\">\n",
       "  <thead>\n",
       "    <tr style=\"text-align: right;\">\n",
       "      <th></th>\n",
       "      <th>Model</th>\n",
       "      <th>CV Score avg</th>\n",
       "      <th>CV Score max</th>\n",
       "      <th>Holdout Score</th>\n",
       "    </tr>\n",
       "  </thead>\n",
       "  <tbody>\n",
       "    <tr>\n",
       "      <th>0</th>\n",
       "      <td>baseline</td>\n",
       "      <td>0.877145</td>\n",
       "      <td>0.900156</td>\n",
       "      <td>0.89500</td>\n",
       "    </tr>\n",
       "    <tr>\n",
       "      <th>1</th>\n",
       "      <td>NB count</td>\n",
       "      <td>0.883401</td>\n",
       "      <td>0.903276</td>\n",
       "      <td>0.89875</td>\n",
       "    </tr>\n",
       "    <tr>\n",
       "      <th>2</th>\n",
       "      <td>NB tfidf</td>\n",
       "      <td>0.884020</td>\n",
       "      <td>0.915757</td>\n",
       "      <td>0.90625</td>\n",
       "    </tr>\n",
       "    <tr>\n",
       "      <th>3</th>\n",
       "      <td>RF count</td>\n",
       "      <td>0.860425</td>\n",
       "      <td>0.866833</td>\n",
       "      <td>0.90125</td>\n",
       "    </tr>\n",
       "    <tr>\n",
       "      <th>4</th>\n",
       "      <td>RF hash</td>\n",
       "      <td>0.828384</td>\n",
       "      <td>0.830259</td>\n",
       "      <td>0.86375</td>\n",
       "    </tr>\n",
       "    <tr>\n",
       "      <th>5</th>\n",
       "      <td>RF tfidf</td>\n",
       "      <td>0.854720</td>\n",
       "      <td>0.856518</td>\n",
       "      <td>0.90125</td>\n",
       "    </tr>\n",
       "    <tr>\n",
       "      <th>6</th>\n",
       "      <td>PAC count</td>\n",
       "      <td>0.882466</td>\n",
       "      <td>0.892019</td>\n",
       "      <td>0.86875</td>\n",
       "    </tr>\n",
       "    <tr>\n",
       "      <th>7</th>\n",
       "      <td>PAC hash</td>\n",
       "      <td>0.915908</td>\n",
       "      <td>0.925117</td>\n",
       "      <td>0.90875</td>\n",
       "    </tr>\n",
       "    <tr>\n",
       "      <th>8</th>\n",
       "      <td>PAC tfidf</td>\n",
       "      <td>0.927783</td>\n",
       "      <td>0.948518</td>\n",
       "      <td>0.93375</td>\n",
       "    </tr>\n",
       "    <tr>\n",
       "      <th>9</th>\n",
       "      <td>PAC on title tfidf</td>\n",
       "      <td>0.774299</td>\n",
       "      <td>0.784711</td>\n",
       "      <td>0.78625</td>\n",
       "    </tr>\n",
       "    <tr>\n",
       "      <th>10</th>\n",
       "      <td>PAC w/o stopwords</td>\n",
       "      <td>0.924970</td>\n",
       "      <td>0.942278</td>\n",
       "      <td>0.93250</td>\n",
       "    </tr>\n",
       "    <tr>\n",
       "      <th>11</th>\n",
       "      <td>PAC w/ porter stemmer</td>\n",
       "      <td>0.767726</td>\n",
       "      <td>0.795632</td>\n",
       "      <td>0.77125</td>\n",
       "    </tr>\n",
       "    <tr>\n",
       "      <th>12</th>\n",
       "      <td>PAC w/ lemmatizer</td>\n",
       "      <td>0.916535</td>\n",
       "      <td>0.925117</td>\n",
       "      <td>0.92750</td>\n",
       "    </tr>\n",
       "    <tr>\n",
       "      <th>13</th>\n",
       "      <td>PAC not lowercase</td>\n",
       "      <td>0.941854</td>\n",
       "      <td>0.954758</td>\n",
       "      <td>0.95375</td>\n",
       "    </tr>\n",
       "    <tr>\n",
       "      <th>14</th>\n",
       "      <td>PAC Tuned</td>\n",
       "      <td>0.947481</td>\n",
       "      <td>0.957878</td>\n",
       "      <td>0.95125</td>\n",
       "    </tr>\n",
       "  </tbody>\n",
       "</table>\n",
       "</div>"
      ],
      "text/plain": [
       "                    Model  CV Score avg  CV Score max  Holdout Score\n",
       "0                baseline      0.877145      0.900156        0.89500\n",
       "1                NB count      0.883401      0.903276        0.89875\n",
       "2                NB tfidf      0.884020      0.915757        0.90625\n",
       "3                RF count      0.860425      0.866833        0.90125\n",
       "4                 RF hash      0.828384      0.830259        0.86375\n",
       "5                RF tfidf      0.854720      0.856518        0.90125\n",
       "6               PAC count      0.882466      0.892019        0.86875\n",
       "7                PAC hash      0.915908      0.925117        0.90875\n",
       "8               PAC tfidf      0.927783      0.948518        0.93375\n",
       "9      PAC on title tfidf      0.774299      0.784711        0.78625\n",
       "10      PAC w/o stopwords      0.924970      0.942278        0.93250\n",
       "11  PAC w/ porter stemmer      0.767726      0.795632        0.77125\n",
       "12      PAC w/ lemmatizer      0.916535      0.925117        0.92750\n",
       "13      PAC not lowercase      0.941854      0.954758        0.95375\n",
       "14              PAC Tuned      0.947481      0.957878        0.95125"
      ]
     },
     "execution_count": 126,
     "metadata": {},
     "output_type": "execute_result"
    }
   ],
   "source": [
    "PAC_N, cv_pact, test_pact = PAC_tuned(train_4,feature='text')\n",
    "\n",
    "all_scores = hp.append_scores(all_scores, 'PAC Tuned', cv_pact, test_pact)\n",
    "all_scores"
   ]
  },
  {
   "cell_type": "markdown",
   "metadata": {},
   "source": [
    "Overall, excessive preprocessing hides valuable information for fake news classification. We also recognized that the most frequent and the most infrequent words distract the algorithm from what is important. At last, while single words are useful for classification, ngrams of up to four words seem to be highly discriminating. Indeed, one can imagine that certain sayings and word sequences are used over and over in fake news."
   ]
  },
  {
   "cell_type": "markdown",
   "metadata": {},
   "source": [
    "## Final Submission"
   ]
  },
  {
   "cell_type": "markdown",
   "metadata": {},
   "source": [
    "Retrain the best model on the entire data and predict on the submission set"
   ]
  },
  {
   "cell_type": "code",
   "execution_count": 127,
   "metadata": {},
   "outputs": [],
   "source": [
    "# passive aggressive classifier\n",
    "def PAC_FINAL(data, selection='tfidf', vectorize_max_df=0.7, vectorize_min_df=4, feature='text'):\n",
    "    # split data\n",
    "    X_train = data['text']\n",
    "    y_train = data['label']\n",
    "    estimators = [   \n",
    "                    ('TF',TfidfVectorizer(stop_words='english', binary=True, lowercase=False,\n",
    "                                          max_df=vectorize_max_df, min_df=vectorize_min_df,\n",
    "                                         norm='l2',sublinear_tf=False, ngram_range = (1, 4))\n",
    "                    ),\n",
    "                    ('PA',PassiveAggressiveClassifier(random_state=666, max_iter=1000, \n",
    "                                                      n_iter_no_change=10, tol=1e-3, \n",
    "                                                      early_stopping=True, loss='squared_hinge',\n",
    "                                                      fit_intercept= False,\n",
    "                                                      validation_fraction=0.1))\n",
    "                ]\n",
    "    pipe = Pipeline(estimators)\n",
    "    param_RF = {\n",
    "                'PA__C': [1]\n",
    "                }\n",
    "    \n",
    "    # apply the estimators and parameters in pipeline\n",
    "    gridPipe = GridSearchCV(pipe, param_RF, cv=5, return_train_score=True)\n",
    "    model = gridPipe.fit(X_train, y_train)\n",
    "    \n",
    "    return model"
   ]
  },
  {
   "cell_type": "code",
   "execution_count": 128,
   "metadata": {},
   "outputs": [],
   "source": [
    "m2 = PAC_FINAL(train_4, feature='text')"
   ]
  },
  {
   "cell_type": "code",
   "execution_count": 181,
   "metadata": {},
   "outputs": [
    {
     "name": "stderr",
     "output_type": "stream",
     "text": [
      "/anaconda3/lib/python3.7/site-packages/ipykernel_launcher.py:4: SettingWithCopyWarning: \n",
      "A value is trying to be set on a copy of a slice from a DataFrame\n",
      "\n",
      "See the caveats in the documentation: http://pandas.pydata.org/pandas-docs/stable/indexing.html#indexing-view-versus-copy\n",
      "  after removing the cwd from sys.path.\n",
      "/anaconda3/lib/python3.7/site-packages/ipykernel_launcher.py:5: SettingWithCopyWarning: \n",
      "A value is trying to be set on a copy of a slice from a DataFrame\n",
      "\n",
      "See the caveats in the documentation: http://pandas.pydata.org/pandas-docs/stable/indexing.html#indexing-view-versus-copy\n",
      "  \"\"\"\n"
     ]
    }
   ],
   "source": [
    "# m2 is the model from the PAC function\n",
    "# to apply the same process on submiss\n",
    "submission['prediction'] = m2.predict(submission['text'])\n",
    "submission.prediction[submission.prediction==0] = 'FAKE'\n",
    "submission.prediction[submission.prediction==1] = 'REAL'\n"
   ]
  },
  {
   "cell_type": "code",
   "execution_count": 182,
   "metadata": {},
   "outputs": [
    {
     "data": {
      "text/html": [
       "<div>\n",
       "<style scoped>\n",
       "    .dataframe tbody tr th:only-of-type {\n",
       "        vertical-align: middle;\n",
       "    }\n",
       "\n",
       "    .dataframe tbody tr th {\n",
       "        vertical-align: top;\n",
       "    }\n",
       "\n",
       "    .dataframe thead th {\n",
       "        text-align: right;\n",
       "    }\n",
       "</style>\n",
       "<table border=\"1\" class=\"dataframe\">\n",
       "  <thead>\n",
       "    <tr style=\"text-align: right;\">\n",
       "      <th></th>\n",
       "      <th>ID</th>\n",
       "      <th>title</th>\n",
       "      <th>text</th>\n",
       "      <th>prediction</th>\n",
       "    </tr>\n",
       "  </thead>\n",
       "  <tbody>\n",
       "    <tr>\n",
       "      <th>0</th>\n",
       "      <td>10498</td>\n",
       "      <td>September New Homes Sales Rise——-Back To 1992 ...</td>\n",
       "      <td>September New Homes Sales Rise Back To 1992 Le...</td>\n",
       "      <td>FAKE</td>\n",
       "    </tr>\n",
       "    <tr>\n",
       "      <th>1</th>\n",
       "      <td>2439</td>\n",
       "      <td>Why The Obamacare Doomsday Cult Can't Admit It...</td>\n",
       "      <td>But when Congress debated and passed the Patie...</td>\n",
       "      <td>REAL</td>\n",
       "    </tr>\n",
       "    <tr>\n",
       "      <th>2</th>\n",
       "      <td>864</td>\n",
       "      <td>Sanders, Cruz resist pressure after NY losses,...</td>\n",
       "      <td>The Bernie Sanders and Ted Cruz campaigns vowe...</td>\n",
       "      <td>REAL</td>\n",
       "    </tr>\n",
       "    <tr>\n",
       "      <th>3</th>\n",
       "      <td>4128</td>\n",
       "      <td>Surviving escaped prisoner likely fatigued and...</td>\n",
       "      <td>Police searching for the second of two escaped...</td>\n",
       "      <td>REAL</td>\n",
       "    </tr>\n",
       "    <tr>\n",
       "      <th>4</th>\n",
       "      <td>662</td>\n",
       "      <td>Clinton and Sanders neck and neck in Californi...</td>\n",
       "      <td>No matter who wins California's 475 delegates ...</td>\n",
       "      <td>REAL</td>\n",
       "    </tr>\n",
       "  </tbody>\n",
       "</table>\n",
       "</div>"
      ],
      "text/plain": [
       "      ID                                              title  \\\n",
       "0  10498  September New Homes Sales Rise——-Back To 1992 ...   \n",
       "1   2439  Why The Obamacare Doomsday Cult Can't Admit It...   \n",
       "2    864  Sanders, Cruz resist pressure after NY losses,...   \n",
       "3   4128  Surviving escaped prisoner likely fatigued and...   \n",
       "4    662  Clinton and Sanders neck and neck in Californi...   \n",
       "\n",
       "                                                text prediction  \n",
       "0  September New Homes Sales Rise Back To 1992 Le...       FAKE  \n",
       "1  But when Congress debated and passed the Patie...       REAL  \n",
       "2  The Bernie Sanders and Ted Cruz campaigns vowe...       REAL  \n",
       "3  Police searching for the second of two escaped...       REAL  \n",
       "4  No matter who wins California's 475 delegates ...       REAL  "
      ]
     },
     "execution_count": 182,
     "metadata": {},
     "output_type": "execute_result"
    }
   ],
   "source": [
    "submission.head()"
   ]
  },
  {
   "cell_type": "code",
   "execution_count": 179,
   "metadata": {},
   "outputs": [],
   "source": [
    "submission[['ID', 'prediction']].to_csv('submission.csv', index = None)"
   ]
  },
  {
   "cell_type": "code",
   "execution_count": null,
   "metadata": {},
   "outputs": [],
   "source": []
  }
 ],
 "metadata": {
  "kernelspec": {
   "display_name": "Python 3",
   "language": "python",
   "name": "python3"
  },
  "language_info": {
   "codemirror_mode": {
    "name": "ipython",
    "version": 3
   },
   "file_extension": ".py",
   "mimetype": "text/x-python",
   "name": "python",
   "nbconvert_exporter": "python",
   "pygments_lexer": "ipython3",
   "version": "3.7.2"
  }
 },
 "nbformat": 4,
 "nbformat_minor": 2
}
